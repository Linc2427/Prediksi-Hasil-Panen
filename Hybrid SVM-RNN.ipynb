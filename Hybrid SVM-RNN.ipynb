{
 "cells": [
  {
   "cell_type": "markdown",
   "id": "1c1a5a6b-e5c7-4dd3-b0c6-a05903c3a8f1",
   "metadata": {},
   "source": [
    "# Hybrid SVM-RNN 3 Layer LSTM"
   ]
  },
  {
   "cell_type": "code",
   "execution_count": null,
   "id": "9dfcc19b-5adf-4ea7-b905-99913b111399",
   "metadata": {},
   "outputs": [],
   "source": [
    "# Misalnya, X_train_svm dan X_test_svm adalah data yang digunakan dalam model SVM sebelumnya\n",
    "# Pelatihan model SVM (seperti yang Anda lakukan sebelumnya)\n",
    "svm = SVR(kernel='linear')\n",
    "svm.fit(X_train_svm, y_train_svm)\n",
    "\n",
    "# Ekstraksi fitur dari model SVM\n",
    "svm_features_train = svm.predict(X_train_svm)\n",
    "svm_features_test = svm.predict(X_test_svm)\n",
    "\n",
    "# Data pelatihan dan pengujian untuk model LSTM\n",
    "# Misalnya, X_train_lstm dan X_test_lstm adalah data asli untuk LSTM\n",
    "X_train_lstm, X_test_lstm, y_train_lstm, y_test_lstm = train_test_split(X, y, test_size=0.2, random_state=42)\n",
    "\n",
    "# Gabungkan fitur LSTM dengan fitur dari SVM\n",
    "X_train_lstm_hybrid = np.hstack((X_train_lstm, svm_features_train.reshape(-1, 1)))\n",
    "X_test_lstm_hybrid = np.hstack((X_test_lstm, svm_features_test.reshape(-1, 1)))\n",
    "\n",
    "# Inisialisasi model LSTM\n",
    "model = Sequential()\n",
    "model.add(LSTM(50, activation='relu', return_sequences=False, input_shape=(X_train_lstm_hybrid.shape[1], 1)))\n",
    "model.add(LSTM(50, activation='relu', return_sequences=True))\n",
    "model.add(Dense(1))\n",
    "\n",
    "# Kompilasi model\n",
    "model.compile(optimizer='adam', loss='mean_squared_error')\n",
    "\n",
    "# Pelatihan model LSTM dengan data asli dan fitur dari SVM\n",
    "model.fit(X_train_lstm_hybrid, y_train_lstm, epochs=100, batch_size=32, validation_data=(X_test_lstm_hybrid, y_test_lstm), verbose=2)\n",
    "\n",
    "# Evaluasi model LSTM\n",
    "y_pred_lstm = model.predict(X_test_lstm_hybrid)\n",
    "mse_lstm = mean_squared_error(y_test_lstm, y_pred_lstm)\n",
    "mae_lstm = mean_absolute_error(y_test_lstm, y_pred_lstm)\n",
    "r2_lstm = r2_score(y_test_lstm, y_pred_lstm)\n",
    "print(f\"Mean Squared Error (MSE) for Hybrid LSTM: {mse_lstm}\")\n",
    "print(f\"Mean Absolute Error (MAE) for Hybrid LSTM: {mae_lstm}\")\n",
    "print(f\"R2 Score for Hybrid LSTM: {r2_lstm}\")\n"
   ]
  },
  {
   "cell_type": "markdown",
   "id": "34c26da5-ec01-4e3b-a03f-4315c885316d",
   "metadata": {},
   "source": [
    "## Plot Hasil Prediksi"
   ]
  },
  {
   "cell_type": "code",
   "execution_count": null,
   "id": "8e506832-e629-4531-9390-afa232b999c0",
   "metadata": {},
   "outputs": [],
   "source": [
    "# Visualisasi data aktual dan prediksi dari model LSTM\n",
    "plt.figure(figsize=(10, 6))\n",
    "plt.plot(y_test_lstm, label='Aktual', marker='o')\n",
    "plt.plot(y_pred_lstm, label='Prediksi LSTM', linestyle='--', marker='x')\n",
    "plt.xlabel('Indeks Data')\n",
    "plt.ylabel('Nilai Target')\n",
    "plt.title('Perbandingan Data Aktual dan Prediksi dari Model LSTM')\n",
    "plt.legend()\n",
    "plt.grid(True)\n",
    "plt.show()"
   ]
  }
 ],
 "metadata": {
  "kernelspec": {
   "display_name": "Python 3 (ipykernel)",
   "language": "python",
   "name": "python3"
  },
  "language_info": {
   "codemirror_mode": {
    "name": "ipython",
    "version": 3
   },
   "file_extension": ".py",
   "mimetype": "text/x-python",
   "name": "python",
   "nbconvert_exporter": "python",
   "pygments_lexer": "ipython3",
   "version": "3.10.12"
  }
 },
 "nbformat": 4,
 "nbformat_minor": 5
}

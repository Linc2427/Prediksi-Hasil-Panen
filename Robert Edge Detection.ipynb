{
 "cells": [
  {
   "cell_type": "code",
   "execution_count": 6,
   "id": "dec3b0ce-b450-4a83-be0e-1196351a5971",
   "metadata": {},
   "outputs": [
    {
     "data": {
      "text/plain": [
       "True"
      ]
     },
     "execution_count": 6,
     "metadata": {},
     "output_type": "execute_result"
    }
   ],
   "source": [
    "import cv2 \n",
    "import numpy as np \n",
    "from scipy import ndimage \n",
    "\n",
    "roberts_cross_v = np.array( [[1, 0 ], \n",
    "\t\t\t\t\t\t\t[0,-1 ]] ) \n",
    "\n",
    "roberts_cross_h = np.array( [[ 0, 1 ], \n",
    "\t\t\t\t\t\t\t[ -1, 0 ]] ) \n",
    "\n",
    "img = cv2.imread(\"Dataset/aldrik.jpeg\",0).astype('float64') \n",
    "img/=255.0\n",
    "vertical = ndimage.convolve( img, roberts_cross_v ) \n",
    "horizontal = ndimage.convolve( img, roberts_cross_h ) \n",
    "\n",
    "edged_img = np.sqrt( np.square(horizontal) + np.square(vertical)) \n",
    "edged_img*=255\n",
    "cv2.imwrite(\"Dataset/aldrik-output.jpeg\",edged_img)"
   ]
  },
  {
   "cell_type": "code",
   "execution_count": null,
   "id": "6294c45f-c73d-4fbb-bbd7-fbcff8bf2d43",
   "metadata": {},
   "outputs": [],
   "source": []
  }
 ],
 "metadata": {
  "kernelspec": {
   "display_name": "Python 3 (ipykernel)",
   "language": "python",
   "name": "python3"
  },
  "language_info": {
   "codemirror_mode": {
    "name": "ipython",
    "version": 3
   },
   "file_extension": ".py",
   "mimetype": "text/x-python",
   "name": "python",
   "nbconvert_exporter": "python",
   "pygments_lexer": "ipython3",
   "version": "3.10.12"
  }
 },
 "nbformat": 4,
 "nbformat_minor": 5
}

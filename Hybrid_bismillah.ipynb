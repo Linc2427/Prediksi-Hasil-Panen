{
  "cells": [
    {
      "cell_type": "code",
      "execution_count": 1,
      "metadata": {
        "id": "b389887a-c8e7-4d3c-8d03-b7d246677d93"
      },
      "outputs": [],
      "source": [
        "import pandas as pd\n",
        "import numpy as np\n",
        "import matplotlib.pyplot as plt\n",
        "import seaborn as sns\n",
        "from sklearn.svm import SVR\n",
        "from keras.models import Sequential\n",
        "from keras.layers import Dense,  LSTM\n",
        "from keras import metrics\n",
        "from sklearn.preprocessing import MinMaxScaler\n",
        "from sklearn.model_selection import train_test_split\n",
        "from sklearn.metrics import mean_squared_error\n",
        "from sklearn.metrics import mean_absolute_error\n",
        "from sklearn.metrics import r2_score\n",
        "from sklearn.preprocessing import OneHotEncoder"
      ],
      "id": "b389887a-c8e7-4d3c-8d03-b7d246677d93"
    },
    {
      "cell_type": "code",
      "execution_count": 2,
      "metadata": {
        "id": "9hMN6pJZniHs",
        "colab": {
          "base_uri": "https://localhost:8080/"
        },
        "outputId": "d1aa972e-ca25-48c4-a933-e8599fbb504c"
      },
      "outputs": [
        {
          "output_type": "stream",
          "name": "stdout",
          "text": [
            "Drive already mounted at /content/drive; to attempt to forcibly remount, call drive.mount(\"/content/drive\", force_remount=True).\n"
          ]
        }
      ],
      "source": [
        "from google.colab import drive\n",
        "drive.mount('/content/drive')"
      ],
      "id": "9hMN6pJZniHs"
    },
    {
      "cell_type": "code",
      "execution_count": 3,
      "metadata": {
        "id": "7cfc97b0-1a9b-4227-b2b5-7db4e5ca0b5a"
      },
      "outputs": [],
      "source": [
        "# df_ph = pd.read_csv('Dataset/Ph.csv')\n",
        "# df_kelembapan = pd.read_csv('Dataset/kelembapan.csv')\n",
        "# df_hujan = pd.read_csv('/content/drive/MyDrive/Dataset/curah hujan baru.csv')\n",
        "data = pd.read_csv('/content/drive/MyDrive/Dataset/coba.csv')\n",
        "# df_temp = pd.read_csv('Dataset/suhu tanah.csv')\n",
        "# df_jarak = pd.read_csv('Dataset/jarak tanaman.csv')"
      ],
      "id": "7cfc97b0-1a9b-4227-b2b5-7db4e5ca0b5a"
    },
    {
      "cell_type": "code",
      "execution_count": 4,
      "metadata": {
        "colab": {
          "base_uri": "https://localhost:8080/"
        },
        "id": "fd1e8a7e-c637-45ef-8b93-328b24a24a9e",
        "outputId": "c3de8243-a140-44bc-c1b6-d5a44e1f5015"
      },
      "outputs": [
        {
          "output_type": "execute_result",
          "data": {
            "text/plain": [
              "(60, 6)"
            ]
          },
          "metadata": {},
          "execution_count": 4
        }
      ],
      "source": [
        "data.shape\n",
        "#X= 59 -> input\n",
        "#y= 6 -> fitur/parameter"
      ],
      "id": "fd1e8a7e-c637-45ef-8b93-328b24a24a9e"
    },
    {
      "cell_type": "code",
      "execution_count": 5,
      "metadata": {
        "colab": {
          "base_uri": "https://localhost:8080/",
          "height": 1000
        },
        "id": "40204504-503d-4d33-b015-63d36ace88c0",
        "outputId": "88a47b71-021b-4fd8-9662-09af68b4384e"
      },
      "outputs": [
        {
          "output_type": "execute_result",
          "data": {
            "text/plain": [
              "    Tahun      Bulan  Luas Lahan  Luas Panen (ha)  Produksi Padi (ton)  \\\n",
              "0    2013    Januari       38111            15.00                90.30   \n",
              "1    2013   Februari       38111          1948.00             11767.87   \n",
              "2    2013      Maret       38111         24877.00            151724.82   \n",
              "3    2013      April       38111          5218.00             32095.92   \n",
              "4    2013        Mei       38111           671.00              3983.73   \n",
              "5    2013       Juni       38111          2591.00             59735.42   \n",
              "6    2013       Juli       38111          2874.00             63961.14   \n",
              "7    2013    Agustus       38111           974.00             17902.15   \n",
              "8    2013  September       38111           671.00             16069.38   \n",
              "9    2013    Oktober       38111          1581.00              9797.46   \n",
              "10   2013   November       38111           891.00              6504.30   \n",
              "11   2013   Desember       38111            97.00               630.50   \n",
              "12   2014    Januari       38200           302.16              1988.21   \n",
              "13   2014   Februari       38200          2707.72             17925.11   \n",
              "14   2014      Maret       38200         21900.53            145529.02   \n",
              "15   2014      April       38200          6491.00             42535.52   \n",
              "16   2014        Mei       38200          1981.57             12105.41   \n",
              "17   2014       Juni       38200         10696.36             65237.10   \n",
              "18   2014       Juli       38200         10376.66             63868.34   \n",
              "19   2014    Agustus       38200          1713.52             10263.98   \n",
              "20   2014  September       38200          2843.20             16746.45   \n",
              "21   2014    Oktober       38200          2037.12             12801.26   \n",
              "22   2014   November       38200           686.19              4303.10   \n",
              "23   2014   Desember       38200            79.93               498.52   \n",
              "24   2015    Januari       37558            73.00               476.33   \n",
              "25   2015   Februari       37558           720.00              4698.00   \n",
              "26   2015      Maret       37558         22541.00            147080.02   \n",
              "27   2015      April       37558          6775.00             44206.87   \n",
              "28   2015        Mei       37558          1742.00             11366.55   \n",
              "29   2015       Juni       37558         11359.00             74117.47   \n",
              "30   2015       Juli       37558          8454.00             55162.35   \n",
              "31   2015    Agustus       37558          3229.00             21069.22   \n",
              "32   2015  September       37558          2623.00             17115.07   \n",
              "33   2015    Oktober       37558           416.00              2714.40   \n",
              "34   2015   November       37558          2928.00             19105.20   \n",
              "35   2015   Desember       37558            58.00               378.45   \n",
              "36   2016    Januari       38053           268.00              1726.20   \n",
              "37   2016   Februari       38053           962.00              6253.20   \n",
              "38   2016      Maret       38053         24524.40            154993.60   \n",
              "39   2016      April       38053          7582.20             46114.90   \n",
              "40   2016        Mei       38053           903.50              5805.30   \n",
              "41   2016       Juni       38053         10279.20             66146.60   \n",
              "42   2016       Juli       38053         11016.10             70568.90   \n",
              "43   2016    Agustus       38053          4300.40             26339.80   \n",
              "44   2016  September       38053          1517.60              9721.80   \n",
              "45   2016    Oktober       38053          1228.10              7921.40   \n",
              "46   2016   November       38053          3410.50             22110.10   \n",
              "47   2016   Desember       38053           313.90              2010.90   \n",
              "48   2017    Januari       35779          1014.60              6963.00   \n",
              "49   2017   Februari       35779         16619.60            114260.00   \n",
              "50   2017      Maret       35779         13043.10             86737.00   \n",
              "51   2017      April       35779          2602.30             17318.00   \n",
              "52   2017        Mei       35779          7856.20             49808.00   \n",
              "53   2017       Juni       35779         10200.20             63853.00   \n",
              "54   2017       Juli       35779          5387.10             33696.00   \n",
              "55   2017    Agustus       35779          3822.90             23817.00   \n",
              "56   2017  September       35779          2807.10             18106.00   \n",
              "57   2017    Oktober       35779          2776.90             18508.00   \n",
              "58   2017   November       35779          1558.70             10568.00   \n",
              "59   2017   Desember       35779           274.90              1864.00   \n",
              "\n",
              "    curah hujan  \n",
              "0        343.70  \n",
              "1        201.10  \n",
              "2        262.80  \n",
              "3        197.20  \n",
              "4        206.70  \n",
              "5        128.00  \n",
              "6         91.70  \n",
              "7         35.00  \n",
              "8          0.00  \n",
              "9         15.06  \n",
              "10       161.80  \n",
              "11       350.30  \n",
              "12       373.70  \n",
              "13       243.40  \n",
              "14       319.60  \n",
              "15       316.10  \n",
              "16       202.00  \n",
              "17       224.40  \n",
              "18       171.50  \n",
              "19         4.00  \n",
              "20         0.00  \n",
              "21         0.00  \n",
              "22         0.00  \n",
              "23         0.00  \n",
              "24       270.00  \n",
              "25       324.00  \n",
              "26       259.00  \n",
              "27       225.00  \n",
              "28        77.00  \n",
              "29         0.00  \n",
              "30         0.00  \n",
              "31         0.00  \n",
              "32         0.00  \n",
              "33         0.00  \n",
              "34        63.00  \n",
              "35       125.00  \n",
              "36       224.00  \n",
              "37       308.00  \n",
              "38       266.00  \n",
              "39       224.00  \n",
              "40       266.00  \n",
              "41       238.00  \n",
              "42       224.00  \n",
              "43       140.00  \n",
              "44       266.00  \n",
              "45       322.00  \n",
              "46       224.00  \n",
              "47       224.00  \n",
              "48       220.00  \n",
              "49       290.00  \n",
              "50       298.00  \n",
              "51       223.00  \n",
              "52       199.00  \n",
              "53       169.00  \n",
              "54       178.00  \n",
              "55       261.00  \n",
              "56         0.00  \n",
              "57         0.00  \n",
              "58       370.00  \n",
              "59       178.00  "
            ],
            "text/html": [
              "\n",
              "  <div id=\"df-79f67fd5-8c1f-4e09-b03d-7cf448c24dc0\" class=\"colab-df-container\">\n",
              "    <div>\n",
              "<style scoped>\n",
              "    .dataframe tbody tr th:only-of-type {\n",
              "        vertical-align: middle;\n",
              "    }\n",
              "\n",
              "    .dataframe tbody tr th {\n",
              "        vertical-align: top;\n",
              "    }\n",
              "\n",
              "    .dataframe thead th {\n",
              "        text-align: right;\n",
              "    }\n",
              "</style>\n",
              "<table border=\"1\" class=\"dataframe\">\n",
              "  <thead>\n",
              "    <tr style=\"text-align: right;\">\n",
              "      <th></th>\n",
              "      <th>Tahun</th>\n",
              "      <th>Bulan</th>\n",
              "      <th>Luas Lahan</th>\n",
              "      <th>Luas Panen (ha)</th>\n",
              "      <th>Produksi Padi (ton)</th>\n",
              "      <th>curah hujan</th>\n",
              "    </tr>\n",
              "  </thead>\n",
              "  <tbody>\n",
              "    <tr>\n",
              "      <th>0</th>\n",
              "      <td>2013</td>\n",
              "      <td>Januari</td>\n",
              "      <td>38111</td>\n",
              "      <td>15.00</td>\n",
              "      <td>90.30</td>\n",
              "      <td>343.70</td>\n",
              "    </tr>\n",
              "    <tr>\n",
              "      <th>1</th>\n",
              "      <td>2013</td>\n",
              "      <td>Februari</td>\n",
              "      <td>38111</td>\n",
              "      <td>1948.00</td>\n",
              "      <td>11767.87</td>\n",
              "      <td>201.10</td>\n",
              "    </tr>\n",
              "    <tr>\n",
              "      <th>2</th>\n",
              "      <td>2013</td>\n",
              "      <td>Maret</td>\n",
              "      <td>38111</td>\n",
              "      <td>24877.00</td>\n",
              "      <td>151724.82</td>\n",
              "      <td>262.80</td>\n",
              "    </tr>\n",
              "    <tr>\n",
              "      <th>3</th>\n",
              "      <td>2013</td>\n",
              "      <td>April</td>\n",
              "      <td>38111</td>\n",
              "      <td>5218.00</td>\n",
              "      <td>32095.92</td>\n",
              "      <td>197.20</td>\n",
              "    </tr>\n",
              "    <tr>\n",
              "      <th>4</th>\n",
              "      <td>2013</td>\n",
              "      <td>Mei</td>\n",
              "      <td>38111</td>\n",
              "      <td>671.00</td>\n",
              "      <td>3983.73</td>\n",
              "      <td>206.70</td>\n",
              "    </tr>\n",
              "    <tr>\n",
              "      <th>5</th>\n",
              "      <td>2013</td>\n",
              "      <td>Juni</td>\n",
              "      <td>38111</td>\n",
              "      <td>2591.00</td>\n",
              "      <td>59735.42</td>\n",
              "      <td>128.00</td>\n",
              "    </tr>\n",
              "    <tr>\n",
              "      <th>6</th>\n",
              "      <td>2013</td>\n",
              "      <td>Juli</td>\n",
              "      <td>38111</td>\n",
              "      <td>2874.00</td>\n",
              "      <td>63961.14</td>\n",
              "      <td>91.70</td>\n",
              "    </tr>\n",
              "    <tr>\n",
              "      <th>7</th>\n",
              "      <td>2013</td>\n",
              "      <td>Agustus</td>\n",
              "      <td>38111</td>\n",
              "      <td>974.00</td>\n",
              "      <td>17902.15</td>\n",
              "      <td>35.00</td>\n",
              "    </tr>\n",
              "    <tr>\n",
              "      <th>8</th>\n",
              "      <td>2013</td>\n",
              "      <td>September</td>\n",
              "      <td>38111</td>\n",
              "      <td>671.00</td>\n",
              "      <td>16069.38</td>\n",
              "      <td>0.00</td>\n",
              "    </tr>\n",
              "    <tr>\n",
              "      <th>9</th>\n",
              "      <td>2013</td>\n",
              "      <td>Oktober</td>\n",
              "      <td>38111</td>\n",
              "      <td>1581.00</td>\n",
              "      <td>9797.46</td>\n",
              "      <td>15.06</td>\n",
              "    </tr>\n",
              "    <tr>\n",
              "      <th>10</th>\n",
              "      <td>2013</td>\n",
              "      <td>November</td>\n",
              "      <td>38111</td>\n",
              "      <td>891.00</td>\n",
              "      <td>6504.30</td>\n",
              "      <td>161.80</td>\n",
              "    </tr>\n",
              "    <tr>\n",
              "      <th>11</th>\n",
              "      <td>2013</td>\n",
              "      <td>Desember</td>\n",
              "      <td>38111</td>\n",
              "      <td>97.00</td>\n",
              "      <td>630.50</td>\n",
              "      <td>350.30</td>\n",
              "    </tr>\n",
              "    <tr>\n",
              "      <th>12</th>\n",
              "      <td>2014</td>\n",
              "      <td>Januari</td>\n",
              "      <td>38200</td>\n",
              "      <td>302.16</td>\n",
              "      <td>1988.21</td>\n",
              "      <td>373.70</td>\n",
              "    </tr>\n",
              "    <tr>\n",
              "      <th>13</th>\n",
              "      <td>2014</td>\n",
              "      <td>Februari</td>\n",
              "      <td>38200</td>\n",
              "      <td>2707.72</td>\n",
              "      <td>17925.11</td>\n",
              "      <td>243.40</td>\n",
              "    </tr>\n",
              "    <tr>\n",
              "      <th>14</th>\n",
              "      <td>2014</td>\n",
              "      <td>Maret</td>\n",
              "      <td>38200</td>\n",
              "      <td>21900.53</td>\n",
              "      <td>145529.02</td>\n",
              "      <td>319.60</td>\n",
              "    </tr>\n",
              "    <tr>\n",
              "      <th>15</th>\n",
              "      <td>2014</td>\n",
              "      <td>April</td>\n",
              "      <td>38200</td>\n",
              "      <td>6491.00</td>\n",
              "      <td>42535.52</td>\n",
              "      <td>316.10</td>\n",
              "    </tr>\n",
              "    <tr>\n",
              "      <th>16</th>\n",
              "      <td>2014</td>\n",
              "      <td>Mei</td>\n",
              "      <td>38200</td>\n",
              "      <td>1981.57</td>\n",
              "      <td>12105.41</td>\n",
              "      <td>202.00</td>\n",
              "    </tr>\n",
              "    <tr>\n",
              "      <th>17</th>\n",
              "      <td>2014</td>\n",
              "      <td>Juni</td>\n",
              "      <td>38200</td>\n",
              "      <td>10696.36</td>\n",
              "      <td>65237.10</td>\n",
              "      <td>224.40</td>\n",
              "    </tr>\n",
              "    <tr>\n",
              "      <th>18</th>\n",
              "      <td>2014</td>\n",
              "      <td>Juli</td>\n",
              "      <td>38200</td>\n",
              "      <td>10376.66</td>\n",
              "      <td>63868.34</td>\n",
              "      <td>171.50</td>\n",
              "    </tr>\n",
              "    <tr>\n",
              "      <th>19</th>\n",
              "      <td>2014</td>\n",
              "      <td>Agustus</td>\n",
              "      <td>38200</td>\n",
              "      <td>1713.52</td>\n",
              "      <td>10263.98</td>\n",
              "      <td>4.00</td>\n",
              "    </tr>\n",
              "    <tr>\n",
              "      <th>20</th>\n",
              "      <td>2014</td>\n",
              "      <td>September</td>\n",
              "      <td>38200</td>\n",
              "      <td>2843.20</td>\n",
              "      <td>16746.45</td>\n",
              "      <td>0.00</td>\n",
              "    </tr>\n",
              "    <tr>\n",
              "      <th>21</th>\n",
              "      <td>2014</td>\n",
              "      <td>Oktober</td>\n",
              "      <td>38200</td>\n",
              "      <td>2037.12</td>\n",
              "      <td>12801.26</td>\n",
              "      <td>0.00</td>\n",
              "    </tr>\n",
              "    <tr>\n",
              "      <th>22</th>\n",
              "      <td>2014</td>\n",
              "      <td>November</td>\n",
              "      <td>38200</td>\n",
              "      <td>686.19</td>\n",
              "      <td>4303.10</td>\n",
              "      <td>0.00</td>\n",
              "    </tr>\n",
              "    <tr>\n",
              "      <th>23</th>\n",
              "      <td>2014</td>\n",
              "      <td>Desember</td>\n",
              "      <td>38200</td>\n",
              "      <td>79.93</td>\n",
              "      <td>498.52</td>\n",
              "      <td>0.00</td>\n",
              "    </tr>\n",
              "    <tr>\n",
              "      <th>24</th>\n",
              "      <td>2015</td>\n",
              "      <td>Januari</td>\n",
              "      <td>37558</td>\n",
              "      <td>73.00</td>\n",
              "      <td>476.33</td>\n",
              "      <td>270.00</td>\n",
              "    </tr>\n",
              "    <tr>\n",
              "      <th>25</th>\n",
              "      <td>2015</td>\n",
              "      <td>Februari</td>\n",
              "      <td>37558</td>\n",
              "      <td>720.00</td>\n",
              "      <td>4698.00</td>\n",
              "      <td>324.00</td>\n",
              "    </tr>\n",
              "    <tr>\n",
              "      <th>26</th>\n",
              "      <td>2015</td>\n",
              "      <td>Maret</td>\n",
              "      <td>37558</td>\n",
              "      <td>22541.00</td>\n",
              "      <td>147080.02</td>\n",
              "      <td>259.00</td>\n",
              "    </tr>\n",
              "    <tr>\n",
              "      <th>27</th>\n",
              "      <td>2015</td>\n",
              "      <td>April</td>\n",
              "      <td>37558</td>\n",
              "      <td>6775.00</td>\n",
              "      <td>44206.87</td>\n",
              "      <td>225.00</td>\n",
              "    </tr>\n",
              "    <tr>\n",
              "      <th>28</th>\n",
              "      <td>2015</td>\n",
              "      <td>Mei</td>\n",
              "      <td>37558</td>\n",
              "      <td>1742.00</td>\n",
              "      <td>11366.55</td>\n",
              "      <td>77.00</td>\n",
              "    </tr>\n",
              "    <tr>\n",
              "      <th>29</th>\n",
              "      <td>2015</td>\n",
              "      <td>Juni</td>\n",
              "      <td>37558</td>\n",
              "      <td>11359.00</td>\n",
              "      <td>74117.47</td>\n",
              "      <td>0.00</td>\n",
              "    </tr>\n",
              "    <tr>\n",
              "      <th>30</th>\n",
              "      <td>2015</td>\n",
              "      <td>Juli</td>\n",
              "      <td>37558</td>\n",
              "      <td>8454.00</td>\n",
              "      <td>55162.35</td>\n",
              "      <td>0.00</td>\n",
              "    </tr>\n",
              "    <tr>\n",
              "      <th>31</th>\n",
              "      <td>2015</td>\n",
              "      <td>Agustus</td>\n",
              "      <td>37558</td>\n",
              "      <td>3229.00</td>\n",
              "      <td>21069.22</td>\n",
              "      <td>0.00</td>\n",
              "    </tr>\n",
              "    <tr>\n",
              "      <th>32</th>\n",
              "      <td>2015</td>\n",
              "      <td>September</td>\n",
              "      <td>37558</td>\n",
              "      <td>2623.00</td>\n",
              "      <td>17115.07</td>\n",
              "      <td>0.00</td>\n",
              "    </tr>\n",
              "    <tr>\n",
              "      <th>33</th>\n",
              "      <td>2015</td>\n",
              "      <td>Oktober</td>\n",
              "      <td>37558</td>\n",
              "      <td>416.00</td>\n",
              "      <td>2714.40</td>\n",
              "      <td>0.00</td>\n",
              "    </tr>\n",
              "    <tr>\n",
              "      <th>34</th>\n",
              "      <td>2015</td>\n",
              "      <td>November</td>\n",
              "      <td>37558</td>\n",
              "      <td>2928.00</td>\n",
              "      <td>19105.20</td>\n",
              "      <td>63.00</td>\n",
              "    </tr>\n",
              "    <tr>\n",
              "      <th>35</th>\n",
              "      <td>2015</td>\n",
              "      <td>Desember</td>\n",
              "      <td>37558</td>\n",
              "      <td>58.00</td>\n",
              "      <td>378.45</td>\n",
              "      <td>125.00</td>\n",
              "    </tr>\n",
              "    <tr>\n",
              "      <th>36</th>\n",
              "      <td>2016</td>\n",
              "      <td>Januari</td>\n",
              "      <td>38053</td>\n",
              "      <td>268.00</td>\n",
              "      <td>1726.20</td>\n",
              "      <td>224.00</td>\n",
              "    </tr>\n",
              "    <tr>\n",
              "      <th>37</th>\n",
              "      <td>2016</td>\n",
              "      <td>Februari</td>\n",
              "      <td>38053</td>\n",
              "      <td>962.00</td>\n",
              "      <td>6253.20</td>\n",
              "      <td>308.00</td>\n",
              "    </tr>\n",
              "    <tr>\n",
              "      <th>38</th>\n",
              "      <td>2016</td>\n",
              "      <td>Maret</td>\n",
              "      <td>38053</td>\n",
              "      <td>24524.40</td>\n",
              "      <td>154993.60</td>\n",
              "      <td>266.00</td>\n",
              "    </tr>\n",
              "    <tr>\n",
              "      <th>39</th>\n",
              "      <td>2016</td>\n",
              "      <td>April</td>\n",
              "      <td>38053</td>\n",
              "      <td>7582.20</td>\n",
              "      <td>46114.90</td>\n",
              "      <td>224.00</td>\n",
              "    </tr>\n",
              "    <tr>\n",
              "      <th>40</th>\n",
              "      <td>2016</td>\n",
              "      <td>Mei</td>\n",
              "      <td>38053</td>\n",
              "      <td>903.50</td>\n",
              "      <td>5805.30</td>\n",
              "      <td>266.00</td>\n",
              "    </tr>\n",
              "    <tr>\n",
              "      <th>41</th>\n",
              "      <td>2016</td>\n",
              "      <td>Juni</td>\n",
              "      <td>38053</td>\n",
              "      <td>10279.20</td>\n",
              "      <td>66146.60</td>\n",
              "      <td>238.00</td>\n",
              "    </tr>\n",
              "    <tr>\n",
              "      <th>42</th>\n",
              "      <td>2016</td>\n",
              "      <td>Juli</td>\n",
              "      <td>38053</td>\n",
              "      <td>11016.10</td>\n",
              "      <td>70568.90</td>\n",
              "      <td>224.00</td>\n",
              "    </tr>\n",
              "    <tr>\n",
              "      <th>43</th>\n",
              "      <td>2016</td>\n",
              "      <td>Agustus</td>\n",
              "      <td>38053</td>\n",
              "      <td>4300.40</td>\n",
              "      <td>26339.80</td>\n",
              "      <td>140.00</td>\n",
              "    </tr>\n",
              "    <tr>\n",
              "      <th>44</th>\n",
              "      <td>2016</td>\n",
              "      <td>September</td>\n",
              "      <td>38053</td>\n",
              "      <td>1517.60</td>\n",
              "      <td>9721.80</td>\n",
              "      <td>266.00</td>\n",
              "    </tr>\n",
              "    <tr>\n",
              "      <th>45</th>\n",
              "      <td>2016</td>\n",
              "      <td>Oktober</td>\n",
              "      <td>38053</td>\n",
              "      <td>1228.10</td>\n",
              "      <td>7921.40</td>\n",
              "      <td>322.00</td>\n",
              "    </tr>\n",
              "    <tr>\n",
              "      <th>46</th>\n",
              "      <td>2016</td>\n",
              "      <td>November</td>\n",
              "      <td>38053</td>\n",
              "      <td>3410.50</td>\n",
              "      <td>22110.10</td>\n",
              "      <td>224.00</td>\n",
              "    </tr>\n",
              "    <tr>\n",
              "      <th>47</th>\n",
              "      <td>2016</td>\n",
              "      <td>Desember</td>\n",
              "      <td>38053</td>\n",
              "      <td>313.90</td>\n",
              "      <td>2010.90</td>\n",
              "      <td>224.00</td>\n",
              "    </tr>\n",
              "    <tr>\n",
              "      <th>48</th>\n",
              "      <td>2017</td>\n",
              "      <td>Januari</td>\n",
              "      <td>35779</td>\n",
              "      <td>1014.60</td>\n",
              "      <td>6963.00</td>\n",
              "      <td>220.00</td>\n",
              "    </tr>\n",
              "    <tr>\n",
              "      <th>49</th>\n",
              "      <td>2017</td>\n",
              "      <td>Februari</td>\n",
              "      <td>35779</td>\n",
              "      <td>16619.60</td>\n",
              "      <td>114260.00</td>\n",
              "      <td>290.00</td>\n",
              "    </tr>\n",
              "    <tr>\n",
              "      <th>50</th>\n",
              "      <td>2017</td>\n",
              "      <td>Maret</td>\n",
              "      <td>35779</td>\n",
              "      <td>13043.10</td>\n",
              "      <td>86737.00</td>\n",
              "      <td>298.00</td>\n",
              "    </tr>\n",
              "    <tr>\n",
              "      <th>51</th>\n",
              "      <td>2017</td>\n",
              "      <td>April</td>\n",
              "      <td>35779</td>\n",
              "      <td>2602.30</td>\n",
              "      <td>17318.00</td>\n",
              "      <td>223.00</td>\n",
              "    </tr>\n",
              "    <tr>\n",
              "      <th>52</th>\n",
              "      <td>2017</td>\n",
              "      <td>Mei</td>\n",
              "      <td>35779</td>\n",
              "      <td>7856.20</td>\n",
              "      <td>49808.00</td>\n",
              "      <td>199.00</td>\n",
              "    </tr>\n",
              "    <tr>\n",
              "      <th>53</th>\n",
              "      <td>2017</td>\n",
              "      <td>Juni</td>\n",
              "      <td>35779</td>\n",
              "      <td>10200.20</td>\n",
              "      <td>63853.00</td>\n",
              "      <td>169.00</td>\n",
              "    </tr>\n",
              "    <tr>\n",
              "      <th>54</th>\n",
              "      <td>2017</td>\n",
              "      <td>Juli</td>\n",
              "      <td>35779</td>\n",
              "      <td>5387.10</td>\n",
              "      <td>33696.00</td>\n",
              "      <td>178.00</td>\n",
              "    </tr>\n",
              "    <tr>\n",
              "      <th>55</th>\n",
              "      <td>2017</td>\n",
              "      <td>Agustus</td>\n",
              "      <td>35779</td>\n",
              "      <td>3822.90</td>\n",
              "      <td>23817.00</td>\n",
              "      <td>261.00</td>\n",
              "    </tr>\n",
              "    <tr>\n",
              "      <th>56</th>\n",
              "      <td>2017</td>\n",
              "      <td>September</td>\n",
              "      <td>35779</td>\n",
              "      <td>2807.10</td>\n",
              "      <td>18106.00</td>\n",
              "      <td>0.00</td>\n",
              "    </tr>\n",
              "    <tr>\n",
              "      <th>57</th>\n",
              "      <td>2017</td>\n",
              "      <td>Oktober</td>\n",
              "      <td>35779</td>\n",
              "      <td>2776.90</td>\n",
              "      <td>18508.00</td>\n",
              "      <td>0.00</td>\n",
              "    </tr>\n",
              "    <tr>\n",
              "      <th>58</th>\n",
              "      <td>2017</td>\n",
              "      <td>November</td>\n",
              "      <td>35779</td>\n",
              "      <td>1558.70</td>\n",
              "      <td>10568.00</td>\n",
              "      <td>370.00</td>\n",
              "    </tr>\n",
              "    <tr>\n",
              "      <th>59</th>\n",
              "      <td>2017</td>\n",
              "      <td>Desember</td>\n",
              "      <td>35779</td>\n",
              "      <td>274.90</td>\n",
              "      <td>1864.00</td>\n",
              "      <td>178.00</td>\n",
              "    </tr>\n",
              "  </tbody>\n",
              "</table>\n",
              "</div>\n",
              "    <div class=\"colab-df-buttons\">\n",
              "\n",
              "  <div class=\"colab-df-container\">\n",
              "    <button class=\"colab-df-convert\" onclick=\"convertToInteractive('df-79f67fd5-8c1f-4e09-b03d-7cf448c24dc0')\"\n",
              "            title=\"Convert this dataframe to an interactive table.\"\n",
              "            style=\"display:none;\">\n",
              "\n",
              "  <svg xmlns=\"http://www.w3.org/2000/svg\" height=\"24px\" viewBox=\"0 -960 960 960\">\n",
              "    <path d=\"M120-120v-720h720v720H120Zm60-500h600v-160H180v160Zm220 220h160v-160H400v160Zm0 220h160v-160H400v160ZM180-400h160v-160H180v160Zm440 0h160v-160H620v160ZM180-180h160v-160H180v160Zm440 0h160v-160H620v160Z\"/>\n",
              "  </svg>\n",
              "    </button>\n",
              "\n",
              "  <style>\n",
              "    .colab-df-container {\n",
              "      display:flex;\n",
              "      gap: 12px;\n",
              "    }\n",
              "\n",
              "    .colab-df-convert {\n",
              "      background-color: #E8F0FE;\n",
              "      border: none;\n",
              "      border-radius: 50%;\n",
              "      cursor: pointer;\n",
              "      display: none;\n",
              "      fill: #1967D2;\n",
              "      height: 32px;\n",
              "      padding: 0 0 0 0;\n",
              "      width: 32px;\n",
              "    }\n",
              "\n",
              "    .colab-df-convert:hover {\n",
              "      background-color: #E2EBFA;\n",
              "      box-shadow: 0px 1px 2px rgba(60, 64, 67, 0.3), 0px 1px 3px 1px rgba(60, 64, 67, 0.15);\n",
              "      fill: #174EA6;\n",
              "    }\n",
              "\n",
              "    .colab-df-buttons div {\n",
              "      margin-bottom: 4px;\n",
              "    }\n",
              "\n",
              "    [theme=dark] .colab-df-convert {\n",
              "      background-color: #3B4455;\n",
              "      fill: #D2E3FC;\n",
              "    }\n",
              "\n",
              "    [theme=dark] .colab-df-convert:hover {\n",
              "      background-color: #434B5C;\n",
              "      box-shadow: 0px 1px 3px 1px rgba(0, 0, 0, 0.15);\n",
              "      filter: drop-shadow(0px 1px 2px rgba(0, 0, 0, 0.3));\n",
              "      fill: #FFFFFF;\n",
              "    }\n",
              "  </style>\n",
              "\n",
              "    <script>\n",
              "      const buttonEl =\n",
              "        document.querySelector('#df-79f67fd5-8c1f-4e09-b03d-7cf448c24dc0 button.colab-df-convert');\n",
              "      buttonEl.style.display =\n",
              "        google.colab.kernel.accessAllowed ? 'block' : 'none';\n",
              "\n",
              "      async function convertToInteractive(key) {\n",
              "        const element = document.querySelector('#df-79f67fd5-8c1f-4e09-b03d-7cf448c24dc0');\n",
              "        const dataTable =\n",
              "          await google.colab.kernel.invokeFunction('convertToInteractive',\n",
              "                                                    [key], {});\n",
              "        if (!dataTable) return;\n",
              "\n",
              "        const docLinkHtml = 'Like what you see? Visit the ' +\n",
              "          '<a target=\"_blank\" href=https://colab.research.google.com/notebooks/data_table.ipynb>data table notebook</a>'\n",
              "          + ' to learn more about interactive tables.';\n",
              "        element.innerHTML = '';\n",
              "        dataTable['output_type'] = 'display_data';\n",
              "        await google.colab.output.renderOutput(dataTable, element);\n",
              "        const docLink = document.createElement('div');\n",
              "        docLink.innerHTML = docLinkHtml;\n",
              "        element.appendChild(docLink);\n",
              "      }\n",
              "    </script>\n",
              "  </div>\n",
              "\n",
              "\n",
              "<div id=\"df-91367817-6fe4-4c4f-bb34-653f30f974ec\">\n",
              "  <button class=\"colab-df-quickchart\" onclick=\"quickchart('df-91367817-6fe4-4c4f-bb34-653f30f974ec')\"\n",
              "            title=\"Suggest charts\"\n",
              "            style=\"display:none;\">\n",
              "\n",
              "<svg xmlns=\"http://www.w3.org/2000/svg\" height=\"24px\"viewBox=\"0 0 24 24\"\n",
              "     width=\"24px\">\n",
              "    <g>\n",
              "        <path d=\"M19 3H5c-1.1 0-2 .9-2 2v14c0 1.1.9 2 2 2h14c1.1 0 2-.9 2-2V5c0-1.1-.9-2-2-2zM9 17H7v-7h2v7zm4 0h-2V7h2v10zm4 0h-2v-4h2v4z\"/>\n",
              "    </g>\n",
              "</svg>\n",
              "  </button>\n",
              "\n",
              "<style>\n",
              "  .colab-df-quickchart {\n",
              "      --bg-color: #E8F0FE;\n",
              "      --fill-color: #1967D2;\n",
              "      --hover-bg-color: #E2EBFA;\n",
              "      --hover-fill-color: #174EA6;\n",
              "      --disabled-fill-color: #AAA;\n",
              "      --disabled-bg-color: #DDD;\n",
              "  }\n",
              "\n",
              "  [theme=dark] .colab-df-quickchart {\n",
              "      --bg-color: #3B4455;\n",
              "      --fill-color: #D2E3FC;\n",
              "      --hover-bg-color: #434B5C;\n",
              "      --hover-fill-color: #FFFFFF;\n",
              "      --disabled-bg-color: #3B4455;\n",
              "      --disabled-fill-color: #666;\n",
              "  }\n",
              "\n",
              "  .colab-df-quickchart {\n",
              "    background-color: var(--bg-color);\n",
              "    border: none;\n",
              "    border-radius: 50%;\n",
              "    cursor: pointer;\n",
              "    display: none;\n",
              "    fill: var(--fill-color);\n",
              "    height: 32px;\n",
              "    padding: 0;\n",
              "    width: 32px;\n",
              "  }\n",
              "\n",
              "  .colab-df-quickchart:hover {\n",
              "    background-color: var(--hover-bg-color);\n",
              "    box-shadow: 0 1px 2px rgba(60, 64, 67, 0.3), 0 1px 3px 1px rgba(60, 64, 67, 0.15);\n",
              "    fill: var(--button-hover-fill-color);\n",
              "  }\n",
              "\n",
              "  .colab-df-quickchart-complete:disabled,\n",
              "  .colab-df-quickchart-complete:disabled:hover {\n",
              "    background-color: var(--disabled-bg-color);\n",
              "    fill: var(--disabled-fill-color);\n",
              "    box-shadow: none;\n",
              "  }\n",
              "\n",
              "  .colab-df-spinner {\n",
              "    border: 2px solid var(--fill-color);\n",
              "    border-color: transparent;\n",
              "    border-bottom-color: var(--fill-color);\n",
              "    animation:\n",
              "      spin 1s steps(1) infinite;\n",
              "  }\n",
              "\n",
              "  @keyframes spin {\n",
              "    0% {\n",
              "      border-color: transparent;\n",
              "      border-bottom-color: var(--fill-color);\n",
              "      border-left-color: var(--fill-color);\n",
              "    }\n",
              "    20% {\n",
              "      border-color: transparent;\n",
              "      border-left-color: var(--fill-color);\n",
              "      border-top-color: var(--fill-color);\n",
              "    }\n",
              "    30% {\n",
              "      border-color: transparent;\n",
              "      border-left-color: var(--fill-color);\n",
              "      border-top-color: var(--fill-color);\n",
              "      border-right-color: var(--fill-color);\n",
              "    }\n",
              "    40% {\n",
              "      border-color: transparent;\n",
              "      border-right-color: var(--fill-color);\n",
              "      border-top-color: var(--fill-color);\n",
              "    }\n",
              "    60% {\n",
              "      border-color: transparent;\n",
              "      border-right-color: var(--fill-color);\n",
              "    }\n",
              "    80% {\n",
              "      border-color: transparent;\n",
              "      border-right-color: var(--fill-color);\n",
              "      border-bottom-color: var(--fill-color);\n",
              "    }\n",
              "    90% {\n",
              "      border-color: transparent;\n",
              "      border-bottom-color: var(--fill-color);\n",
              "    }\n",
              "  }\n",
              "</style>\n",
              "\n",
              "  <script>\n",
              "    async function quickchart(key) {\n",
              "      const quickchartButtonEl =\n",
              "        document.querySelector('#' + key + ' button');\n",
              "      quickchartButtonEl.disabled = true;  // To prevent multiple clicks.\n",
              "      quickchartButtonEl.classList.add('colab-df-spinner');\n",
              "      try {\n",
              "        const charts = await google.colab.kernel.invokeFunction(\n",
              "            'suggestCharts', [key], {});\n",
              "      } catch (error) {\n",
              "        console.error('Error during call to suggestCharts:', error);\n",
              "      }\n",
              "      quickchartButtonEl.classList.remove('colab-df-spinner');\n",
              "      quickchartButtonEl.classList.add('colab-df-quickchart-complete');\n",
              "    }\n",
              "    (() => {\n",
              "      let quickchartButtonEl =\n",
              "        document.querySelector('#df-91367817-6fe4-4c4f-bb34-653f30f974ec button');\n",
              "      quickchartButtonEl.style.display =\n",
              "        google.colab.kernel.accessAllowed ? 'block' : 'none';\n",
              "    })();\n",
              "  </script>\n",
              "</div>\n",
              "    </div>\n",
              "  </div>\n"
            ]
          },
          "metadata": {},
          "execution_count": 5
        }
      ],
      "source": [
        "data"
      ],
      "id": "40204504-503d-4d33-b015-63d36ace88c0"
    },
    {
      "cell_type": "code",
      "execution_count": 6,
      "metadata": {
        "id": "a85a55f7-fe8a-49eb-ac03-b9ea3e39e048"
      },
      "outputs": [],
      "source": [
        "## Parameter/Fitur\n",
        "# X = data[['Bulan','curah hujan', 'Luas Panen (ha)','Luas Lahan']]\n",
        "# ## Target\n",
        "# y = data['Produksi Padi (ton)']"
      ],
      "id": "a85a55f7-fe8a-49eb-ac03-b9ea3e39e048"
    },
    {
      "cell_type": "markdown",
      "metadata": {
        "id": "20uVbmHzCEiJ"
      },
      "source": [
        "## Ganti Bulan Ke angka"
      ],
      "id": "20uVbmHzCEiJ"
    },
    {
      "cell_type": "code",
      "execution_count": 7,
      "metadata": {
        "id": "0f89137e-4fc0-435f-8d0b-70bfbb8de144"
      },
      "outputs": [],
      "source": [
        "month_mapping = {\n",
        "    'Januari': 1,\n",
        "    'Februari': 2,\n",
        "    'Maret': 3,\n",
        "    'April': 4,\n",
        "    'Mei': 5,\n",
        "    'Juni': 6,\n",
        "    'Juli': 7,\n",
        "    'Agustus': 8,\n",
        "    'September': 9,\n",
        "    'Oktober': 10,\n",
        "    'November': 11,\n",
        "    'Desember': 12\n",
        "}"
      ],
      "id": "0f89137e-4fc0-435f-8d0b-70bfbb8de144"
    },
    {
      "cell_type": "code",
      "execution_count": 8,
      "metadata": {
        "id": "b635aa80-3a16-4525-b14c-562811986897"
      },
      "outputs": [],
      "source": [
        "data['Bulan'] = data['Bulan'].map(month_mapping)"
      ],
      "id": "b635aa80-3a16-4525-b14c-562811986897"
    },
    {
      "cell_type": "code",
      "source": [
        "# Plotting time series untuk Produksi Padi\n",
        "plt.figure(figsize=(10, 6))\n",
        "for year in data['Tahun'].unique():\n",
        "    data_year = data[data['Tahun'] == year]\n",
        "    plt.plot(data_year['Bulan'], data_year['Produksi Padi (ton)'], marker='o', linestyle='-', label=str(year))\n",
        "\n",
        "plt.title('Produksi Padi per Bulan')\n",
        "plt.xlabel('Bulan')\n",
        "plt.ylabel('Produksi Padi (ton)')\n",
        "plt.grid(True)\n",
        "plt.xticks(data['Bulan'].unique())  # Menampilkan label bulan\n",
        "plt.legend()\n",
        "plt.show()"
      ],
      "metadata": {
        "colab": {
          "base_uri": "https://localhost:8080/",
          "height": 564
        },
        "id": "Sv0oq4LUTqzf",
        "outputId": "b370d3cd-6c3c-42ec-a3ca-d93291fc558c"
      },
      "id": "Sv0oq4LUTqzf",
      "execution_count": 9,
      "outputs": [
        {
          "output_type": "display_data",
          "data": {
            "text/plain": [
              "<Figure size 1000x600 with 1 Axes>"
            ],
            "image/png": "[encoded data removed]"
          },
          "metadata": {}
        }
      ]
    },
    {
      "cell_type": "code",
      "source": [
        "# data = data.drop(columns='Tahun')"
      ],
      "metadata": {
        "id": "Tt4W4VIMVggg"
      },
      "id": "Tt4W4VIMVggg",
      "execution_count": 10,
      "outputs": []
    },
    {
      "cell_type": "code",
      "execution_count": 11,
      "metadata": {
        "colab": {
          "base_uri": "https://localhost:8080/"
        },
        "id": "bSRpuCs9AsFY",
        "outputId": "603e52d3-0674-43b5-9b49-d816b1a1f239"
      },
      "outputs": [
        {
          "output_type": "execute_result",
          "data": {
            "text/plain": [
              "0         90.30\n",
              "1      11767.87\n",
              "2     151724.82\n",
              "3      32095.92\n",
              "4       3983.73\n",
              "5      59735.42\n",
              "6      63961.14\n",
              "7      17902.15\n",
              "8      16069.38\n",
              "9       9797.46\n",
              "10      6504.30\n",
              "11       630.50\n",
              "12      1988.21\n",
              "13     17925.11\n",
              "14    145529.02\n",
              "15     42535.52\n",
              "16     12105.41\n",
              "17     65237.10\n",
              "18     63868.34\n",
              "19     10263.98\n",
              "20     16746.45\n",
              "21     12801.26\n",
              "22      4303.10\n",
              "23       498.52\n",
              "24       476.33\n",
              "25      4698.00\n",
              "26    147080.02\n",
              "27     44206.87\n",
              "28     11366.55\n",
              "29     74117.47\n",
              "30     55162.35\n",
              "31     21069.22\n",
              "32     17115.07\n",
              "33      2714.40\n",
              "34     19105.20\n",
              "35       378.45\n",
              "36      1726.20\n",
              "37      6253.20\n",
              "38    154993.60\n",
              "39     46114.90\n",
              "40      5805.30\n",
              "41     66146.60\n",
              "42     70568.90\n",
              "43     26339.80\n",
              "44      9721.80\n",
              "45      7921.40\n",
              "46     22110.10\n",
              "47      2010.90\n",
              "48      6963.00\n",
              "49    114260.00\n",
              "50     86737.00\n",
              "51     17318.00\n",
              "52     49808.00\n",
              "53     63853.00\n",
              "54     33696.00\n",
              "55     23817.00\n",
              "56     18106.00\n",
              "57     18508.00\n",
              "58     10568.00\n",
              "59      1864.00\n",
              "Name: Produksi Padi (ton), dtype: float64"
            ]
          },
          "metadata": {},
          "execution_count": 11
        }
      ],
      "source": [
        "data.iloc[:,4]"
      ],
      "id": "bSRpuCs9AsFY"
    },
    {
      "cell_type": "code",
      "execution_count": 12,
      "metadata": {
        "colab": {
          "base_uri": "https://localhost:8080/"
        },
        "id": "27019ff6-13c9-4721-aa3d-0f9e6b6d5679",
        "outputId": "b5e97c91-e46d-4a5c-9041-e06d5729eba7"
      },
      "outputs": [
        {
          "output_type": "execute_result",
          "data": {
            "text/plain": [
              "(60, 6)"
            ]
          },
          "metadata": {},
          "execution_count": 12
        }
      ],
      "source": [
        "data.shape"
      ],
      "id": "27019ff6-13c9-4721-aa3d-0f9e6b6d5679"
    },
    {
      "cell_type": "code",
      "execution_count": 13,
      "metadata": {
        "colab": {
          "base_uri": "https://localhost:8080/"
        },
        "id": "d83a4dc2-015a-495e-820e-cb95cee2535f",
        "outputId": "5728d1cc-1fec-48d4-cc85-b21aed2e0323"
      },
      "outputs": [
        {
          "output_type": "execute_result",
          "data": {
            "text/plain": [
              "Tahun                    int64\n",
              "Bulan                    int64\n",
              "Luas Lahan               int64\n",
              "Luas Panen (ha)        float64\n",
              "Produksi Padi (ton)    float64\n",
              "curah hujan            float64\n",
              "dtype: object"
            ]
          },
          "metadata": {},
          "execution_count": 13
        }
      ],
      "source": [
        "data.dtypes"
      ],
      "id": "d83a4dc2-015a-495e-820e-cb95cee2535f"
    },
    {
      "cell_type": "code",
      "execution_count": 14,
      "metadata": {
        "colab": {
          "base_uri": "https://localhost:8080/",
          "height": 1000
        },
        "id": "dcfb3334-aa5e-449b-9a21-0144d8ce7072",
        "outputId": "911c8265-ed43-4e94-d78d-213f458a6605"
      },
      "outputs": [
        {
          "output_type": "execute_result",
          "data": {
            "text/plain": [
              "    Tahun  Bulan  Luas Lahan  Luas Panen (ha)  Produksi Padi (ton)  \\\n",
              "0    2013      1       38111            15.00                90.30   \n",
              "1    2013      2       38111          1948.00             11767.87   \n",
              "2    2013      3       38111         24877.00            151724.82   \n",
              "3    2013      4       38111          5218.00             32095.92   \n",
              "4    2013      5       38111           671.00              3983.73   \n",
              "5    2013      6       38111          2591.00             59735.42   \n",
              "6    2013      7       38111          2874.00             63961.14   \n",
              "7    2013      8       38111           974.00             17902.15   \n",
              "8    2013      9       38111           671.00             16069.38   \n",
              "9    2013     10       38111          1581.00              9797.46   \n",
              "10   2013     11       38111           891.00              6504.30   \n",
              "11   2013     12       38111            97.00               630.50   \n",
              "12   2014      1       38200           302.16              1988.21   \n",
              "13   2014      2       38200          2707.72             17925.11   \n",
              "14   2014      3       38200         21900.53            145529.02   \n",
              "15   2014      4       38200          6491.00             42535.52   \n",
              "16   2014      5       38200          1981.57             12105.41   \n",
              "17   2014      6       38200         10696.36             65237.10   \n",
              "18   2014      7       38200         10376.66             63868.34   \n",
              "19   2014      8       38200          1713.52             10263.98   \n",
              "20   2014      9       38200          2843.20             16746.45   \n",
              "21   2014     10       38200          2037.12             12801.26   \n",
              "22   2014     11       38200           686.19              4303.10   \n",
              "23   2014     12       38200            79.93               498.52   \n",
              "24   2015      1       37558            73.00               476.33   \n",
              "25   2015      2       37558           720.00              4698.00   \n",
              "26   2015      3       37558         22541.00            147080.02   \n",
              "27   2015      4       37558          6775.00             44206.87   \n",
              "28   2015      5       37558          1742.00             11366.55   \n",
              "29   2015      6       37558         11359.00             74117.47   \n",
              "30   2015      7       37558          8454.00             55162.35   \n",
              "31   2015      8       37558          3229.00             21069.22   \n",
              "32   2015      9       37558          2623.00             17115.07   \n",
              "33   2015     10       37558           416.00              2714.40   \n",
              "34   2015     11       37558          2928.00             19105.20   \n",
              "35   2015     12       37558            58.00               378.45   \n",
              "36   2016      1       38053           268.00              1726.20   \n",
              "37   2016      2       38053           962.00              6253.20   \n",
              "38   2016      3       38053         24524.40            154993.60   \n",
              "39   2016      4       38053          7582.20             46114.90   \n",
              "40   2016      5       38053           903.50              5805.30   \n",
              "41   2016      6       38053         10279.20             66146.60   \n",
              "42   2016      7       38053         11016.10             70568.90   \n",
              "43   2016      8       38053          4300.40             26339.80   \n",
              "44   2016      9       38053          1517.60              9721.80   \n",
              "45   2016     10       38053          1228.10              7921.40   \n",
              "46   2016     11       38053          3410.50             22110.10   \n",
              "47   2016     12       38053           313.90              2010.90   \n",
              "48   2017      1       35779          1014.60              6963.00   \n",
              "49   2017      2       35779         16619.60            114260.00   \n",
              "50   2017      3       35779         13043.10             86737.00   \n",
              "51   2017      4       35779          2602.30             17318.00   \n",
              "52   2017      5       35779          7856.20             49808.00   \n",
              "53   2017      6       35779         10200.20             63853.00   \n",
              "54   2017      7       35779          5387.10             33696.00   \n",
              "55   2017      8       35779          3822.90             23817.00   \n",
              "56   2017      9       35779          2807.10             18106.00   \n",
              "57   2017     10       35779          2776.90             18508.00   \n",
              "58   2017     11       35779          1558.70             10568.00   \n",
              "59   2017     12       35779           274.90              1864.00   \n",
              "\n",
              "    curah hujan  \n",
              "0        343.70  \n",
              "1        201.10  \n",
              "2        262.80  \n",
              "3        197.20  \n",
              "4        206.70  \n",
              "5        128.00  \n",
              "6         91.70  \n",
              "7         35.00  \n",
              "8          0.00  \n",
              "9         15.06  \n",
              "10       161.80  \n",
              "11       350.30  \n",
              "12       373.70  \n",
              "13       243.40  \n",
              "14       319.60  \n",
              "15       316.10  \n",
              "16       202.00  \n",
              "17       224.40  \n",
              "18       171.50  \n",
              "19         4.00  \n",
              "20         0.00  \n",
              "21         0.00  \n",
              "22         0.00  \n",
              "23         0.00  \n",
              "24       270.00  \n",
              "25       324.00  \n",
              "26       259.00  \n",
              "27       225.00  \n",
              "28        77.00  \n",
              "29         0.00  \n",
              "30         0.00  \n",
              "31         0.00  \n",
              "32         0.00  \n",
              "33         0.00  \n",
              "34        63.00  \n",
              "35       125.00  \n",
              "36       224.00  \n",
              "37       308.00  \n",
              "38       266.00  \n",
              "39       224.00  \n",
              "40       266.00  \n",
              "41       238.00  \n",
              "42       224.00  \n",
              "43       140.00  \n",
              "44       266.00  \n",
              "45       322.00  \n",
              "46       224.00  \n",
              "47       224.00  \n",
              "48       220.00  \n",
              "49       290.00  \n",
              "50       298.00  \n",
              "51       223.00  \n",
              "52       199.00  \n",
              "53       169.00  \n",
              "54       178.00  \n",
              "55       261.00  \n",
              "56         0.00  \n",
              "57         0.00  \n",
              "58       370.00  \n",
              "59       178.00  "
            ],
            "text/html": [
              "\n",
              "  <div id=\"df-d9d673a9-41c9-4482-bffe-2fed268f520f\" class=\"colab-df-container\">\n",
              "    <div>\n",
              "<style scoped>\n",
              "    .dataframe tbody tr th:only-of-type {\n",
              "        vertical-align: middle;\n",
              "    }\n",
              "\n",
              "    .dataframe tbody tr th {\n",
              "        vertical-align: top;\n",
              "    }\n",
              "\n",
              "    .dataframe thead th {\n",
              "        text-align: right;\n",
              "    }\n",
              "</style>\n",
              "<table border=\"1\" class=\"dataframe\">\n",
              "  <thead>\n",
              "    <tr style=\"text-align: right;\">\n",
              "      <th></th>\n",
              "      <th>Tahun</th>\n",
              "      <th>Bulan</th>\n",
              "      <th>Luas Lahan</th>\n",
              "      <th>Luas Panen (ha)</th>\n",
              "      <th>Produksi Padi (ton)</th>\n",
              "      <th>curah hujan</th>\n",
              "    </tr>\n",
              "  </thead>\n",
              "  <tbody>\n",
              "    <tr>\n",
              "      <th>0</th>\n",
              "      <td>2013</td>\n",
              "      <td>1</td>\n",
              "      <td>38111</td>\n",
              "      <td>15.00</td>\n",
              "      <td>90.30</td>\n",
              "      <td>343.70</td>\n",
              "    </tr>\n",
              "    <tr>\n",
              "      <th>1</th>\n",
              "      <td>2013</td>\n",
              "      <td>2</td>\n",
              "      <td>38111</td>\n",
              "      <td>1948.00</td>\n",
              "      <td>11767.87</td>\n",
              "      <td>201.10</td>\n",
              "    </tr>\n",
              "    <tr>\n",
              "      <th>2</th>\n",
              "      <td>2013</td>\n",
              "      <td>3</td>\n",
              "      <td>38111</td>\n",
              "      <td>24877.00</td>\n",
              "      <td>151724.82</td>\n",
              "      <td>262.80</td>\n",
              "    </tr>\n",
              "    <tr>\n",
              "      <th>3</th>\n",
              "      <td>2013</td>\n",
              "      <td>4</td>\n",
              "      <td>38111</td>\n",
              "      <td>5218.00</td>\n",
              "      <td>32095.92</td>\n",
              "      <td>197.20</td>\n",
              "    </tr>\n",
              "    <tr>\n",
              "      <th>4</th>\n",
              "      <td>2013</td>\n",
              "      <td>5</td>\n",
              "      <td>38111</td>\n",
              "      <td>671.00</td>\n",
              "      <td>3983.73</td>\n",
              "      <td>206.70</td>\n",
              "    </tr>\n",
              "    <tr>\n",
              "      <th>5</th>\n",
              "      <td>2013</td>\n",
              "      <td>6</td>\n",
              "      <td>38111</td>\n",
              "      <td>2591.00</td>\n",
              "      <td>59735.42</td>\n",
              "      <td>128.00</td>\n",
              "    </tr>\n",
              "    <tr>\n",
              "      <th>6</th>\n",
              "      <td>2013</td>\n",
              "      <td>7</td>\n",
              "      <td>38111</td>\n",
              "      <td>2874.00</td>\n",
              "      <td>63961.14</td>\n",
              "      <td>91.70</td>\n",
              "    </tr>\n",
              "    <tr>\n",
              "      <th>7</th>\n",
              "      <td>2013</td>\n",
              "      <td>8</td>\n",
              "      <td>38111</td>\n",
              "      <td>974.00</td>\n",
              "      <td>17902.15</td>\n",
              "      <td>35.00</td>\n",
              "    </tr>\n",
              "    <tr>\n",
              "      <th>8</th>\n",
              "      <td>2013</td>\n",
              "      <td>9</td>\n",
              "      <td>38111</td>\n",
              "      <td>671.00</td>\n",
              "      <td>16069.38</td>\n",
              "      <td>0.00</td>\n",
              "    </tr>\n",
              "    <tr>\n",
              "      <th>9</th>\n",
              "      <td>2013</td>\n",
              "      <td>10</td>\n",
              "      <td>38111</td>\n",
              "      <td>1581.00</td>\n",
              "      <td>9797.46</td>\n",
              "      <td>15.06</td>\n",
              "    </tr>\n",
              "    <tr>\n",
              "      <th>10</th>\n",
              "      <td>2013</td>\n",
              "      <td>11</td>\n",
              "      <td>38111</td>\n",
              "      <td>891.00</td>\n",
              "      <td>6504.30</td>\n",
              "      <td>161.80</td>\n",
              "    </tr>\n",
              "    <tr>\n",
              "      <th>11</th>\n",
              "      <td>2013</td>\n",
              "      <td>12</td>\n",
              "      <td>38111</td>\n",
              "      <td>97.00</td>\n",
              "      <td>630.50</td>\n",
              "      <td>350.30</td>\n",
              "    </tr>\n",
              "    <tr>\n",
              "      <th>12</th>\n",
              "      <td>2014</td>\n",
              "      <td>1</td>\n",
              "      <td>38200</td>\n",
              "      <td>302.16</td>\n",
              "      <td>1988.21</td>\n",
              "      <td>373.70</td>\n",
              "    </tr>\n",
              "    <tr>\n",
              "      <th>13</th>\n",
              "      <td>2014</td>\n",
              "      <td>2</td>\n",
              "      <td>38200</td>\n",
              "      <td>2707.72</td>\n",
              "      <td>17925.11</td>\n",
              "      <td>243.40</td>\n",
              "    </tr>\n",
              "    <tr>\n",
              "      <th>14</th>\n",
              "      <td>2014</td>\n",
              "      <td>3</td>\n",
              "      <td>38200</td>\n",
              "      <td>21900.53</td>\n",
              "      <td>145529.02</td>\n",
              "      <td>319.60</td>\n",
              "    </tr>\n",
              "    <tr>\n",
              "      <th>15</th>\n",
              "      <td>2014</td>\n",
              "      <td>4</td>\n",
              "      <td>38200</td>\n",
              "      <td>6491.00</td>\n",
              "      <td>42535.52</td>\n",
              "      <td>316.10</td>\n",
              "    </tr>\n",
              "    <tr>\n",
              "      <th>16</th>\n",
              "      <td>2014</td>\n",
              "      <td>5</td>\n",
              "      <td>38200</td>\n",
              "      <td>1981.57</td>\n",
              "      <td>12105.41</td>\n",
              "      <td>202.00</td>\n",
              "    </tr>\n",
              "    <tr>\n",
              "      <th>17</th>\n",
              "      <td>2014</td>\n",
              "      <td>6</td>\n",
              "      <td>38200</td>\n",
              "      <td>10696.36</td>\n",
              "      <td>65237.10</td>\n",
              "      <td>224.40</td>\n",
              "    </tr>\n",
              "    <tr>\n",
              "      <th>18</th>\n",
              "      <td>2014</td>\n",
              "      <td>7</td>\n",
              "      <td>38200</td>\n",
              "      <td>10376.66</td>\n",
              "      <td>63868.34</td>\n",
              "      <td>171.50</td>\n",
              "    </tr>\n",
              "    <tr>\n",
              "      <th>19</th>\n",
              "      <td>2014</td>\n",
              "      <td>8</td>\n",
              "      <td>38200</td>\n",
              "      <td>1713.52</td>\n",
              "      <td>10263.98</td>\n",
              "      <td>4.00</td>\n",
              "    </tr>\n",
              "    <tr>\n",
              "      <th>20</th>\n",
              "      <td>2014</td>\n",
              "      <td>9</td>\n",
              "      <td>38200</td>\n",
              "      <td>2843.20</td>\n",
              "      <td>16746.45</td>\n",
              "      <td>0.00</td>\n",
              "    </tr>\n",
              "    <tr>\n",
              "      <th>21</th>\n",
              "      <td>2014</td>\n",
              "      <td>10</td>\n",
              "      <td>38200</td>\n",
              "      <td>2037.12</td>\n",
              "      <td>12801.26</td>\n",
              "      <td>0.00</td>\n",
              "    </tr>\n",
              "    <tr>\n",
              "      <th>22</th>\n",
              "      <td>2014</td>\n",
              "      <td>11</td>\n",
              "      <td>38200</td>\n",
              "      <td>686.19</td>\n",
              "      <td>4303.10</td>\n",
              "      <td>0.00</td>\n",
              "    </tr>\n",
              "    <tr>\n",
              "      <th>23</th>\n",
              "      <td>2014</td>\n",
              "      <td>12</td>\n",
              "      <td>38200</td>\n",
              "      <td>79.93</td>\n",
              "      <td>498.52</td>\n",
              "      <td>0.00</td>\n",
              "    </tr>\n",
              "    <tr>\n",
              "      <th>24</th>\n",
              "      <td>2015</td>\n",
              "      <td>1</td>\n",
              "      <td>37558</td>\n",
              "      <td>73.00</td>\n",
              "      <td>476.33</td>\n",
              "      <td>270.00</td>\n",
              "    </tr>\n",
              "    <tr>\n",
              "      <th>25</th>\n",
              "      <td>2015</td>\n",
              "      <td>2</td>\n",
              "      <td>37558</td>\n",
              "      <td>720.00</td>\n",
              "      <td>4698.00</td>\n",
              "      <td>324.00</td>\n",
              "    </tr>\n",
              "    <tr>\n",
              "      <th>26</th>\n",
              "      <td>2015</td>\n",
              "      <td>3</td>\n",
              "      <td>37558</td>\n",
              "      <td>22541.00</td>\n",
              "      <td>147080.02</td>\n",
              "      <td>259.00</td>\n",
              "    </tr>\n",
              "    <tr>\n",
              "      <th>27</th>\n",
              "      <td>2015</td>\n",
              "      <td>4</td>\n",
              "      <td>37558</td>\n",
              "      <td>6775.00</td>\n",
              "      <td>44206.87</td>\n",
              "      <td>225.00</td>\n",
              "    </tr>\n",
              "    <tr>\n",
              "      <th>28</th>\n",
              "      <td>2015</td>\n",
              "      <td>5</td>\n",
              "      <td>37558</td>\n",
              "      <td>1742.00</td>\n",
              "      <td>11366.55</td>\n",
              "      <td>77.00</td>\n",
              "    </tr>\n",
              "    <tr>\n",
              "      <th>29</th>\n",
              "      <td>2015</td>\n",
              "      <td>6</td>\n",
              "      <td>37558</td>\n",
              "      <td>11359.00</td>\n",
              "      <td>74117.47</td>\n",
              "      <td>0.00</td>\n",
              "    </tr>\n",
              "    <tr>\n",
              "      <th>30</th>\n",
              "      <td>2015</td>\n",
              "      <td>7</td>\n",
              "      <td>37558</td>\n",
              "      <td>8454.00</td>\n",
              "      <td>55162.35</td>\n",
              "      <td>0.00</td>\n",
              "    </tr>\n",
              "    <tr>\n",
              "      <th>31</th>\n",
              "      <td>2015</td>\n",
              "      <td>8</td>\n",
              "      <td>37558</td>\n",
              "      <td>3229.00</td>\n",
              "      <td>21069.22</td>\n",
              "      <td>0.00</td>\n",
              "    </tr>\n",
              "    <tr>\n",
              "      <th>32</th>\n",
              "      <td>2015</td>\n",
              "      <td>9</td>\n",
              "      <td>37558</td>\n",
              "      <td>2623.00</td>\n",
              "      <td>17115.07</td>\n",
              "      <td>0.00</td>\n",
              "    </tr>\n",
              "    <tr>\n",
              "      <th>33</th>\n",
              "      <td>2015</td>\n",
              "      <td>10</td>\n",
              "      <td>37558</td>\n",
              "      <td>416.00</td>\n",
              "      <td>2714.40</td>\n",
              "      <td>0.00</td>\n",
              "    </tr>\n",
              "    <tr>\n",
              "      <th>34</th>\n",
              "      <td>2015</td>\n",
              "      <td>11</td>\n",
              "      <td>37558</td>\n",
              "      <td>2928.00</td>\n",
              "      <td>19105.20</td>\n",
              "      <td>63.00</td>\n",
              "    </tr>\n",
              "    <tr>\n",
              "      <th>35</th>\n",
              "      <td>2015</td>\n",
              "      <td>12</td>\n",
              "      <td>37558</td>\n",
              "      <td>58.00</td>\n",
              "      <td>378.45</td>\n",
              "      <td>125.00</td>\n",
              "    </tr>\n",
              "    <tr>\n",
              "      <th>36</th>\n",
              "      <td>2016</td>\n",
              "      <td>1</td>\n",
              "      <td>38053</td>\n",
              "      <td>268.00</td>\n",
              "      <td>1726.20</td>\n",
              "      <td>224.00</td>\n",
              "    </tr>\n",
              "    <tr>\n",
              "      <th>37</th>\n",
              "      <td>2016</td>\n",
              "      <td>2</td>\n",
              "      <td>38053</td>\n",
              "      <td>962.00</td>\n",
              "      <td>6253.20</td>\n",
              "      <td>308.00</td>\n",
              "    </tr>\n",
              "    <tr>\n",
              "      <th>38</th>\n",
              "      <td>2016</td>\n",
              "      <td>3</td>\n",
              "      <td>38053</td>\n",
              "      <td>24524.40</td>\n",
              "      <td>154993.60</td>\n",
              "      <td>266.00</td>\n",
              "    </tr>\n",
              "    <tr>\n",
              "      <th>39</th>\n",
              "      <td>2016</td>\n",
              "      <td>4</td>\n",
              "      <td>38053</td>\n",
              "      <td>7582.20</td>\n",
              "      <td>46114.90</td>\n",
              "      <td>224.00</td>\n",
              "    </tr>\n",
              "    <tr>\n",
              "      <th>40</th>\n",
              "      <td>2016</td>\n",
              "      <td>5</td>\n",
              "      <td>38053</td>\n",
              "      <td>903.50</td>\n",
              "      <td>5805.30</td>\n",
              "      <td>266.00</td>\n",
              "    </tr>\n",
              "    <tr>\n",
              "      <th>41</th>\n",
              "      <td>2016</td>\n",
              "      <td>6</td>\n",
              "      <td>38053</td>\n",
              "      <td>10279.20</td>\n",
              "      <td>66146.60</td>\n",
              "      <td>238.00</td>\n",
              "    </tr>\n",
              "    <tr>\n",
              "      <th>42</th>\n",
              "      <td>2016</td>\n",
              "      <td>7</td>\n",
              "      <td>38053</td>\n",
              "      <td>11016.10</td>\n",
              "      <td>70568.90</td>\n",
              "      <td>224.00</td>\n",
              "    </tr>\n",
              "    <tr>\n",
              "      <th>43</th>\n",
              "      <td>2016</td>\n",
              "      <td>8</td>\n",
              "      <td>38053</td>\n",
              "      <td>4300.40</td>\n",
              "      <td>26339.80</td>\n",
              "      <td>140.00</td>\n",
              "    </tr>\n",
              "    <tr>\n",
              "      <th>44</th>\n",
              "      <td>2016</td>\n",
              "      <td>9</td>\n",
              "      <td>38053</td>\n",
              "      <td>1517.60</td>\n",
              "      <td>9721.80</td>\n",
              "      <td>266.00</td>\n",
              "    </tr>\n",
              "    <tr>\n",
              "      <th>45</th>\n",
              "      <td>2016</td>\n",
              "      <td>10</td>\n",
              "      <td>38053</td>\n",
              "      <td>1228.10</td>\n",
              "      <td>7921.40</td>\n",
              "      <td>322.00</td>\n",
              "    </tr>\n",
              "    <tr>\n",
              "      <th>46</th>\n",
              "      <td>2016</td>\n",
              "      <td>11</td>\n",
              "      <td>38053</td>\n",
              "      <td>3410.50</td>\n",
              "      <td>22110.10</td>\n",
              "      <td>224.00</td>\n",
              "    </tr>\n",
              "    <tr>\n",
              "      <th>47</th>\n",
              "      <td>2016</td>\n",
              "      <td>12</td>\n",
              "      <td>38053</td>\n",
              "      <td>313.90</td>\n",
              "      <td>2010.90</td>\n",
              "      <td>224.00</td>\n",
              "    </tr>\n",
              "    <tr>\n",
              "      <th>48</th>\n",
              "      <td>2017</td>\n",
              "      <td>1</td>\n",
              "      <td>35779</td>\n",
              "      <td>1014.60</td>\n",
              "      <td>6963.00</td>\n",
              "      <td>220.00</td>\n",
              "    </tr>\n",
              "    <tr>\n",
              "      <th>49</th>\n",
              "      <td>2017</td>\n",
              "      <td>2</td>\n",
              "      <td>35779</td>\n",
              "      <td>16619.60</td>\n",
              "      <td>114260.00</td>\n",
              "      <td>290.00</td>\n",
              "    </tr>\n",
              "    <tr>\n",
              "      <th>50</th>\n",
              "      <td>2017</td>\n",
              "      <td>3</td>\n",
              "      <td>35779</td>\n",
              "      <td>13043.10</td>\n",
              "      <td>86737.00</td>\n",
              "      <td>298.00</td>\n",
              "    </tr>\n",
              "    <tr>\n",
              "      <th>51</th>\n",
              "      <td>2017</td>\n",
              "      <td>4</td>\n",
              "      <td>35779</td>\n",
              "      <td>2602.30</td>\n",
              "      <td>17318.00</td>\n",
              "      <td>223.00</td>\n",
              "    </tr>\n",
              "    <tr>\n",
              "      <th>52</th>\n",
              "      <td>2017</td>\n",
              "      <td>5</td>\n",
              "      <td>35779</td>\n",
              "      <td>7856.20</td>\n",
              "      <td>49808.00</td>\n",
              "      <td>199.00</td>\n",
              "    </tr>\n",
              "    <tr>\n",
              "      <th>53</th>\n",
              "      <td>2017</td>\n",
              "      <td>6</td>\n",
              "      <td>35779</td>\n",
              "      <td>10200.20</td>\n",
              "      <td>63853.00</td>\n",
              "      <td>169.00</td>\n",
              "    </tr>\n",
              "    <tr>\n",
              "      <th>54</th>\n",
              "      <td>2017</td>\n",
              "      <td>7</td>\n",
              "      <td>35779</td>\n",
              "      <td>5387.10</td>\n",
              "      <td>33696.00</td>\n",
              "      <td>178.00</td>\n",
              "    </tr>\n",
              "    <tr>\n",
              "      <th>55</th>\n",
              "      <td>2017</td>\n",
              "      <td>8</td>\n",
              "      <td>35779</td>\n",
              "      <td>3822.90</td>\n",
              "      <td>23817.00</td>\n",
              "      <td>261.00</td>\n",
              "    </tr>\n",
              "    <tr>\n",
              "      <th>56</th>\n",
              "      <td>2017</td>\n",
              "      <td>9</td>\n",
              "      <td>35779</td>\n",
              "      <td>2807.10</td>\n",
              "      <td>18106.00</td>\n",
              "      <td>0.00</td>\n",
              "    </tr>\n",
              "    <tr>\n",
              "      <th>57</th>\n",
              "      <td>2017</td>\n",
              "      <td>10</td>\n",
              "      <td>35779</td>\n",
              "      <td>2776.90</td>\n",
              "      <td>18508.00</td>\n",
              "      <td>0.00</td>\n",
              "    </tr>\n",
              "    <tr>\n",
              "      <th>58</th>\n",
              "      <td>2017</td>\n",
              "      <td>11</td>\n",
              "      <td>35779</td>\n",
              "      <td>1558.70</td>\n",
              "      <td>10568.00</td>\n",
              "      <td>370.00</td>\n",
              "    </tr>\n",
              "    <tr>\n",
              "      <th>59</th>\n",
              "      <td>2017</td>\n",
              "      <td>12</td>\n",
              "      <td>35779</td>\n",
              "      <td>274.90</td>\n",
              "      <td>1864.00</td>\n",
              "      <td>178.00</td>\n",
              "    </tr>\n",
              "  </tbody>\n",
              "</table>\n",
              "</div>\n",
              "    <div class=\"colab-df-buttons\">\n",
              "\n",
              "  <div class=\"colab-df-container\">\n",
              "    <button class=\"colab-df-convert\" onclick=\"convertToInteractive('df-d9d673a9-41c9-4482-bffe-2fed268f520f')\"\n",
              "            title=\"Convert this dataframe to an interactive table.\"\n",
              "            style=\"display:none;\">\n",
              "\n",
              "  <svg xmlns=\"http://www.w3.org/2000/svg\" height=\"24px\" viewBox=\"0 -960 960 960\">\n",
              "    <path d=\"M120-120v-720h720v720H120Zm60-500h600v-160H180v160Zm220 220h160v-160H400v160Zm0 220h160v-160H400v160ZM180-400h160v-160H180v160Zm440 0h160v-160H620v160ZM180-180h160v-160H180v160Zm440 0h160v-160H620v160Z\"/>\n",
              "  </svg>\n",
              "    </button>\n",
              "\n",
              "  <style>\n",
              "    .colab-df-container {\n",
              "      display:flex;\n",
              "      gap: 12px;\n",
              "    }\n",
              "\n",
              "    .colab-df-convert {\n",
              "      background-color: #E8F0FE;\n",
              "      border: none;\n",
              "      border-radius: 50%;\n",
              "      cursor: pointer;\n",
              "      display: none;\n",
              "      fill: #1967D2;\n",
              "      height: 32px;\n",
              "      padding: 0 0 0 0;\n",
              "      width: 32px;\n",
              "    }\n",
              "\n",
              "    .colab-df-convert:hover {\n",
              "      background-color: #E2EBFA;\n",
              "      box-shadow: 0px 1px 2px rgba(60, 64, 67, 0.3), 0px 1px 3px 1px rgba(60, 64, 67, 0.15);\n",
              "      fill: #174EA6;\n",
              "    }\n",
              "\n",
              "    .colab-df-buttons div {\n",
              "      margin-bottom: 4px;\n",
              "    }\n",
              "\n",
              "    [theme=dark] .colab-df-convert {\n",
              "      background-color: #3B4455;\n",
              "      fill: #D2E3FC;\n",
              "    }\n",
              "\n",
              "    [theme=dark] .colab-df-convert:hover {\n",
              "      background-color: #434B5C;\n",
              "      box-shadow: 0px 1px 3px 1px rgba(0, 0, 0, 0.15);\n",
              "      filter: drop-shadow(0px 1px 2px rgba(0, 0, 0, 0.3));\n",
              "      fill: #FFFFFF;\n",
              "    }\n",
              "  </style>\n",
              "\n",
              "    <script>\n",
              "      const buttonEl =\n",
              "        document.querySelector('#df-d9d673a9-41c9-4482-bffe-2fed268f520f button.colab-df-convert');\n",
              "      buttonEl.style.display =\n",
              "        google.colab.kernel.accessAllowed ? 'block' : 'none';\n",
              "\n",
              "      async function convertToInteractive(key) {\n",
              "        const element = document.querySelector('#df-d9d673a9-41c9-4482-bffe-2fed268f520f');\n",
              "        const dataTable =\n",
              "          await google.colab.kernel.invokeFunction('convertToInteractive',\n",
              "                                                    [key], {});\n",
              "        if (!dataTable) return;\n",
              "\n",
              "        const docLinkHtml = 'Like what you see? Visit the ' +\n",
              "          '<a target=\"_blank\" href=https://colab.research.google.com/notebooks/data_table.ipynb>data table notebook</a>'\n",
              "          + ' to learn more about interactive tables.';\n",
              "        element.innerHTML = '';\n",
              "        dataTable['output_type'] = 'display_data';\n",
              "        await google.colab.output.renderOutput(dataTable, element);\n",
              "        const docLink = document.createElement('div');\n",
              "        docLink.innerHTML = docLinkHtml;\n",
              "        element.appendChild(docLink);\n",
              "      }\n",
              "    </script>\n",
              "  </div>\n",
              "\n",
              "\n",
              "<div id=\"df-7dd88b48-0ec5-4e74-8a7b-2761dfeabe5b\">\n",
              "  <button class=\"colab-df-quickchart\" onclick=\"quickchart('df-7dd88b48-0ec5-4e74-8a7b-2761dfeabe5b')\"\n",
              "            title=\"Suggest charts\"\n",
              "            style=\"display:none;\">\n",
              "\n",
              "<svg xmlns=\"http://www.w3.org/2000/svg\" height=\"24px\"viewBox=\"0 0 24 24\"\n",
              "     width=\"24px\">\n",
              "    <g>\n",
              "        <path d=\"M19 3H5c-1.1 0-2 .9-2 2v14c0 1.1.9 2 2 2h14c1.1 0 2-.9 2-2V5c0-1.1-.9-2-2-2zM9 17H7v-7h2v7zm4 0h-2V7h2v10zm4 0h-2v-4h2v4z\"/>\n",
              "    </g>\n",
              "</svg>\n",
              "  </button>\n",
              "\n",
              "<style>\n",
              "  .colab-df-quickchart {\n",
              "      --bg-color: #E8F0FE;\n",
              "      --fill-color: #1967D2;\n",
              "      --hover-bg-color: #E2EBFA;\n",
              "      --hover-fill-color: #174EA6;\n",
              "      --disabled-fill-color: #AAA;\n",
              "      --disabled-bg-color: #DDD;\n",
              "  }\n",
              "\n",
              "  [theme=dark] .colab-df-quickchart {\n",
              "      --bg-color: #3B4455;\n",
              "      --fill-color: #D2E3FC;\n",
              "      --hover-bg-color: #434B5C;\n",
              "      --hover-fill-color: #FFFFFF;\n",
              "      --disabled-bg-color: #3B4455;\n",
              "      --disabled-fill-color: #666;\n",
              "  }\n",
              "\n",
              "  .colab-df-quickchart {\n",
              "    background-color: var(--bg-color);\n",
              "    border: none;\n",
              "    border-radius: 50%;\n",
              "    cursor: pointer;\n",
              "    display: none;\n",
              "    fill: var(--fill-color);\n",
              "    height: 32px;\n",
              "    padding: 0;\n",
              "    width: 32px;\n",
              "  }\n",
              "\n",
              "  .colab-df-quickchart:hover {\n",
              "    background-color: var(--hover-bg-color);\n",
              "    box-shadow: 0 1px 2px rgba(60, 64, 67, 0.3), 0 1px 3px 1px rgba(60, 64, 67, 0.15);\n",
              "    fill: var(--button-hover-fill-color);\n",
              "  }\n",
              "\n",
              "  .colab-df-quickchart-complete:disabled,\n",
              "  .colab-df-quickchart-complete:disabled:hover {\n",
              "    background-color: var(--disabled-bg-color);\n",
              "    fill: var(--disabled-fill-color);\n",
              "    box-shadow: none;\n",
              "  }\n",
              "\n",
              "  .colab-df-spinner {\n",
              "    border: 2px solid var(--fill-color);\n",
              "    border-color: transparent;\n",
              "    border-bottom-color: var(--fill-color);\n",
              "    animation:\n",
              "      spin 1s steps(1) infinite;\n",
              "  }\n",
              "\n",
              "  @keyframes spin {\n",
              "    0% {\n",
              "      border-color: transparent;\n",
              "      border-bottom-color: var(--fill-color);\n",
              "      border-left-color: var(--fill-color);\n",
              "    }\n",
              "    20% {\n",
              "      border-color: transparent;\n",
              "      border-left-color: var(--fill-color);\n",
              "      border-top-color: var(--fill-color);\n",
              "    }\n",
              "    30% {\n",
              "      border-color: transparent;\n",
              "      border-left-color: var(--fill-color);\n",
              "      border-top-color: var(--fill-color);\n",
              "      border-right-color: var(--fill-color);\n",
              "    }\n",
              "    40% {\n",
              "      border-color: transparent;\n",
              "      border-right-color: var(--fill-color);\n",
              "      border-top-color: var(--fill-color);\n",
              "    }\n",
              "    60% {\n",
              "      border-color: transparent;\n",
              "      border-right-color: var(--fill-color);\n",
              "    }\n",
              "    80% {\n",
              "      border-color: transparent;\n",
              "      border-right-color: var(--fill-color);\n",
              "      border-bottom-color: var(--fill-color);\n",
              "    }\n",
              "    90% {\n",
              "      border-color: transparent;\n",
              "      border-bottom-color: var(--fill-color);\n",
              "    }\n",
              "  }\n",
              "</style>\n",
              "\n",
              "  <script>\n",
              "    async function quickchart(key) {\n",
              "      const quickchartButtonEl =\n",
              "        document.querySelector('#' + key + ' button');\n",
              "      quickchartButtonEl.disabled = true;  // To prevent multiple clicks.\n",
              "      quickchartButtonEl.classList.add('colab-df-spinner');\n",
              "      try {\n",
              "        const charts = await google.colab.kernel.invokeFunction(\n",
              "            'suggestCharts', [key], {});\n",
              "      } catch (error) {\n",
              "        console.error('Error during call to suggestCharts:', error);\n",
              "      }\n",
              "      quickchartButtonEl.classList.remove('colab-df-spinner');\n",
              "      quickchartButtonEl.classList.add('colab-df-quickchart-complete');\n",
              "    }\n",
              "    (() => {\n",
              "      let quickchartButtonEl =\n",
              "        document.querySelector('#df-7dd88b48-0ec5-4e74-8a7b-2761dfeabe5b button');\n",
              "      quickchartButtonEl.style.display =\n",
              "        google.colab.kernel.accessAllowed ? 'block' : 'none';\n",
              "    })();\n",
              "  </script>\n",
              "</div>\n",
              "    </div>\n",
              "  </div>\n"
            ]
          },
          "metadata": {},
          "execution_count": 14
        }
      ],
      "source": [
        "data"
      ],
      "id": "dcfb3334-aa5e-449b-9a21-0144d8ce7072"
    },
    {
      "cell_type": "markdown",
      "metadata": {
        "id": "9da6c78d-74e4-4131-8930-476f35de0899"
      },
      "source": [
        "# Split"
      ],
      "id": "9da6c78d-74e4-4131-8930-476f35de0899"
    },
    {
      "cell_type": "code",
      "execution_count": 15,
      "metadata": {
        "colab": {
          "base_uri": "https://localhost:8080/"
        },
        "id": "67eeca80-ecee-4939-a599-0466334930a8",
        "outputId": "85841413-f06c-4603-8928-2ac5ceeb118d"
      },
      "outputs": [
        {
          "output_type": "stream",
          "name": "stdout",
          "text": [
            "(36, 6)\n",
            "(24, 6)\n"
          ]
        }
      ],
      "source": [
        "test_split=round(len(data)*0.60)\n",
        "data_training=data[:test_split]\n",
        "data_testing=data[test_split:]\n",
        "print(data_training.shape)\n",
        "print(data_testing.shape)"
      ],
      "id": "67eeca80-ecee-4939-a599-0466334930a8"
    },
    {
      "cell_type": "markdown",
      "metadata": {
        "id": "_bUihIrSZz6x"
      },
      "source": [
        "## MinMax Scaler"
      ],
      "id": "_bUihIrSZz6x"
    },
    {
      "cell_type": "code",
      "execution_count": 16,
      "metadata": {
        "colab": {
          "base_uri": "https://localhost:8080/"
        },
        "id": "zG61CUAgZzdY",
        "outputId": "8a46483e-c94f-4ab5-c706-23e1fa6aaf8b"
      },
      "outputs": [
        {
          "output_type": "execute_result",
          "data": {
            "text/plain": [
              "(array([[0.        , 0.        , 0.86137072, 0.        , 0.        ,\n",
              "         0.9197217 ],\n",
              "        [0.        , 0.09090909, 0.86137072, 0.07774918, 0.07701129,\n",
              "         0.53813219],\n",
              "        [0.        , 0.18181818, 0.86137072, 1.        , 1.        ,\n",
              "         0.70323789],\n",
              "        [0.        , 0.27272727, 0.86137072, 0.2092752 , 0.2110708 ,\n",
              "         0.52769601],\n",
              "        [0.        , 0.36363636, 0.86137072, 0.02638565, 0.02567641,\n",
              "         0.55311747],\n",
              "        [0.        , 0.45454545, 0.86137072, 0.10361194, 0.3933479 ,\n",
              "         0.34252074],\n",
              "        [0.        , 0.54545455, 0.86137072, 0.11499477, 0.4212157 ,\n",
              "         0.245384  ],\n",
              "        [0.        , 0.63636364, 0.86137072, 0.03857292, 0.11746567,\n",
              "         0.09365801],\n",
              "        [0.        , 0.72727273, 0.86137072, 0.02638565, 0.10537891,\n",
              "         0.        ],\n",
              "        [0.        , 0.81818182, 0.86137072, 0.06298769, 0.06401682,\n",
              "         0.04029971],\n",
              "        [0.        , 0.90909091, 0.86137072, 0.03523449, 0.04229908,\n",
              "         0.43296762],\n",
              "        [0.        , 1.        , 0.86137072, 0.00329821, 0.00356251,\n",
              "         0.93738293],\n",
              "        [0.5       , 0.        , 1.        , 0.01155016, 0.01251635,\n",
              "         1.        ],\n",
              "        [0.5       , 0.09090909, 1.        , 0.10830665, 0.11761708,\n",
              "         0.65132459],\n",
              "        [0.5       , 0.18181818, 1.        , 0.88028035, 0.95913991,\n",
              "         0.85523147],\n",
              "        [0.5       , 0.27272727, 1.        , 0.26047784, 0.27991792,\n",
              "         0.84586567],\n",
              "        [0.5       , 0.36363636, 1.        , 0.07909943, 0.0792373 ,\n",
              "         0.54054054],\n",
              "        [0.5       , 0.45454545, 1.        , 0.42962594, 0.4296304 ,\n",
              "         0.60048167],\n",
              "        [0.5       , 0.54545455, 1.        , 0.41676695, 0.4206037 ,\n",
              "         0.45892427],\n",
              "        [0.5       , 0.63636364, 1.        , 0.06831791, 0.06709343,\n",
              "         0.01070377],\n",
              "        [0.5       , 0.72727273, 1.        , 0.11375593, 0.10984405,\n",
              "         0.        ],\n",
              "        [0.5       , 0.81818182, 1.        , 0.08133376, 0.08382629,\n",
              "         0.        ],\n",
              "        [0.5       , 0.90909091, 1.        , 0.02699662, 0.02778259,\n",
              "         0.        ],\n",
              "        [0.5       , 1.        , 1.        , 0.00261162, 0.00269213,\n",
              "         0.        ],\n",
              "        [1.        , 0.        , 0.        , 0.00233288, 0.00254579,\n",
              "         0.72250468],\n",
              "        [1.        , 0.09090909, 0.        , 0.02835653, 0.03038688,\n",
              "         0.86700562],\n",
              "        [1.        , 0.18181818, 0.        , 0.90604135, 0.96936845,\n",
              "         0.69306931],\n",
              "        [1.        , 0.27272727, 0.        , 0.27190089, 0.29094015,\n",
              "         0.60208724],\n",
              "        [1.        , 0.36363636, 0.        , 0.06946344, 0.07436466,\n",
              "         0.20604763],\n",
              "        [1.        , 0.45454545, 0.        , 0.45627866, 0.48819471,\n",
              "         0.        ],\n",
              "        [1.        , 0.54545455, 0.        , 0.33943367, 0.3631894 ,\n",
              "         0.        ],\n",
              "        [1.        , 0.63636364, 0.        , 0.12927359, 0.13835187,\n",
              "         0.        ],\n",
              "        [1.        , 0.72727273, 0.        , 0.10489904, 0.11227503,\n",
              "         0.        ],\n",
              "        [1.        , 0.81818182, 0.        , 0.01612903, 0.01730543,\n",
              "         0.        ],\n",
              "        [1.        , 0.90909091, 0.        , 0.11716676, 0.12539955,\n",
              "         0.16858443],\n",
              "        [1.        , 1.        , 0.        , 0.00172955, 0.00190029,\n",
              "         0.33449291]]),\n",
              " array([[ 1.5       ,  0.        ,  0.77102804,  0.01017617,  0.01078844,\n",
              "          0.59941129],\n",
              "        [ 1.5       ,  0.09090909,  0.77102804,  0.03809026,  0.04064312,\n",
              "          0.82419053],\n",
              "        [ 1.5       ,  0.18181818,  0.77102804,  0.98581771,  1.02155696,\n",
              "          0.71180091],\n",
              "        [ 1.5       ,  0.27272727,  0.77102804,  0.30436811,  0.30352323,\n",
              "          0.59941129],\n",
              "        [ 1.5       ,  0.36363636,  0.77102804,  0.03573727,  0.03768931,\n",
              "          0.71180091],\n",
              "        [ 1.5       ,  0.45454545,  0.77102804,  0.41284691,  0.43562838,\n",
              "          0.6368745 ],\n",
              "        [ 1.5       ,  0.54545455,  0.77102804,  0.44248653,  0.46479258,\n",
              "          0.59941129],\n",
              "        [ 1.5       ,  0.63636364,  0.77102804,  0.17236747,  0.17311032,\n",
              "          0.37463206],\n",
              "        [ 1.5       ,  0.72727273,  0.77102804,  0.06043762,  0.06351786,\n",
              "          0.71180091],\n",
              "        [ 1.5       ,  0.81818182,  0.77102804,  0.04879334,  0.05164457,\n",
              "          0.86165373],\n",
              "        [ 1.5       ,  0.90909091,  0.77102804,  0.13657389,  0.14521627,\n",
              "          0.59941129],\n",
              "        [ 1.5       ,  1.        ,  0.77102804,  0.01202236,  0.01266598,\n",
              "          0.59941129],\n",
              "        [ 2.        ,  0.        , -2.77102804,  0.04020594,  0.04532411,\n",
              "          0.58870752],\n",
              "        [ 2.        ,  0.09090909, -2.77102804,  0.66787065,  0.75292684,\n",
              "          0.77602355],\n",
              "        [ 2.        ,  0.18181818, -2.77102804,  0.52401657,  0.57141804,\n",
              "          0.79743109],\n",
              "        [ 2.        ,  0.27272727, -2.77102804,  0.10406645,  0.11361331,\n",
              "          0.59673535],\n",
              "        [ 2.        ,  0.36363636, -2.77102804,  0.31538895,  0.32787851,\n",
              "          0.53251271],\n",
              "        [ 2.        ,  0.45454545, -2.77102804,  0.40966937,  0.42050253,\n",
              "          0.45223441],\n",
              "        [ 2.        ,  0.54545455, -2.77102804,  0.21607674,  0.22162302,\n",
              "          0.4763179 ],\n",
              "        [ 2.        ,  0.63636364, -2.77102804,  0.15316145,  0.15647295,\n",
              "          0.69842119],\n",
              "        [ 2.        ,  0.72727273, -2.77102804,  0.11230392,  0.11881002,\n",
              "          0.        ],\n",
              "        [ 2.        ,  0.81818182, -2.77102804,  0.11108921,  0.12146113,\n",
              "          0.        ],\n",
              "        [ 2.        ,  0.90909091, -2.77102804,  0.06209074,  0.06909838,\n",
              "          0.99009901],\n",
              "        [ 2.        ,  1.        , -2.77102804,  0.0104537 ,  0.0116972 ,\n",
              "          0.4763179 ]]))"
            ]
          },
          "metadata": {},
          "execution_count": 16
        }
      ],
      "source": [
        "from sklearn.preprocessing import StandardScaler\n",
        "# scaler = StandardScaler()\n",
        "scaler = MinMaxScaler()\n",
        "data_training_scaled = scaler.fit_transform(data_training)\n",
        "data_testing_scaled=scaler.transform(data_testing)\n",
        "data_training_scaled, data_testing_scaled"
      ],
      "id": "zG61CUAgZzdY"
    },
    {
      "cell_type": "code",
      "execution_count": 17,
      "metadata": {
        "colab": {
          "base_uri": "https://localhost:8080/"
        },
        "id": "ce6c6bbc-3d6e-42fd-89f2-7f5b9f971539",
        "outputId": "f8b4c5e2-eca3-4c5a-a7cc-627d053cb9b8"
      },
      "outputs": [
        {
          "output_type": "execute_result",
          "data": {
            "text/plain": [
              "((36, 6), (24, 6))"
            ]
          },
          "metadata": {},
          "execution_count": 17
        }
      ],
      "source": [
        "data_training.shape, data_testing.shape"
      ],
      "id": "ce6c6bbc-3d6e-42fd-89f2-7f5b9f971539"
    },
    {
      "cell_type": "code",
      "execution_count": 18,
      "metadata": {
        "id": "1e480313-c8e3-44c9-a519-9c8d904282ba",
        "colab": {
          "base_uri": "https://localhost:8080/"
        },
        "outputId": "6ad477f9-5fda-4a16-dd0a-eccf9b4586a0"
      },
      "outputs": [
        {
          "output_type": "execute_result",
          "data": {
            "text/plain": [
              "(array([0.07701129, 1.        , 0.2110708 , 0.02567641, 0.3933479 ,\n",
              "        0.4212157 , 0.11746567, 0.10537891, 0.06401682, 0.04229908,\n",
              "        0.00356251, 0.01251635, 0.11761708, 0.95913991, 0.27991792,\n",
              "        0.0792373 , 0.4296304 , 0.4206037 , 0.06709343, 0.10984405,\n",
              "        0.08382629, 0.02778259, 0.00269213, 0.00254579, 0.03038688,\n",
              "        0.96936845, 0.29094015, 0.07436466, 0.48819471, 0.3631894 ,\n",
              "        0.13835187, 0.11227503, 0.01730543, 0.12539955, 0.00190029]),\n",
              " array([0.04064312, 1.02155696, 0.30352323, 0.03768931, 0.43562838,\n",
              "        0.46479258, 0.17311032, 0.06351786, 0.05164457, 0.14521627,\n",
              "        0.01266598, 0.04532411, 0.75292684, 0.57141804, 0.11361331,\n",
              "        0.32787851, 0.42050253, 0.22162302, 0.15647295, 0.11881002,\n",
              "        0.12146113, 0.06909838, 0.0116972 ]))"
            ]
          },
          "metadata": {},
          "execution_count": 18
        }
      ],
      "source": [
        "def createXY(dataset,n_past):\n",
        "    dataX = []\n",
        "    dataY = []\n",
        "    for i in range(n_past, len(dataset)):\n",
        "            dataX.append(dataset[i - n_past:i, 0:dataset.shape[1]])\n",
        "            dataY.append(dataset[i, 4])\n",
        "    return np.array(dataX),np.array(dataY)\n",
        "X_train,y_train=createXY(data_training_scaled,1)\n",
        "X_test,y_test=createXY(data_testing_scaled,1)\n",
        "y_train,y_test"
      ],
      "id": "1e480313-c8e3-44c9-a519-9c8d904282ba"
    },
    {
      "cell_type": "code",
      "execution_count": 19,
      "metadata": {
        "colab": {
          "base_uri": "https://localhost:8080/"
        },
        "id": "4279a405-4b49-4364-a15f-1eafff6b6c60",
        "outputId": "f0a2986d-2b62-4808-aaeb-85335ea8c6d3"
      },
      "outputs": [
        {
          "output_type": "stream",
          "name": "stdout",
          "text": [
            "trainX Shape--  (35, 1, 6)\n",
            "trainY Shape--  (35,)\n"
          ]
        }
      ],
      "source": [
        "print(\"trainX Shape-- \",X_train.shape)\n",
        "print(\"trainY Shape-- \",y_train.shape)"
      ],
      "id": "4279a405-4b49-4364-a15f-1eafff6b6c60"
    },
    {
      "cell_type": "code",
      "execution_count": 20,
      "metadata": {
        "colab": {
          "base_uri": "https://localhost:8080/"
        },
        "id": "e625e176-9f00-4e05-81ad-5a25a24139bd",
        "outputId": "d4242810-714e-464f-bb5d-0830a23be152"
      },
      "outputs": [
        {
          "output_type": "stream",
          "name": "stdout",
          "text": [
            "testX Shape--  (23, 1, 6)\n",
            "testY Shape--  (23,)\n"
          ]
        }
      ],
      "source": [
        "print(\"testX Shape-- \",X_test.shape)\n",
        "print(\"testY Shape-- \",y_test.shape)"
      ],
      "id": "e625e176-9f00-4e05-81ad-5a25a24139bd"
    },
    {
      "cell_type": "code",
      "execution_count": 21,
      "metadata": {
        "colab": {
          "base_uri": "https://localhost:8080/"
        },
        "id": "165d5fe7-bad7-49b5-b5da-d0636798c219",
        "outputId": "dc63dfc8-878d-44c6-9021-a081c84dbc54"
      },
      "outputs": [
        {
          "output_type": "stream",
          "name": "stdout",
          "text": [
            "trainX[0]-- \n",
            " [[0.         0.         0.86137072 0.         0.         0.9197217 ]]\n",
            "trainY[0]--  0.07701129004134415\n"
          ]
        }
      ],
      "source": [
        "print(\"trainX[0]-- \\n\",X_train[0])\n",
        "print(\"trainY[0]-- \",y_train[0])"
      ],
      "id": "165d5fe7-bad7-49b5-b5da-d0636798c219"
    },
    {
      "cell_type": "code",
      "execution_count": 22,
      "metadata": {
        "colab": {
          "base_uri": "https://localhost:8080/"
        },
        "id": "909411eb-8fc7-433a-82b5-13dad9822742",
        "outputId": "31a48200-df51-49c6-cd0d-5f8722d67b75"
      },
      "outputs": [
        {
          "output_type": "execute_result",
          "data": {
            "text/plain": [
              "(1, 6, 35)"
            ]
          },
          "metadata": {},
          "execution_count": 22
        }
      ],
      "source": [
        "X_train.shape[1], X_test.shape[2], X_train.shape[0]"
      ],
      "id": "909411eb-8fc7-433a-82b5-13dad9822742"
    },
    {
      "cell_type": "markdown",
      "metadata": {
        "id": "dc4b3944-e4e2-4f63-971c-80cb1ada0c93"
      },
      "source": [
        "# LSTM"
      ],
      "id": "dc4b3944-e4e2-4f63-971c-80cb1ada0c93"
    },
    {
      "cell_type": "code",
      "source": [
        "!pip install scikeras\n",
        "from scikeras.wrappers import KerasRegressor\n",
        "from sklearn.model_selection import GridSearchCV\n",
        "from tensorflow.keras.models import Sequential\n",
        "from tensorflow.keras.layers import LSTM, Dropout, Dense\n",
        "from tensorflow.keras.optimizers import AdamW\n",
        "from tensorflow.keras.metrics import RootMeanSquaredError\n",
        "from sklearn import metrics\n",
        "from sklearn.metrics import accuracy_score, precision_score, recall_score, f1_score, roc_auc_score, mean_squared_error, mean_absolute_error\n",
        "from keras.callbacks import EarlyStopping\n",
        "\n",
        "\n",
        "# model = Sequential()\n",
        "# model.add(LSTM(16, activation='relu', return_sequences=True, input_shape=(X_train.shape[1], X_train.shape[2])))\n",
        "# model.add(LSTM(8, return_sequences=False))\n",
        "# model.add(Dense(16))\n",
        "# model.add(Dropout(0.2))\n",
        "# model.add(Dense(1, activation='relu'))\n",
        "# model.compile(optimizer=AdamW(learning_rate=0.001), loss='mean_squared_error')\n",
        "# # model.compile(loss=mean_squared_error, optimizer=Adam(learning_rate=0.0001), metrics=[RootMeanSquaredError()])\n",
        "# history = model.fit(X_train, y_train, epochs=70, batch_size=6, validation_data=(X_test, y_test))\n",
        "# # model.fit(X_train, y_train, epochs=250, batch_size=8, validation_data=(X_test, y_test))\n",
        "# plt.plot(history.history['loss'], label='Training Loss')\n",
        "# plt.plot(history.history['val_loss'], label='Validation Loss')\n",
        "# plt.title('Training and Validation Loss')\n",
        "# plt.xlabel('Epochs')\n",
        "# plt.ylabel('Loss')\n",
        "# plt.legend()\n",
        "# plt.show()\n",
        "# model.summary()\n",
        "\n",
        "# baru\n",
        "model = Sequential()\n",
        "model.add(LSTM(16, input_shape=(X_train.shape[1], X_train.shape[2])))\n",
        "model.add(Dense(1))\n",
        "model.compile(optimizer='adam', loss='mean_squared_error')\n",
        "history = model.fit(X_train, y_train, epochs=30, batch_size=6, validation_data=(X_test, y_test))\n",
        "plt.plot(history.history['loss'], label='Training Loss')\n",
        "plt.plot(history.history['val_loss'], label='Validation Loss')\n",
        "plt.title('Training and Validation Loss')\n",
        "plt.xlabel('Epochs')\n",
        "plt.ylabel('Loss')\n",
        "plt.legend()\n",
        "plt.show()\n",
        "model.summary()"
      ],
      "metadata": {
        "colab": {
          "base_uri": "https://localhost:8080/",
          "height": 1000
        },
        "id": "CwZSYfrVek5F",
        "outputId": "b1937174-a2e8-4155-e8e7-ac36abe3b1a4"
      },
      "id": "CwZSYfrVek5F",
      "execution_count": 23,
      "outputs": [
        {
          "output_type": "stream",
          "name": "stdout",
          "text": [
            "Requirement already satisfied: scikeras in /usr/local/lib/python3.10/dist-packages (0.12.0)\n",
            "Requirement already satisfied: packaging>=0.21 in /usr/local/lib/python3.10/dist-packages (from scikeras) (23.2)\n",
            "Requirement already satisfied: scikit-learn>=1.0.0 in /usr/local/lib/python3.10/dist-packages (from scikeras) (1.2.2)\n",
            "Requirement already satisfied: numpy>=1.17.3 in /usr/local/lib/python3.10/dist-packages (from scikit-learn>=1.0.0->scikeras) (1.23.5)\n",
            "Requirement already satisfied: scipy>=1.3.2 in /usr/local/lib/python3.10/dist-packages (from scikit-learn>=1.0.0->scikeras) (1.11.4)\n",
            "Requirement already satisfied: joblib>=1.1.1 in /usr/local/lib/python3.10/dist-packages (from scikit-learn>=1.0.0->scikeras) (1.3.2)\n",
            "Requirement already satisfied: threadpoolctl>=2.0.0 in /usr/local/lib/python3.10/dist-packages (from scikit-learn>=1.0.0->scikeras) (3.2.0)\n",
            "Epoch 1/30\n",
            "6/6 [==============================] - 5s 136ms/step - loss: 0.1457 - val_loss: 0.1068\n",
            "Epoch 2/30\n",
            "6/6 [==============================] - 0s 13ms/step - loss: 0.1330 - val_loss: 0.0967\n",
            "Epoch 3/30\n",
            "6/6 [==============================] - 0s 14ms/step - loss: 0.1194 - val_loss: 0.0890\n",
            "Epoch 4/30\n",
            "6/6 [==============================] - 0s 14ms/step - loss: 0.1092 - val_loss: 0.0827\n",
            "Epoch 5/30\n",
            "6/6 [==============================] - 0s 15ms/step - loss: 0.1011 - val_loss: 0.0779\n",
            "Epoch 6/30\n",
            "6/6 [==============================] - 0s 14ms/step - loss: 0.0936 - val_loss: 0.0745\n",
            "Epoch 7/30\n",
            "6/6 [==============================] - 0s 15ms/step - loss: 0.0881 - val_loss: 0.0723\n",
            "Epoch 8/30\n",
            "6/6 [==============================] - 0s 17ms/step - loss: 0.0837 - val_loss: 0.0708\n",
            "Epoch 9/30\n",
            "6/6 [==============================] - 0s 15ms/step - loss: 0.0798 - val_loss: 0.0702\n",
            "Epoch 10/30\n",
            "6/6 [==============================] - 0s 14ms/step - loss: 0.0781 - val_loss: 0.0699\n",
            "Epoch 11/30\n",
            "6/6 [==============================] - 0s 15ms/step - loss: 0.0759 - val_loss: 0.0699\n",
            "Epoch 12/30\n",
            "6/6 [==============================] - 0s 17ms/step - loss: 0.0744 - val_loss: 0.0700\n",
            "Epoch 13/30\n",
            "6/6 [==============================] - 0s 16ms/step - loss: 0.0733 - val_loss: 0.0701\n",
            "Epoch 14/30\n",
            "6/6 [==============================] - 0s 15ms/step - loss: 0.0724 - val_loss: 0.0701\n",
            "Epoch 15/30\n",
            "6/6 [==============================] - 0s 14ms/step - loss: 0.0715 - val_loss: 0.0700\n",
            "Epoch 16/30\n",
            "6/6 [==============================] - 0s 16ms/step - loss: 0.0710 - val_loss: 0.0699\n",
            "Epoch 17/30\n",
            "6/6 [==============================] - 0s 15ms/step - loss: 0.0704 - val_loss: 0.0697\n",
            "Epoch 18/30\n",
            "6/6 [==============================] - 0s 14ms/step - loss: 0.0697 - val_loss: 0.0695\n",
            "Epoch 19/30\n",
            "6/6 [==============================] - 0s 14ms/step - loss: 0.0692 - val_loss: 0.0691\n",
            "Epoch 20/30\n",
            "6/6 [==============================] - 0s 15ms/step - loss: 0.0686 - val_loss: 0.0682\n",
            "Epoch 21/30\n",
            "6/6 [==============================] - 0s 15ms/step - loss: 0.0680 - val_loss: 0.0679\n",
            "Epoch 22/30\n",
            "6/6 [==============================] - 0s 14ms/step - loss: 0.0675 - val_loss: 0.0674\n",
            "Epoch 23/30\n",
            "6/6 [==============================] - 0s 13ms/step - loss: 0.0670 - val_loss: 0.0671\n",
            "Epoch 24/30\n",
            "6/6 [==============================] - 0s 15ms/step - loss: 0.0666 - val_loss: 0.0665\n",
            "Epoch 25/30\n",
            "6/6 [==============================] - 0s 14ms/step - loss: 0.0661 - val_loss: 0.0662\n",
            "Epoch 26/30\n",
            "6/6 [==============================] - 0s 12ms/step - loss: 0.0658 - val_loss: 0.0663\n",
            "Epoch 27/30\n",
            "6/6 [==============================] - 0s 14ms/step - loss: 0.0653 - val_loss: 0.0659\n",
            "Epoch 28/30\n",
            "6/6 [==============================] - 0s 15ms/step - loss: 0.0651 - val_loss: 0.0659\n",
            "Epoch 29/30\n",
            "6/6 [==============================] - 0s 15ms/step - loss: 0.0646 - val_loss: 0.0655\n",
            "Epoch 30/30\n",
            "6/6 [==============================] - 0s 14ms/step - loss: 0.0643 - val_loss: 0.0650\n"
          ]
        },
        {
          "output_type": "display_data",
          "data": {
            "text/plain": [
              "<Figure size 640x480 with 1 Axes>"
            ],
            "image/png": "[encoded data removed]"
          },
          "metadata": {}
        },
        {
          "output_type": "stream",
          "name": "stdout",
          "text": [
            "Model: \"sequential\"\n",
            "_________________________________________________________________\n",
            " Layer (type)                Output Shape              Param #   \n",
            "=================================================================\n",
            " lstm (LSTM)                 (None, 16)                1472      \n",
            "                                                                 \n",
            " dense (Dense)               (None, 1)                 17        \n",
            "                                                                 \n",
            "=================================================================\n",
            "Total params: 1489 (5.82 KB)\n",
            "Trainable params: 1489 (5.82 KB)\n",
            "Non-trainable params: 0 (0.00 Byte)\n",
            "_________________________________________________________________\n"
          ]
        }
      ]
    },
    {
      "cell_type": "code",
      "execution_count": 24,
      "metadata": {
        "id": "c5493cfd-2c6e-4353-a61c-1ff7be1bb0e5"
      },
      "outputs": [],
      "source": [
        "# import matplotlib.pyplot as plt\n",
        "\n",
        "# history = model.fit(X_train, y_train, epochs=50, batch_size=6, validation_data=(X_test, y_test))\n",
        "\n",
        "# # Plot loss\n",
        "# plt.plot(history.history['loss'], label='Training Loss')\n",
        "# plt.plot(history.history['val_loss'], label='Validation Loss')\n",
        "# plt.title('Training and Validation Loss')\n",
        "# plt.xlabel('Epochs')\n",
        "# plt.ylabel('Loss')\n",
        "# plt.legend()\n",
        "# plt.show()"
      ],
      "id": "c5493cfd-2c6e-4353-a61c-1ff7be1bb0e5"
    },
    {
      "cell_type": "code",
      "execution_count": 25,
      "metadata": {
        "id": "580e4ac5-ee85-45b7-8659-2a7a0567b476",
        "colab": {
          "base_uri": "https://localhost:8080/"
        },
        "outputId": "d6e80c24-e56d-4b44-b4cc-17fd90ca54a0"
      },
      "outputs": [
        {
          "output_type": "stream",
          "name": "stdout",
          "text": [
            "1/1 [==============================] - 0s 342ms/step\n"
          ]
        },
        {
          "output_type": "execute_result",
          "data": {
            "text/plain": [
              "array([[0.36345983],\n",
              "       [0.38132858],\n",
              "       [0.39835197],\n",
              "       [0.3580727 ],\n",
              "       [0.3510744 ],\n",
              "       [0.35266417],\n",
              "       [0.341174  ],\n",
              "       [0.29582888],\n",
              "       [0.3257715 ],\n",
              "       [0.3349827 ],\n",
              "       [0.3013963 ],\n",
              "       [0.29023677],\n",
              "       [0.224044  ],\n",
              "       [0.250458  ],\n",
              "       [0.2451519 ],\n",
              "       [0.21494506],\n",
              "       [0.21156637],\n",
              "       [0.20310834],\n",
              "       [0.19624557],\n",
              "       [0.2075889 ],\n",
              "       [0.1454347 ],\n",
              "       [0.14047402],\n",
              "       [0.21276085]], dtype=float32)"
            ]
          },
          "metadata": {},
          "execution_count": 25
        }
      ],
      "source": [
        "prediction = model.predict(X_test)\n",
        "prediction"
      ],
      "id": "580e4ac5-ee85-45b7-8659-2a7a0567b476"
    },
    {
      "cell_type": "code",
      "execution_count": 26,
      "metadata": {
        "id": "74ca61a2-fc8a-4e28-a5d8-47fb365f2684",
        "colab": {
          "base_uri": "https://localhost:8080/"
        },
        "outputId": "72739495-aaf0-4b42-c9dd-ebb284ac147d"
      },
      "outputs": [
        {
          "output_type": "execute_result",
          "data": {
            "text/plain": [
              "(23, 1)"
            ]
          },
          "metadata": {},
          "execution_count": 26
        }
      ],
      "source": [
        "prediction.shape"
      ],
      "id": "74ca61a2-fc8a-4e28-a5d8-47fb365f2684"
    },
    {
      "cell_type": "code",
      "execution_count": 27,
      "metadata": {
        "id": "64c05fc4-b9b1-4c27-87a9-25f29094ff8e",
        "colab": {
          "base_uri": "https://localhost:8080/"
        },
        "outputId": "7b30d2fb-b213-45c9-f970-c978c83f35f7"
      },
      "outputs": [
        {
          "output_type": "execute_result",
          "data": {
            "text/plain": [
              "array([[0.36345983, 0.36345983, 0.36345983, 0.36345983, 0.36345983,\n",
              "        0.36345983],\n",
              "       [0.38132858, 0.38132858, 0.38132858, 0.38132858, 0.38132858,\n",
              "        0.38132858],\n",
              "       [0.39835197, 0.39835197, 0.39835197, 0.39835197, 0.39835197,\n",
              "        0.39835197],\n",
              "       [0.3580727 , 0.3580727 , 0.3580727 , 0.3580727 , 0.3580727 ,\n",
              "        0.3580727 ],\n",
              "       [0.3510744 , 0.3510744 , 0.3510744 , 0.3510744 , 0.3510744 ,\n",
              "        0.3510744 ],\n",
              "       [0.35266417, 0.35266417, 0.35266417, 0.35266417, 0.35266417,\n",
              "        0.35266417],\n",
              "       [0.341174  , 0.341174  , 0.341174  , 0.341174  , 0.341174  ,\n",
              "        0.341174  ],\n",
              "       [0.29582888, 0.29582888, 0.29582888, 0.29582888, 0.29582888,\n",
              "        0.29582888],\n",
              "       [0.3257715 , 0.3257715 , 0.3257715 , 0.3257715 , 0.3257715 ,\n",
              "        0.3257715 ],\n",
              "       [0.3349827 , 0.3349827 , 0.3349827 , 0.3349827 , 0.3349827 ,\n",
              "        0.3349827 ],\n",
              "       [0.3013963 , 0.3013963 , 0.3013963 , 0.3013963 , 0.3013963 ,\n",
              "        0.3013963 ],\n",
              "       [0.29023677, 0.29023677, 0.29023677, 0.29023677, 0.29023677,\n",
              "        0.29023677],\n",
              "       [0.224044  , 0.224044  , 0.224044  , 0.224044  , 0.224044  ,\n",
              "        0.224044  ],\n",
              "       [0.250458  , 0.250458  , 0.250458  , 0.250458  , 0.250458  ,\n",
              "        0.250458  ],\n",
              "       [0.2451519 , 0.2451519 , 0.2451519 , 0.2451519 , 0.2451519 ,\n",
              "        0.2451519 ],\n",
              "       [0.21494506, 0.21494506, 0.21494506, 0.21494506, 0.21494506,\n",
              "        0.21494506],\n",
              "       [0.21156637, 0.21156637, 0.21156637, 0.21156637, 0.21156637,\n",
              "        0.21156637],\n",
              "       [0.20310834, 0.20310834, 0.20310834, 0.20310834, 0.20310834,\n",
              "        0.20310834],\n",
              "       [0.19624557, 0.19624557, 0.19624557, 0.19624557, 0.19624557,\n",
              "        0.19624557],\n",
              "       [0.2075889 , 0.2075889 , 0.2075889 , 0.2075889 , 0.2075889 ,\n",
              "        0.2075889 ],\n",
              "       [0.1454347 , 0.1454347 , 0.1454347 , 0.1454347 , 0.1454347 ,\n",
              "        0.1454347 ],\n",
              "       [0.14047402, 0.14047402, 0.14047402, 0.14047402, 0.14047402,\n",
              "        0.14047402],\n",
              "       [0.21276085, 0.21276085, 0.21276085, 0.21276085, 0.21276085,\n",
              "        0.21276085]], dtype=float32)"
            ]
          },
          "metadata": {},
          "execution_count": 27
        }
      ],
      "source": [
        "# scaler.inverse_transform(prediction)\n",
        "prediction_copies_array = np.repeat(prediction,6, axis=-1)\n",
        "prediction_copies_array"
      ],
      "id": "64c05fc4-b9b1-4c27-87a9-25f29094ff8e"
    },
    {
      "cell_type": "code",
      "execution_count": 28,
      "metadata": {
        "id": "8cb93965-042b-4611-9c57-c002ded400b1"
      },
      "outputs": [],
      "source": [
        "pred = scaler.inverse_transform(prediction_copies_array)[:, 4]"
      ],
      "id": "8cb93965-042b-4611-9c57-c002ded400b1"
    },
    {
      "cell_type": "code",
      "execution_count": 29,
      "metadata": {
        "id": "45681ca2-8337-42c7-9497-63e4bcf1812c",
        "colab": {
          "base_uri": "https://localhost:8080/"
        },
        "outputId": "9354e709-0806-470b-8f73-8f82938a86f1"
      },
      "outputs": [
        {
          "output_type": "execute_result",
          "data": {
            "text/plain": [
              "(23, 6)"
            ]
          },
          "metadata": {},
          "execution_count": 29
        }
      ],
      "source": [
        "prediction_copies_array.shape"
      ],
      "id": "45681ca2-8337-42c7-9497-63e4bcf1812c"
    },
    {
      "cell_type": "code",
      "execution_count": 30,
      "metadata": {
        "id": "b4b162ef-ed8c-497a-8539-ec65b0e8b0d2",
        "colab": {
          "base_uri": "https://localhost:8080/"
        },
        "outputId": "192bfb1e-9e2b-4390-af69-05822b35f039"
      },
      "outputs": [
        {
          "output_type": "execute_result",
          "data": {
            "text/plain": [
              "(23,)"
            ]
          },
          "metadata": {},
          "execution_count": 30
        }
      ],
      "source": [
        "label = scaler.inverse_transform(np.repeat(y_test.reshape(-1, 1), 6, axis=-1))[:, 4]\n",
        "label.shape"
      ],
      "id": "b4b162ef-ed8c-497a-8539-ec65b0e8b0d2"
    },
    {
      "cell_type": "markdown",
      "source": [
        "# Residual Calc"
      ],
      "metadata": {
        "id": "2CCIW4FjRDQk"
      },
      "id": "2CCIW4FjRDQk"
    },
    {
      "cell_type": "code",
      "execution_count": 31,
      "metadata": {
        "id": "lk8sbYQ3nTz4"
      },
      "outputs": [],
      "source": [
        "residual = test_split - pred"
      ],
      "id": "lk8sbYQ3nTz4"
    },
    {
      "cell_type": "code",
      "execution_count": 32,
      "metadata": {
        "id": "4741baa6-47e2-4b58-adf4-10b8a948d0a4",
        "colab": {
          "base_uri": "https://localhost:8080/"
        },
        "outputId": "cad92ffe-5001-4f5c-98dc-c97a0c911590"
      },
      "outputs": [
        {
          "output_type": "stream",
          "name": "stdout",
          "text": [
            "Pred Values--  [55203.355 57912.875 60494.21  54386.48  53325.297 53566.363 51824.055\n",
            " 44948.17  49488.508 50885.24  45792.383 44100.215 34063.105 38068.38\n",
            " 37263.793 32683.39  32171.064 30888.535 29847.902 31567.943 22143.223\n",
            " 21391.01  32352.19 ]\n",
            "\n",
            "Original Values--  [  6253.2 154993.6  46114.9   5805.3  66146.6  70568.9  26339.8   9721.8\n",
            "   7921.4  22110.1   2010.9   6963.  114260.   86737.   17318.   49808.\n",
            "  63853.   33696.   23817.   18106.   18508.   10568.    1864. ]\n",
            "\n",
            "Residual  [-55167.355 -57876.875 -60458.21  -54350.48  -53289.297 -53530.363\n",
            " -51788.055 -44912.17  -49452.508 -50849.24  -45756.383 -44064.215\n",
            " -34027.105 -38032.38  -37227.793 -32647.39  -32135.064 -30852.535\n",
            " -29811.902 -31531.943 -22107.223 -21355.01  -32316.19 ]\n"
          ]
        }
      ],
      "source": [
        "print(\"Pred Values-- \" ,pred)\n",
        "print(\"\\nOriginal Values-- \" ,label)\n",
        "print(\"\\nResidual \" ,residual)"
      ],
      "id": "4741baa6-47e2-4b58-adf4-10b8a948d0a4"
    },
    {
      "cell_type": "code",
      "execution_count": 33,
      "metadata": {
        "id": "3427e5a3-e799-4119-a0f1-b0aef6ab7c77",
        "colab": {
          "base_uri": "https://localhost:8080/"
        },
        "outputId": "9abfd8ad-acc4-48d6-ad2d-3e3627e7da8e"
      },
      "outputs": [
        {
          "output_type": "stream",
          "name": "stdout",
          "text": [
            "Mean Squared Error (MSE): 1889339952.6399434\n",
            "Mean Absolute Error (MAE): 41928.7828993638\n",
            "Mean Absolute Error (MAPE): 637761.3551836621\n",
            "r2 Score: -28980116461.701763\n"
          ]
        }
      ],
      "source": [
        "from sklearn.metrics import mean_squared_error\n",
        "from sklearn.metrics import mean_absolute_error\n",
        "from sklearn.metrics import r2_score\n",
        "from sklearn.metrics import mean_absolute_percentage_error\n",
        "\n",
        "mse = mean_squared_error(y_test, pred)\n",
        "\n",
        "mae = mean_absolute_error(y_test, pred)\n",
        "\n",
        "mape = mean_absolute_percentage_error(y_test,pred)\n",
        "\n",
        "r2 = r2_score(y_test, pred)\n",
        "\n",
        "print(f\"Mean Squared Error (MSE): {mse}\")\n",
        "print(f\"Mean Absolute Error (MAE): {mae}\")\n",
        "print(f\"Mean Absolute Error (MAPE): {mape}\")\n",
        "print(f\"r2 Score: {r2}\")"
      ],
      "id": "3427e5a3-e799-4119-a0f1-b0aef6ab7c77"
    },
    {
      "cell_type": "code",
      "execution_count": 34,
      "metadata": {
        "id": "zDdLv7tOB6oN",
        "colab": {
          "base_uri": "https://localhost:8080/",
          "height": 545
        },
        "outputId": "0650be3d-ecfc-4192-dc8a-59c388392977"
      },
      "outputs": [
        {
          "output_type": "display_data",
          "data": {
            "text/plain": [
              "<Figure size 1000x600 with 1 Axes>"
            ],
            "image/png": "[encoded data removed]"
          },
          "metadata": {}
        }
      ],
      "source": [
        "plt.figure(figsize=(10, 6))\n",
        "plt.plot(label, label='Actual')\n",
        "plt.plot(pred, label='Combined Predictions')\n",
        "plt.legend()\n",
        "plt.title('Actual vs Combined Predictions LSTM')\n",
        "plt.show()"
      ],
      "id": "zDdLv7tOB6oN"
    },
    {
      "cell_type": "code",
      "execution_count": 35,
      "metadata": {
        "id": "-ZCJw5GOsZWt",
        "colab": {
          "base_uri": "https://localhost:8080/"
        },
        "outputId": "80ce80b1-7971-4788-f204-6512728a83b9"
      },
      "outputs": [
        {
          "output_type": "execute_result",
          "data": {
            "text/plain": [
              "(23,)"
            ]
          },
          "metadata": {},
          "execution_count": 35
        }
      ],
      "source": [
        "residual.shape"
      ],
      "id": "-ZCJw5GOsZWt"
    },
    {
      "cell_type": "code",
      "execution_count": 36,
      "metadata": {
        "id": "WIVomnR9qGeX",
        "colab": {
          "base_uri": "https://localhost:8080/"
        },
        "outputId": "24cd4160-a52a-4315-f986-5defbfc180f2"
      },
      "outputs": [
        {
          "output_type": "execute_result",
          "data": {
            "text/plain": [
              "(array([  6253.2, 154993.6,  46114.9,   5805.3,  66146.6,  70568.9,\n",
              "         26339.8,   9721.8,   7921.4,  22110.1,   2010.9,   6963. ,\n",
              "        114260. ,  86737. ,  17318. ,  49808. ,  63853. ,  33696. ,\n",
              "         23817. ,  18106. ,  18508. ,  10568. ,   1864. ]),\n",
              " (23,))"
            ]
          },
          "metadata": {},
          "execution_count": 36
        }
      ],
      "source": [
        "selected_feature = label\n",
        "selected_feature,selected_feature.shape"
      ],
      "id": "WIVomnR9qGeX"
    },
    {
      "cell_type": "code",
      "execution_count": 37,
      "metadata": {
        "id": "_-qMjRu-I59N"
      },
      "outputs": [],
      "source": [
        "# selected_feature_2d = selected_feature.reshape(-1, 1)\n",
        "# selected_feature_2d"
      ],
      "id": "_-qMjRu-I59N"
    },
    {
      "cell_type": "code",
      "execution_count": 38,
      "metadata": {
        "id": "rWoWJdA2JDKe",
        "colab": {
          "base_uri": "https://localhost:8080/"
        },
        "outputId": "25aa8b7b-4871-4a34-8006-29feb64b6f02"
      },
      "outputs": [
        {
          "output_type": "execute_result",
          "data": {
            "text/plain": [
              "array([[  6253.2],\n",
              "       [154993.6],\n",
              "       [ 46114.9],\n",
              "       [  5805.3],\n",
              "       [ 66146.6],\n",
              "       [ 70568.9],\n",
              "       [ 26339.8],\n",
              "       [  9721.8],\n",
              "       [  7921.4],\n",
              "       [ 22110.1],\n",
              "       [  2010.9],\n",
              "       [  6963. ],\n",
              "       [114260. ],\n",
              "       [ 86737. ],\n",
              "       [ 17318. ],\n",
              "       [ 49808. ],\n",
              "       [ 63853. ],\n",
              "       [ 33696. ],\n",
              "       [ 23817. ],\n",
              "       [ 18106. ],\n",
              "       [ 18508. ],\n",
              "       [ 10568. ],\n",
              "       [  1864. ]])"
            ]
          },
          "metadata": {},
          "execution_count": 38
        }
      ],
      "source": [
        "label_2d = label.reshape(-1, 1)\n",
        "label_2d"
      ],
      "id": "rWoWJdA2JDKe"
    },
    {
      "cell_type": "markdown",
      "source": [
        "# SVM dengan Residue"
      ],
      "metadata": {
        "id": "gWuI-5tTQ5Tk"
      },
      "id": "gWuI-5tTQ5Tk"
    },
    {
      "cell_type": "code",
      "execution_count": 39,
      "metadata": {
        "id": "de519a58-626b-43cd-9cc2-dcce37901777",
        "colab": {
          "base_uri": "https://localhost:8080/"
        },
        "outputId": "e6d4e7cb-4787-42bd-a396-33ef3a548be4"
      },
      "outputs": [
        {
          "output_type": "stream",
          "name": "stdout",
          "text": [
            "[LibSVM]"
          ]
        },
        {
          "output_type": "execute_result",
          "data": {
            "text/plain": [
              "array([-44101.40527542, -32509.35827655, -40994.79335102, -44136.31225294,\n",
              "       -39433.62767253, -39088.97678629, -42535.96097392, -43831.08077471,\n",
              "       -43971.39451291, -42865.60161801, -44432.02789707, -44046.08718408,\n",
              "       -35683.92150725, -37828.91984022, -43239.07276953, -40706.97250212,\n",
              "       -39612.37883414, -41962.65731085, -42732.57478083, -43177.66018141,\n",
              "       -43146.33040846, -43765.13238323, -44443.47651309])"
            ]
          },
          "metadata": {},
          "execution_count": 39
        }
      ],
      "source": [
        "svm_model = SVR(kernel='linear', verbose=True)\n",
        "svm_model.fit(label_2d, residual)\n",
        "svm_predictions = svm_model.predict(label_2d)\n",
        "svm_predictions"
      ],
      "id": "de519a58-626b-43cd-9cc2-dcce37901777"
    },
    {
      "cell_type": "code",
      "execution_count": 40,
      "metadata": {
        "id": "7oSErvbTq8wY",
        "colab": {
          "base_uri": "https://localhost:8080/"
        },
        "outputId": "b178fa61-9c90-4608-95a1-5638a31eee7b"
      },
      "outputs": [
        {
          "output_type": "execute_result",
          "data": {
            "text/plain": [
              "(23,)"
            ]
          },
          "metadata": {},
          "execution_count": 40
        }
      ],
      "source": [
        "svm_predictions.shape"
      ],
      "id": "7oSErvbTq8wY"
    },
    {
      "cell_type": "code",
      "execution_count": 41,
      "metadata": {
        "id": "kSd6KLZjNlxB",
        "colab": {
          "base_uri": "https://localhost:8080/"
        },
        "outputId": "7af3028d-ef91-4053-a4b2-a72f94ff7b9e"
      },
      "outputs": [
        {
          "output_type": "execute_result",
          "data": {
            "text/plain": [
              "(23,)"
            ]
          },
          "metadata": {},
          "execution_count": 41
        }
      ],
      "source": [
        "pred.shape"
      ],
      "id": "kSd6KLZjNlxB"
    },
    {
      "cell_type": "code",
      "execution_count": 42,
      "metadata": {
        "id": "2X6JWqhErLs2",
        "colab": {
          "base_uri": "https://localhost:8080/"
        },
        "outputId": "299a149b-08c5-472d-c85b-cc2f6b74279d"
      },
      "outputs": [
        {
          "output_type": "execute_result",
          "data": {
            "text/plain": [
              "array([ 11101.95019333,  25403.51672345,  19499.41758648,  10250.16821581,\n",
              "        13891.66920247,  14477.38649496,   9288.09371358,   1117.09110029,\n",
              "         5517.11329959,   8019.63666324,   1360.35491543,     54.12765967,\n",
              "        -1620.8160385 ,    239.45906603,  -5975.27980078,  -8023.58187712,\n",
              "        -7441.31438101, -11074.1221546 , -12884.67243708, -11609.71682204,\n",
              "       -21003.10775221, -22374.12261761, -12091.28705997])"
            ]
          },
          "metadata": {},
          "execution_count": 42
        }
      ],
      "source": [
        "combined_predictions = pred + svm_predictions\n",
        "combined_predictions"
      ],
      "id": "2X6JWqhErLs2"
    },
    {
      "cell_type": "code",
      "execution_count": 43,
      "metadata": {
        "id": "ZpDpmWvMrWXT",
        "colab": {
          "base_uri": "https://localhost:8080/"
        },
        "outputId": "546a76ed-724c-4e50-b128-554bfbf3438c"
      },
      "outputs": [
        {
          "output_type": "execute_result",
          "data": {
            "text/plain": [
              "((23,), (23,))"
            ]
          },
          "metadata": {},
          "execution_count": 43
        }
      ],
      "source": [
        "combined_predictions.shape, label.shape"
      ],
      "id": "ZpDpmWvMrWXT"
    },
    {
      "cell_type": "code",
      "execution_count": 44,
      "metadata": {
        "id": "peA_45vj_ATu",
        "colab": {
          "base_uri": "https://localhost:8080/"
        },
        "outputId": "c6f10b4a-118d-499f-e3ab-19973dad6cda"
      },
      "outputs": [
        {
          "output_type": "stream",
          "name": "stdout",
          "text": [
            "Mean Squared Error (MSE): 152609848.46450606\n",
            "Mean Absolute Error (MAE): 10187.693614278214\n",
            "Mean Absolute Error (MAPE): 125953.55528361272\n",
            "r2 Score: -2340844575.793581\n"
          ]
        }
      ],
      "source": [
        "from sklearn.metrics import mean_squared_error\n",
        "from sklearn.metrics import mean_absolute_error\n",
        "from sklearn.metrics import r2_score\n",
        "from sklearn.metrics import mean_absolute_percentage_error\n",
        "\n",
        "mse = mean_squared_error(y_test, combined_predictions)\n",
        "\n",
        "mae = mean_absolute_error(y_test, combined_predictions)\n",
        "\n",
        "mape = mean_absolute_percentage_error(y_test,combined_predictions)\n",
        "\n",
        "r2 = r2_score(y_test, combined_predictions)\n",
        "\n",
        "print(f\"Mean Squared Error (MSE): {mse}\")\n",
        "print(f\"Mean Absolute Error (MAE): {mae}\")\n",
        "print(f\"Mean Absolute Error (MAPE): {mape}\")\n",
        "print(f\"r2 Score: {r2}\")"
      ],
      "id": "peA_45vj_ATu"
    },
    {
      "cell_type": "code",
      "execution_count": 45,
      "metadata": {
        "id": "q6oFUTTqrSqj",
        "colab": {
          "base_uri": "https://localhost:8080/",
          "height": 545
        },
        "outputId": "f3810b43-1b45-4e10-b17f-16ee97a0c267"
      },
      "outputs": [
        {
          "output_type": "display_data",
          "data": {
            "text/plain": [
              "<Figure size 1000x600 with 1 Axes>"
            ],
            "image/png": "[encoded data removed]"
          },
          "metadata": {}
        }
      ],
      "source": [
        "plt.figure(figsize=(10, 6))\n",
        "plt.plot(label_2d, label='Actual')\n",
        "plt.plot(combined_predictions, label='Combined Predictions')\n",
        "plt.legend()\n",
        "plt.title('Actual vs Combined Predictions Blm ditambah dgn LSTM')\n",
        "plt.show()"
      ],
      "id": "q6oFUTTqrSqj"
    },
    {
      "cell_type": "markdown",
      "source": [
        "# FINAL"
      ],
      "metadata": {
        "id": "eGnbxFrLQsTS"
      },
      "id": "eGnbxFrLQsTS"
    },
    {
      "cell_type": "code",
      "source": [
        "final = combined_predictions + pred\n",
        "final"
      ],
      "metadata": {
        "id": "AMBw9kO9Pyj3",
        "colab": {
          "base_uri": "https://localhost:8080/"
        },
        "outputId": "b5d588d2-2741-4652-f46c-9368cfd5c681"
      },
      "id": "AMBw9kO9Pyj3",
      "execution_count": 46,
      "outputs": [
        {
          "output_type": "execute_result",
          "data": {
            "text/plain": [
              "array([66305.30566208, 83316.39172345, 79993.62852398, 64636.64868456,\n",
              "       67216.96607747, 68043.74977621, 61112.14840108, 46065.26297529,\n",
              "       55005.62111209, 58904.87494449, 47152.73772793, 44154.34250342,\n",
              "       32442.28943025, 38307.83797228, 31288.51316797, 24659.80874788,\n",
              "       24729.75007211, 19814.41300165, 16963.22990667, 19958.22653734,\n",
              "        1140.11490404,  -983.11285198, 20260.90239316])"
            ]
          },
          "metadata": {},
          "execution_count": 46
        }
      ]
    },
    {
      "cell_type": "code",
      "source": [
        "from sklearn.metrics import mean_squared_error\n",
        "from sklearn.metrics import mean_absolute_error\n",
        "from sklearn.metrics import r2_score\n",
        "from sklearn.metrics import mean_absolute_percentage_error\n",
        "\n",
        "mse = mean_squared_error(y_test, final)\n",
        "\n",
        "mae = mean_absolute_error(y_test, final)\n",
        "\n",
        "mape = mean_absolute_percentage_error(y_test,final)\n",
        "\n",
        "r2 = r2_score(y_test, final)\n",
        "\n",
        "print(f\"Mean Squared Error (MSE): {mse}\")\n",
        "print(f\"Mean Absolute Error (MAE): {mae}\")\n",
        "print(f\"Mean Absolute Error (MAPE): {mape}\")\n",
        "print(f\"r2 Score: {r2}\")"
      ],
      "metadata": {
        "id": "lv1A3fwUQQcG",
        "colab": {
          "base_uri": "https://localhost:8080/"
        },
        "outputId": "45972c0d-8fbf-4154-d9aa-ac70fdf00b5b"
      },
      "id": "lv1A3fwUQQcG",
      "execution_count": 47,
      "outputs": [
        {
          "output_type": "stream",
          "name": "stdout",
          "text": [
            "Mean Squared Error (MSE): 2339025577.9864516\n",
            "Mean Absolute Error (MAE): 42280.44932519685\n",
            "Mean Absolute Error (MAPE): 603443.252665567\n",
            "r2 Score: -35877732624.39147\n"
          ]
        }
      ]
    },
    {
      "cell_type": "markdown",
      "metadata": {
        "id": "26ee0a65-7047-4d59-b5bc-0949f421fa6e"
      },
      "source": [
        "## Plot Hasil Prediksi"
      ],
      "id": "26ee0a65-7047-4d59-b5bc-0949f421fa6e"
    },
    {
      "cell_type": "code",
      "source": [
        "plt.figure(figsize=(10, 6))\n",
        "plt.plot(label_2d, label='Actual')\n",
        "plt.plot(final, label='Predicted')\n",
        "plt.legend()\n",
        "plt.title('Actual vs Combined Predictions FINAL')\n",
        "plt.show()"
      ],
      "metadata": {
        "colab": {
          "base_uri": "https://localhost:8080/",
          "height": 545
        },
        "id": "1DVOv-icF-7n",
        "outputId": "0fd7a62a-8d87-426a-f9ee-1a025039c9cb"
      },
      "id": "1DVOv-icF-7n",
      "execution_count": 52,
      "outputs": [
        {
          "output_type": "display_data",
          "data": {
            "text/plain": [
              "<Figure size 1000x600 with 1 Axes>"
            ],
            "image/png": "[encoded data removed]"
          },
          "metadata": {}
        }
      ]
    },
    {
      "cell_type": "code",
      "source": [
        "\n",
        "\n",
        "plt.figure(figsize=(10, 6))\n",
        "\n",
        "# Plot nilai asli\n",
        "plt.plot(data['Bulan'][-len(final):], label_2d[-len(final):], marker='o', linestyle='-', label='Nilai Asli', color='blue')\n",
        "\n",
        "# Plot hasil prediksi\n",
        "plt.plot(data['Bulan'][-len(final):], final, marker='o', linestyle='-', label='Hasil Prediksi', color='red')\n",
        "\n",
        "plt.title('Prediksi vs Nilai Asli Produksi Padi per Bulan')\n",
        "plt.xlabel('Bulan')\n",
        "plt.ylabel('Produksi Padi (ton)')\n",
        "plt.grid(True)\n",
        "plt.xticks(data['Bulan'].unique())  # Menampilkan label bulan\n",
        "plt.legend()\n",
        "plt.show()"
      ],
      "metadata": {
        "id": "cquFry52QWkw",
        "colab": {
          "base_uri": "https://localhost:8080/",
          "height": 564
        },
        "outputId": "d8d1c7c6-5b93-4a26-d320-445014ec0555"
      },
      "id": "cquFry52QWkw",
      "execution_count": 51,
      "outputs": [
        {
          "output_type": "display_data",
          "data": {
            "text/plain": [
              "<Figure size 1000x600 with 1 Axes>"
            ],
            "image/png": "[encoded data removed]"
          },
          "metadata": {}
        }
      ]
    },
    {
      "cell_type": "code",
      "execution_count": 49,
      "metadata": {
        "id": "fe640092-969d-4af6-9b09-83d1b149d46e"
      },
      "outputs": [],
      "source": [
        "# plt.plot(label, color = 'red', label = 'Real')\n",
        "# plt.plot(pred, color = 'blue', label = 'Predicted')\n",
        "# plt.title('Prediction')\n",
        "# plt.xlabel('Time')\n",
        "# plt.ylabel('Value')\n",
        "# plt.legend()\n",
        "# plt.show()"
      ],
      "id": "fe640092-969d-4af6-9b09-83d1b149d46e"
    },
    {
      "cell_type": "code",
      "execution_count": 50,
      "metadata": {
        "id": "51435e8f-4481-4501-8d1f-0bd384cdee39",
        "colab": {
          "base_uri": "https://localhost:8080/"
        },
        "outputId": "ae46a187-c849-4d2f-c5e7-5047eb61221d"
      },
      "outputs": [
        {
          "output_type": "execute_result",
          "data": {
            "text/plain": [
              "0         90.30\n",
              "1      11767.87\n",
              "2     151724.82\n",
              "3      32095.92\n",
              "4       3983.73\n",
              "5      59735.42\n",
              "6      63961.14\n",
              "7      17902.15\n",
              "8      16069.38\n",
              "9       9797.46\n",
              "10      6504.30\n",
              "11       630.50\n",
              "12      1988.21\n",
              "13     17925.11\n",
              "14    145529.02\n",
              "15     42535.52\n",
              "16     12105.41\n",
              "17     65237.10\n",
              "18     63868.34\n",
              "19     10263.98\n",
              "20     16746.45\n",
              "21     12801.26\n",
              "22      4303.10\n",
              "23       498.52\n",
              "24       476.33\n",
              "25      4698.00\n",
              "26    147080.02\n",
              "27     44206.87\n",
              "28     11366.55\n",
              "29     74117.47\n",
              "30     55162.35\n",
              "31     21069.22\n",
              "32     17115.07\n",
              "33      2714.40\n",
              "34     19105.20\n",
              "35       378.45\n",
              "36      1726.20\n",
              "37      6253.20\n",
              "38    154993.60\n",
              "39     46114.90\n",
              "40      5805.30\n",
              "41     66146.60\n",
              "42     70568.90\n",
              "43     26339.80\n",
              "44      9721.80\n",
              "45      7921.40\n",
              "46     22110.10\n",
              "47      2010.90\n",
              "48      6963.00\n",
              "49    114260.00\n",
              "50     86737.00\n",
              "51     17318.00\n",
              "52     49808.00\n",
              "53     63853.00\n",
              "54     33696.00\n",
              "55     23817.00\n",
              "56     18106.00\n",
              "57     18508.00\n",
              "58     10568.00\n",
              "59      1864.00\n",
              "Name: Produksi Padi (ton), dtype: float64"
            ]
          },
          "metadata": {},
          "execution_count": 50
        }
      ],
      "source": [
        "data.iloc[:,4]"
      ],
      "id": "51435e8f-4481-4501-8d1f-0bd384cdee39"
    },
    {
      "cell_type": "code",
      "source": [],
      "metadata": {
        "id": "JjBmiE7iJYlS"
      },
      "id": "JjBmiE7iJYlS",
      "execution_count": 50,
      "outputs": []
    }
  ],
  "metadata": {
    "accelerator": "GPU",
    "colab": {
      "provenance": []
    },
    "kernelspec": {
      "display_name": "Python 3",
      "name": "python3"
    },
    "language_info": {
      "codemirror_mode": {
        "name": "ipython",
        "version": 3
      },
      "file_extension": ".py",
      "mimetype": "text/x-python",
      "name": "python",
      "nbconvert_exporter": "python",
      "pygments_lexer": "ipython3",
      "version": "3.10.12"
    }
  },
  "nbformat": 4,
  "nbformat_minor": 5
}
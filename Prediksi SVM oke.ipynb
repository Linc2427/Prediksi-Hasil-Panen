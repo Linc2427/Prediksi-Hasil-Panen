{
 "cells": [
  {
   "cell_type": "code",
   "execution_count": 1,
   "id": "8ecb2385-4c50-4d8c-a4bf-a2db4b2fe718",
   "metadata": {},
   "outputs": [
    {
     "name": "stderr",
     "output_type": "stream",
     "text": [
      "/usr/lib/python3/dist-packages/scipy/__init__.py:146: UserWarning: A NumPy version >=1.17.3 and <1.25.0 is required for this version of SciPy (detected version 1.26.1\n",
      "  warnings.warn(f\"A NumPy version >={np_minversion} and <{np_maxversion}\"\n",
      "2023-12-06 19:30:26.122275: I tensorflow/tsl/cuda/cudart_stub.cc:28] Could not find cuda drivers on your machine, GPU will not be used.\n",
      "2023-12-06 19:30:26.587915: E tensorflow/compiler/xla/stream_executor/cuda/cuda_dnn.cc:9342] Unable to register cuDNN factory: Attempting to register factory for plugin cuDNN when one has already been registered\n",
      "2023-12-06 19:30:26.587972: E tensorflow/compiler/xla/stream_executor/cuda/cuda_fft.cc:609] Unable to register cuFFT factory: Attempting to register factory for plugin cuFFT when one has already been registered\n",
      "2023-12-06 19:30:26.589912: E tensorflow/compiler/xla/stream_executor/cuda/cuda_blas.cc:1518] Unable to register cuBLAS factory: Attempting to register factory for plugin cuBLAS when one has already been registered\n",
      "2023-12-06 19:30:26.803342: I tensorflow/tsl/cuda/cudart_stub.cc:28] Could not find cuda drivers on your machine, GPU will not be used.\n",
      "2023-12-06 19:30:26.806462: I tensorflow/core/platform/cpu_feature_guard.cc:182] This TensorFlow binary is optimized to use available CPU instructions in performance-critical operations.\n",
      "To enable the following instructions: AVX2 FMA, in other operations, rebuild TensorFlow with the appropriate compiler flags.\n",
      "2023-12-06 19:30:29.287950: W tensorflow/compiler/tf2tensorrt/utils/py_utils.cc:38] TF-TRT Warning: Could not find TensorRT\n"
     ]
    }
   ],
   "source": [
    "import pandas as pd\n",
    "import numpy as np\n",
    "import matplotlib.pyplot as plt\n",
    "import seaborn as sns\n",
    "from sklearn.svm import SVR\n",
    "from sklearn.svm import SVC\n",
    "# from keras.models import Sequential\n",
    "# from keras.layers import Dense,  LSTM\n",
    "from keras import metrics\n",
    "from sklearn.preprocessing import MinMaxScaler\n",
    "from sklearn.metrics import mean_squared_error, r2_score\n",
    "from sklearn.model_selection import train_test_split\n",
    "from sklearn.model_selection import TimeSeriesSplit"
   ]
  },
  {
   "cell_type": "code",
   "execution_count": 2,
   "id": "9ed4e429-57b6-4ff7-bd51-9c5ca380a26f",
   "metadata": {},
   "outputs": [],
   "source": [
    "df_hujan = pd.read_csv('Dataset/curah hujan baru.csv')\n",
    "df_yield = pd.read_csv('Dataset/hasil panen.csv')"
   ]
  },
  {
   "cell_type": "code",
   "execution_count": 3,
   "id": "58c1f220-dc8c-4072-870a-f68756e38d56",
   "metadata": {},
   "outputs": [
    {
     "data": {
      "text/html": [
       "<div>\n",
       "<style scoped>\n",
       "    .dataframe tbody tr th:only-of-type {\n",
       "        vertical-align: middle;\n",
       "    }\n",
       "\n",
       "    .dataframe tbody tr th {\n",
       "        vertical-align: top;\n",
       "    }\n",
       "\n",
       "    .dataframe thead th {\n",
       "        text-align: right;\n",
       "    }\n",
       "</style>\n",
       "<table border=\"1\" class=\"dataframe\">\n",
       "  <thead>\n",
       "    <tr style=\"text-align: right;\">\n",
       "      <th></th>\n",
       "      <th>Tahun</th>\n",
       "      <th>Bulan</th>\n",
       "      <th>Luas Lahan</th>\n",
       "      <th>Luas Panen (ha)</th>\n",
       "      <th>Produksi Padi (ton/gkg)</th>\n",
       "    </tr>\n",
       "  </thead>\n",
       "  <tbody>\n",
       "    <tr>\n",
       "      <th>0</th>\n",
       "      <td>2013</td>\n",
       "      <td>Januari</td>\n",
       "      <td>38111.0</td>\n",
       "      <td>15.00</td>\n",
       "      <td>9030.00</td>\n",
       "    </tr>\n",
       "    <tr>\n",
       "      <th>1</th>\n",
       "      <td>2013</td>\n",
       "      <td>Februari</td>\n",
       "      <td>38111.0</td>\n",
       "      <td>1948.00</td>\n",
       "      <td>1176787.00</td>\n",
       "    </tr>\n",
       "    <tr>\n",
       "      <th>2</th>\n",
       "      <td>2013</td>\n",
       "      <td>Maret</td>\n",
       "      <td>38111.0</td>\n",
       "      <td>24877.00</td>\n",
       "      <td>15172482.00</td>\n",
       "    </tr>\n",
       "    <tr>\n",
       "      <th>3</th>\n",
       "      <td>2013</td>\n",
       "      <td>April</td>\n",
       "      <td>38111.0</td>\n",
       "      <td>5218.00</td>\n",
       "      <td>3209592.00</td>\n",
       "    </tr>\n",
       "    <tr>\n",
       "      <th>4</th>\n",
       "      <td>2013</td>\n",
       "      <td>Mei</td>\n",
       "      <td>38111.0</td>\n",
       "      <td>671.00</td>\n",
       "      <td>398373.00</td>\n",
       "    </tr>\n",
       "    <tr>\n",
       "      <th>...</th>\n",
       "      <td>...</td>\n",
       "      <td>...</td>\n",
       "      <td>...</td>\n",
       "      <td>...</td>\n",
       "      <td>...</td>\n",
       "    </tr>\n",
       "    <tr>\n",
       "      <th>115</th>\n",
       "      <td>2022</td>\n",
       "      <td>Agustus</td>\n",
       "      <td>37637.4</td>\n",
       "      <td>2254.27</td>\n",
       "      <td>14655.14</td>\n",
       "    </tr>\n",
       "    <tr>\n",
       "      <th>116</th>\n",
       "      <td>2022</td>\n",
       "      <td>September</td>\n",
       "      <td>37637.4</td>\n",
       "      <td>1053.19</td>\n",
       "      <td>6836.77</td>\n",
       "    </tr>\n",
       "    <tr>\n",
       "      <th>117</th>\n",
       "      <td>2022</td>\n",
       "      <td>Oktober</td>\n",
       "      <td>37637.4</td>\n",
       "      <td>3522.05</td>\n",
       "      <td>22863.35</td>\n",
       "    </tr>\n",
       "    <tr>\n",
       "      <th>118</th>\n",
       "      <td>2022</td>\n",
       "      <td>November</td>\n",
       "      <td>37637.4</td>\n",
       "      <td>1279.25</td>\n",
       "      <td>8304.24</td>\n",
       "    </tr>\n",
       "    <tr>\n",
       "      <th>119</th>\n",
       "      <td>2022</td>\n",
       "      <td>Desember</td>\n",
       "      <td>37637.4</td>\n",
       "      <td>262.36</td>\n",
       "      <td>1703.11</td>\n",
       "    </tr>\n",
       "  </tbody>\n",
       "</table>\n",
       "<p>120 rows × 5 columns</p>\n",
       "</div>"
      ],
      "text/plain": [
       "     Tahun      Bulan  Luas Lahan  Luas Panen (ha)  Produksi Padi (ton/gkg)\n",
       "0     2013    Januari     38111.0            15.00                  9030.00\n",
       "1     2013   Februari     38111.0          1948.00               1176787.00\n",
       "2     2013      Maret     38111.0         24877.00              15172482.00\n",
       "3     2013      April     38111.0          5218.00               3209592.00\n",
       "4     2013        Mei     38111.0           671.00                398373.00\n",
       "..     ...        ...         ...              ...                      ...\n",
       "115   2022    Agustus     37637.4          2254.27                 14655.14\n",
       "116   2022  September     37637.4          1053.19                  6836.77\n",
       "117   2022    Oktober     37637.4          3522.05                 22863.35\n",
       "118   2022   November     37637.4          1279.25                  8304.24\n",
       "119   2022   Desember     37637.4           262.36                  1703.11\n",
       "\n",
       "[120 rows x 5 columns]"
      ]
     },
     "execution_count": 3,
     "metadata": {},
     "output_type": "execute_result"
    }
   ],
   "source": [
    "df_yield"
   ]
  },
  {
   "cell_type": "code",
   "execution_count": 4,
   "id": "33c451b0-da4a-4e5c-a8fb-b9c17583251c",
   "metadata": {},
   "outputs": [],
   "source": [
    "## Data Yield\n",
    "df_yield.to_csv('panen.csv', index=False)\n",
    "df_panen_baru = pd.read_csv('panen.csv')\n",
    "# df_panen_baru['Produksi Padi (ton/gkg)'] = pd.to_numeric(df_panen_baru['Produksi Padi (ton/gkg)'],errors='coerce')\n",
    "# df_panen_baru = df_panen_baru.loc[:, ~df_panen_baru.columns.str.contains('^Unnamed')]\n",
    "data = pd.merge(df_panen_baru, df_hujan, on=['Tahun', 'Bulan'])\n",
    "\n",
    "# df_panen_baru.info()"
   ]
  },
  {
   "cell_type": "code",
   "execution_count": 5,
   "id": "ffd1f563-e51a-4e43-ac61-8961df67ef19",
   "metadata": {},
   "outputs": [],
   "source": [
    "# data = df_panen_baru"
   ]
  },
  {
   "cell_type": "code",
   "execution_count": 6,
   "id": "68e0b579-6919-4cc3-9184-2c4383dbf651",
   "metadata": {},
   "outputs": [
    {
     "data": {
      "text/html": [
       "<div>\n",
       "<style scoped>\n",
       "    .dataframe tbody tr th:only-of-type {\n",
       "        vertical-align: middle;\n",
       "    }\n",
       "\n",
       "    .dataframe tbody tr th {\n",
       "        vertical-align: top;\n",
       "    }\n",
       "\n",
       "    .dataframe thead th {\n",
       "        text-align: right;\n",
       "    }\n",
       "</style>\n",
       "<table border=\"1\" class=\"dataframe\">\n",
       "  <thead>\n",
       "    <tr style=\"text-align: right;\">\n",
       "      <th></th>\n",
       "      <th>Tahun</th>\n",
       "      <th>Bulan</th>\n",
       "      <th>Luas Lahan</th>\n",
       "      <th>Luas Panen (ha)</th>\n",
       "      <th>Produksi Padi (ton/gkg)</th>\n",
       "      <th>curah hujan (mm)</th>\n",
       "    </tr>\n",
       "  </thead>\n",
       "  <tbody>\n",
       "    <tr>\n",
       "      <th>0</th>\n",
       "      <td>2013</td>\n",
       "      <td>Januari</td>\n",
       "      <td>38111.0</td>\n",
       "      <td>15.00</td>\n",
       "      <td>9030.00</td>\n",
       "      <td>343.7</td>\n",
       "    </tr>\n",
       "    <tr>\n",
       "      <th>1</th>\n",
       "      <td>2013</td>\n",
       "      <td>Februari</td>\n",
       "      <td>38111.0</td>\n",
       "      <td>1948.00</td>\n",
       "      <td>1176787.00</td>\n",
       "      <td>201.1</td>\n",
       "    </tr>\n",
       "    <tr>\n",
       "      <th>2</th>\n",
       "      <td>2013</td>\n",
       "      <td>Maret</td>\n",
       "      <td>38111.0</td>\n",
       "      <td>24877.00</td>\n",
       "      <td>15172482.00</td>\n",
       "      <td>262.8</td>\n",
       "    </tr>\n",
       "    <tr>\n",
       "      <th>3</th>\n",
       "      <td>2013</td>\n",
       "      <td>April</td>\n",
       "      <td>38111.0</td>\n",
       "      <td>5218.00</td>\n",
       "      <td>3209592.00</td>\n",
       "      <td>197.2</td>\n",
       "    </tr>\n",
       "    <tr>\n",
       "      <th>4</th>\n",
       "      <td>2013</td>\n",
       "      <td>Mei</td>\n",
       "      <td>38111.0</td>\n",
       "      <td>671.00</td>\n",
       "      <td>398373.00</td>\n",
       "      <td>206.7</td>\n",
       "    </tr>\n",
       "    <tr>\n",
       "      <th>...</th>\n",
       "      <td>...</td>\n",
       "      <td>...</td>\n",
       "      <td>...</td>\n",
       "      <td>...</td>\n",
       "      <td>...</td>\n",
       "      <td>...</td>\n",
       "    </tr>\n",
       "    <tr>\n",
       "      <th>115</th>\n",
       "      <td>2022</td>\n",
       "      <td>Agustus</td>\n",
       "      <td>37637.4</td>\n",
       "      <td>2254.27</td>\n",
       "      <td>14655.14</td>\n",
       "      <td>514.0</td>\n",
       "    </tr>\n",
       "    <tr>\n",
       "      <th>116</th>\n",
       "      <td>2022</td>\n",
       "      <td>September</td>\n",
       "      <td>37637.4</td>\n",
       "      <td>1053.19</td>\n",
       "      <td>6836.77</td>\n",
       "      <td>243.0</td>\n",
       "    </tr>\n",
       "    <tr>\n",
       "      <th>117</th>\n",
       "      <td>2022</td>\n",
       "      <td>Oktober</td>\n",
       "      <td>37637.4</td>\n",
       "      <td>3522.05</td>\n",
       "      <td>22863.35</td>\n",
       "      <td>376.0</td>\n",
       "    </tr>\n",
       "    <tr>\n",
       "      <th>118</th>\n",
       "      <td>2022</td>\n",
       "      <td>November</td>\n",
       "      <td>37637.4</td>\n",
       "      <td>1279.25</td>\n",
       "      <td>8304.24</td>\n",
       "      <td>526.0</td>\n",
       "    </tr>\n",
       "    <tr>\n",
       "      <th>119</th>\n",
       "      <td>2022</td>\n",
       "      <td>Desember</td>\n",
       "      <td>37637.4</td>\n",
       "      <td>262.36</td>\n",
       "      <td>1703.11</td>\n",
       "      <td>321.0</td>\n",
       "    </tr>\n",
       "  </tbody>\n",
       "</table>\n",
       "<p>120 rows × 6 columns</p>\n",
       "</div>"
      ],
      "text/plain": [
       "     Tahun      Bulan  Luas Lahan  Luas Panen (ha)  Produksi Padi (ton/gkg)  \\\n",
       "0     2013    Januari     38111.0            15.00                  9030.00   \n",
       "1     2013   Februari     38111.0          1948.00               1176787.00   \n",
       "2     2013      Maret     38111.0         24877.00              15172482.00   \n",
       "3     2013      April     38111.0          5218.00               3209592.00   \n",
       "4     2013        Mei     38111.0           671.00                398373.00   \n",
       "..     ...        ...         ...              ...                      ...   \n",
       "115   2022    Agustus     37637.4          2254.27                 14655.14   \n",
       "116   2022  September     37637.4          1053.19                  6836.77   \n",
       "117   2022    Oktober     37637.4          3522.05                 22863.35   \n",
       "118   2022   November     37637.4          1279.25                  8304.24   \n",
       "119   2022   Desember     37637.4           262.36                  1703.11   \n",
       "\n",
       "     curah hujan (mm)  \n",
       "0               343.7  \n",
       "1               201.1  \n",
       "2               262.8  \n",
       "3               197.2  \n",
       "4               206.7  \n",
       "..                ...  \n",
       "115             514.0  \n",
       "116             243.0  \n",
       "117             376.0  \n",
       "118             526.0  \n",
       "119             321.0  \n",
       "\n",
       "[120 rows x 6 columns]"
      ]
     },
     "execution_count": 6,
     "metadata": {},
     "output_type": "execute_result"
    }
   ],
   "source": [
    "data"
   ]
  },
  {
   "cell_type": "code",
   "execution_count": 7,
   "id": "3bee249c-a3ac-4aae-9620-fc68a9d5d3f5",
   "metadata": {},
   "outputs": [
    {
     "name": "stdout",
     "output_type": "stream",
     "text": [
      "<class 'pandas.core.frame.DataFrame'>\n",
      "RangeIndex: 120 entries, 0 to 119\n",
      "Data columns (total 6 columns):\n",
      " #   Column                   Non-Null Count  Dtype  \n",
      "---  ------                   --------------  -----  \n",
      " 0   Tahun                    120 non-null    int64  \n",
      " 1   Bulan                    120 non-null    object \n",
      " 2   Luas Lahan               120 non-null    float64\n",
      " 3   Luas Panen (ha)          120 non-null    float64\n",
      " 4   Produksi Padi (ton/gkg)  120 non-null    float64\n",
      " 5   curah hujan (mm)         120 non-null    float64\n",
      "dtypes: float64(4), int64(1), object(1)\n",
      "memory usage: 5.8+ KB\n"
     ]
    }
   ],
   "source": [
    "data.info()"
   ]
  },
  {
   "cell_type": "code",
   "execution_count": 8,
   "id": "30fc3424-8aac-45b7-bddf-085b9047aefb",
   "metadata": {},
   "outputs": [],
   "source": [
    "month_mapping = {\n",
    "    'Januari': 1,\n",
    "    'Februari': 2,\n",
    "    'Maret': 3,\n",
    "    'April': 4,\n",
    "    'Mei': 5,\n",
    "    'Juni': 6,\n",
    "    'Juli': 7,\n",
    "    'Agustus': 8,\n",
    "    'September': 9,\n",
    "    'Oktober': 10,\n",
    "    'November': 11,\n",
    "    'Desember': 12\n",
    "}"
   ]
  },
  {
   "cell_type": "code",
   "execution_count": 9,
   "id": "d32bd0d4-a7b4-4b5e-b369-f57353e33209",
   "metadata": {},
   "outputs": [],
   "source": [
    "data['Bulan'] = data['Bulan'].map(month_mapping)"
   ]
  },
  {
   "cell_type": "code",
   "execution_count": 10,
   "id": "e48b69bb-28cd-4078-97c0-2e258fbc36d1",
   "metadata": {},
   "outputs": [
    {
     "data": {
      "text/html": [
       "<div>\n",
       "<style scoped>\n",
       "    .dataframe tbody tr th:only-of-type {\n",
       "        vertical-align: middle;\n",
       "    }\n",
       "\n",
       "    .dataframe tbody tr th {\n",
       "        vertical-align: top;\n",
       "    }\n",
       "\n",
       "    .dataframe thead th {\n",
       "        text-align: right;\n",
       "    }\n",
       "</style>\n",
       "<table border=\"1\" class=\"dataframe\">\n",
       "  <thead>\n",
       "    <tr style=\"text-align: right;\">\n",
       "      <th></th>\n",
       "      <th>Tahun</th>\n",
       "      <th>Bulan</th>\n",
       "      <th>Luas Lahan</th>\n",
       "      <th>Luas Panen (ha)</th>\n",
       "      <th>Produksi Padi (ton/gkg)</th>\n",
       "      <th>curah hujan (mm)</th>\n",
       "    </tr>\n",
       "  </thead>\n",
       "  <tbody>\n",
       "    <tr>\n",
       "      <th>0</th>\n",
       "      <td>2013</td>\n",
       "      <td>1</td>\n",
       "      <td>38111.0</td>\n",
       "      <td>15.00</td>\n",
       "      <td>9030.00</td>\n",
       "      <td>343.7</td>\n",
       "    </tr>\n",
       "    <tr>\n",
       "      <th>1</th>\n",
       "      <td>2013</td>\n",
       "      <td>2</td>\n",
       "      <td>38111.0</td>\n",
       "      <td>1948.00</td>\n",
       "      <td>1176787.00</td>\n",
       "      <td>201.1</td>\n",
       "    </tr>\n",
       "    <tr>\n",
       "      <th>2</th>\n",
       "      <td>2013</td>\n",
       "      <td>3</td>\n",
       "      <td>38111.0</td>\n",
       "      <td>24877.00</td>\n",
       "      <td>15172482.00</td>\n",
       "      <td>262.8</td>\n",
       "    </tr>\n",
       "    <tr>\n",
       "      <th>3</th>\n",
       "      <td>2013</td>\n",
       "      <td>4</td>\n",
       "      <td>38111.0</td>\n",
       "      <td>5218.00</td>\n",
       "      <td>3209592.00</td>\n",
       "      <td>197.2</td>\n",
       "    </tr>\n",
       "    <tr>\n",
       "      <th>4</th>\n",
       "      <td>2013</td>\n",
       "      <td>5</td>\n",
       "      <td>38111.0</td>\n",
       "      <td>671.00</td>\n",
       "      <td>398373.00</td>\n",
       "      <td>206.7</td>\n",
       "    </tr>\n",
       "    <tr>\n",
       "      <th>...</th>\n",
       "      <td>...</td>\n",
       "      <td>...</td>\n",
       "      <td>...</td>\n",
       "      <td>...</td>\n",
       "      <td>...</td>\n",
       "      <td>...</td>\n",
       "    </tr>\n",
       "    <tr>\n",
       "      <th>115</th>\n",
       "      <td>2022</td>\n",
       "      <td>8</td>\n",
       "      <td>37637.4</td>\n",
       "      <td>2254.27</td>\n",
       "      <td>14655.14</td>\n",
       "      <td>514.0</td>\n",
       "    </tr>\n",
       "    <tr>\n",
       "      <th>116</th>\n",
       "      <td>2022</td>\n",
       "      <td>9</td>\n",
       "      <td>37637.4</td>\n",
       "      <td>1053.19</td>\n",
       "      <td>6836.77</td>\n",
       "      <td>243.0</td>\n",
       "    </tr>\n",
       "    <tr>\n",
       "      <th>117</th>\n",
       "      <td>2022</td>\n",
       "      <td>10</td>\n",
       "      <td>37637.4</td>\n",
       "      <td>3522.05</td>\n",
       "      <td>22863.35</td>\n",
       "      <td>376.0</td>\n",
       "    </tr>\n",
       "    <tr>\n",
       "      <th>118</th>\n",
       "      <td>2022</td>\n",
       "      <td>11</td>\n",
       "      <td>37637.4</td>\n",
       "      <td>1279.25</td>\n",
       "      <td>8304.24</td>\n",
       "      <td>526.0</td>\n",
       "    </tr>\n",
       "    <tr>\n",
       "      <th>119</th>\n",
       "      <td>2022</td>\n",
       "      <td>12</td>\n",
       "      <td>37637.4</td>\n",
       "      <td>262.36</td>\n",
       "      <td>1703.11</td>\n",
       "      <td>321.0</td>\n",
       "    </tr>\n",
       "  </tbody>\n",
       "</table>\n",
       "<p>120 rows × 6 columns</p>\n",
       "</div>"
      ],
      "text/plain": [
       "     Tahun  Bulan  Luas Lahan  Luas Panen (ha)  Produksi Padi (ton/gkg)  \\\n",
       "0     2013      1     38111.0            15.00                  9030.00   \n",
       "1     2013      2     38111.0          1948.00               1176787.00   \n",
       "2     2013      3     38111.0         24877.00              15172482.00   \n",
       "3     2013      4     38111.0          5218.00               3209592.00   \n",
       "4     2013      5     38111.0           671.00                398373.00   \n",
       "..     ...    ...         ...              ...                      ...   \n",
       "115   2022      8     37637.4          2254.27                 14655.14   \n",
       "116   2022      9     37637.4          1053.19                  6836.77   \n",
       "117   2022     10     37637.4          3522.05                 22863.35   \n",
       "118   2022     11     37637.4          1279.25                  8304.24   \n",
       "119   2022     12     37637.4           262.36                  1703.11   \n",
       "\n",
       "     curah hujan (mm)  \n",
       "0               343.7  \n",
       "1               201.1  \n",
       "2               262.8  \n",
       "3               197.2  \n",
       "4               206.7  \n",
       "..                ...  \n",
       "115             514.0  \n",
       "116             243.0  \n",
       "117             376.0  \n",
       "118             526.0  \n",
       "119             321.0  \n",
       "\n",
       "[120 rows x 6 columns]"
      ]
     },
     "execution_count": 10,
     "metadata": {},
     "output_type": "execute_result"
    }
   ],
   "source": [
    "data"
   ]
  },
  {
   "cell_type": "code",
   "execution_count": 11,
   "id": "47f7990c-2f0c-42ac-a26e-45a8837145c4",
   "metadata": {},
   "outputs": [
    {
     "name": "stdout",
     "output_type": "stream",
     "text": [
      "     Bulan  Luas Lahan  Luas Panen (ha)  Produksi Padi (ton/gkg)  \\\n",
      "0        1     38111.0            15.00                  9030.00   \n",
      "1        2     38111.0          1948.00               1176787.00   \n",
      "2        3     38111.0         24877.00              15172482.00   \n",
      "3        4     38111.0          5218.00               3209592.00   \n",
      "4        5     38111.0           671.00                398373.00   \n",
      "..     ...         ...              ...                      ...   \n",
      "115      8     37637.4          2254.27                 14655.14   \n",
      "116      9     37637.4          1053.19                  6836.77   \n",
      "117     10     37637.4          3522.05                 22863.35   \n",
      "118     11     37637.4          1279.25                  8304.24   \n",
      "119     12     37637.4           262.36                  1703.11   \n",
      "\n",
      "     curah hujan (mm)  \n",
      "0               343.7  \n",
      "1               201.1  \n",
      "2               262.8  \n",
      "3               197.2  \n",
      "4               206.7  \n",
      "..                ...  \n",
      "115             514.0  \n",
      "116             243.0  \n",
      "117             376.0  \n",
      "118             526.0  \n",
      "119             321.0  \n",
      "\n",
      "[120 rows x 5 columns]\n"
     ]
    }
   ],
   "source": [
    "columns_to_drop = ['Tahun']\n",
    "data = data.drop(columns_to_drop, axis=1)\n",
    "print(data)"
   ]
  },
  {
   "cell_type": "code",
   "execution_count": 12,
   "id": "7fd880a5-0ba5-4173-be23-2ee847f1f5d5",
   "metadata": {},
   "outputs": [],
   "source": [
    "# # Remove Outlier\n",
    "# from scipy import stats\n",
    "\n",
    "# y = data['Produksi Padi (ton/gkg)']\n",
    "# X = data.drop('Produksi Padi (ton/gkg)', axis=1)\n",
    "\n",
    "# z_scores = stats.zscore(X)\n",
    "# abs_z_scores = np.abs(z_scores)\n",
    "\n",
    "# filtered_entries = (abs_z_scores < 11).all(axis=1)\n",
    "# X = X[filtered_entries]\n",
    "\n",
    "# X.insert(len(X.columns), 'Produksi Padi (ton/gkg)', y)\n",
    "# data = X"
   ]
  },
  {
   "cell_type": "code",
   "execution_count": 13,
   "id": "54b98b16-aba9-431e-a5cd-2cd2e61c08e7",
   "metadata": {},
   "outputs": [],
   "source": [
    "## Parameter/Fitur\n",
    "X = data[['Bulan', 'curah hujan (mm)', 'Luas Panen (ha)','Luas Lahan']]\n",
    "## Target\n",
    "y = data['Produksi Padi (ton/gkg)']"
   ]
  },
  {
   "cell_type": "code",
   "execution_count": 14,
   "id": "8f91a3ae-2597-4179-9c76-500008a855f3",
   "metadata": {},
   "outputs": [],
   "source": [
    "# #Min Max\n",
    "# from sklearn.preprocessing import MinMaxScaler\n",
    "\n",
    "# y = data['Produksi Padi (ton/gkg)']\n",
    "# X = data.drop('Produksi Padi (ton/gkg)', axis=1)\n",
    "\n",
    "# scaler = MinMaxScaler()\n",
    "# data_without_yield = pd.DataFrame(scaler.fit_transform(X), index=y.index)\n",
    "# data_without_yield.columns = X.columns\n",
    "# data_without_yield.insert(len(data_without_yield.columns), 'Produksi Padi (ton/gkg)', y)\n",
    "\n",
    "# data = data_without_yield\n",
    "# print (data)\n",
    "\n",
    "# Standard scaler\n",
    "# from sklearn.preprocessing import StandardScaler\n",
    "\n",
    "# y = data['Produksi Padi (ton/gkg)']\n",
    "# X = data.drop('Produksi Padi (ton/gkg)', axis=1)\n",
    "\n",
    "# scaler = StandardScaler()\n",
    "# data_without_yield = pd.DataFrame(scaler.fit_transform(X), index=y.index)\n",
    "# data_without_yield.columns = X.columns\n",
    "# data_without_yield.insert(len(data_without_yield.columns), 'Produksi Padi (ton/gkg)', y)\n",
    "\n",
    "# data = data_without_yield\n",
    "# print (data)"
   ]
  },
  {
   "cell_type": "code",
   "execution_count": 15,
   "id": "c1de41d1-66ce-493a-a5b6-4d42769c41e9",
   "metadata": {},
   "outputs": [
    {
     "data": {
      "text/html": [
       "<div>\n",
       "<style scoped>\n",
       "    .dataframe tbody tr th:only-of-type {\n",
       "        vertical-align: middle;\n",
       "    }\n",
       "\n",
       "    .dataframe tbody tr th {\n",
       "        vertical-align: top;\n",
       "    }\n",
       "\n",
       "    .dataframe thead th {\n",
       "        text-align: right;\n",
       "    }\n",
       "</style>\n",
       "<table border=\"1\" class=\"dataframe\">\n",
       "  <thead>\n",
       "    <tr style=\"text-align: right;\">\n",
       "      <th></th>\n",
       "      <th>Bulan</th>\n",
       "      <th>Luas Lahan</th>\n",
       "      <th>Luas Panen (ha)</th>\n",
       "      <th>Produksi Padi (ton/gkg)</th>\n",
       "      <th>curah hujan (mm)</th>\n",
       "    </tr>\n",
       "  </thead>\n",
       "  <tbody>\n",
       "    <tr>\n",
       "      <th>0</th>\n",
       "      <td>1</td>\n",
       "      <td>38111.0</td>\n",
       "      <td>15.00</td>\n",
       "      <td>9030.00</td>\n",
       "      <td>343.7</td>\n",
       "    </tr>\n",
       "    <tr>\n",
       "      <th>1</th>\n",
       "      <td>2</td>\n",
       "      <td>38111.0</td>\n",
       "      <td>1948.00</td>\n",
       "      <td>1176787.00</td>\n",
       "      <td>201.1</td>\n",
       "    </tr>\n",
       "    <tr>\n",
       "      <th>2</th>\n",
       "      <td>3</td>\n",
       "      <td>38111.0</td>\n",
       "      <td>24877.00</td>\n",
       "      <td>15172482.00</td>\n",
       "      <td>262.8</td>\n",
       "    </tr>\n",
       "    <tr>\n",
       "      <th>3</th>\n",
       "      <td>4</td>\n",
       "      <td>38111.0</td>\n",
       "      <td>5218.00</td>\n",
       "      <td>3209592.00</td>\n",
       "      <td>197.2</td>\n",
       "    </tr>\n",
       "    <tr>\n",
       "      <th>4</th>\n",
       "      <td>5</td>\n",
       "      <td>38111.0</td>\n",
       "      <td>671.00</td>\n",
       "      <td>398373.00</td>\n",
       "      <td>206.7</td>\n",
       "    </tr>\n",
       "    <tr>\n",
       "      <th>...</th>\n",
       "      <td>...</td>\n",
       "      <td>...</td>\n",
       "      <td>...</td>\n",
       "      <td>...</td>\n",
       "      <td>...</td>\n",
       "    </tr>\n",
       "    <tr>\n",
       "      <th>115</th>\n",
       "      <td>8</td>\n",
       "      <td>37637.4</td>\n",
       "      <td>2254.27</td>\n",
       "      <td>14655.14</td>\n",
       "      <td>514.0</td>\n",
       "    </tr>\n",
       "    <tr>\n",
       "      <th>116</th>\n",
       "      <td>9</td>\n",
       "      <td>37637.4</td>\n",
       "      <td>1053.19</td>\n",
       "      <td>6836.77</td>\n",
       "      <td>243.0</td>\n",
       "    </tr>\n",
       "    <tr>\n",
       "      <th>117</th>\n",
       "      <td>10</td>\n",
       "      <td>37637.4</td>\n",
       "      <td>3522.05</td>\n",
       "      <td>22863.35</td>\n",
       "      <td>376.0</td>\n",
       "    </tr>\n",
       "    <tr>\n",
       "      <th>118</th>\n",
       "      <td>11</td>\n",
       "      <td>37637.4</td>\n",
       "      <td>1279.25</td>\n",
       "      <td>8304.24</td>\n",
       "      <td>526.0</td>\n",
       "    </tr>\n",
       "    <tr>\n",
       "      <th>119</th>\n",
       "      <td>12</td>\n",
       "      <td>37637.4</td>\n",
       "      <td>262.36</td>\n",
       "      <td>1703.11</td>\n",
       "      <td>321.0</td>\n",
       "    </tr>\n",
       "  </tbody>\n",
       "</table>\n",
       "<p>120 rows × 5 columns</p>\n",
       "</div>"
      ],
      "text/plain": [
       "     Bulan  Luas Lahan  Luas Panen (ha)  Produksi Padi (ton/gkg)  \\\n",
       "0        1     38111.0            15.00                  9030.00   \n",
       "1        2     38111.0          1948.00               1176787.00   \n",
       "2        3     38111.0         24877.00              15172482.00   \n",
       "3        4     38111.0          5218.00               3209592.00   \n",
       "4        5     38111.0           671.00                398373.00   \n",
       "..     ...         ...              ...                      ...   \n",
       "115      8     37637.4          2254.27                 14655.14   \n",
       "116      9     37637.4          1053.19                  6836.77   \n",
       "117     10     37637.4          3522.05                 22863.35   \n",
       "118     11     37637.4          1279.25                  8304.24   \n",
       "119     12     37637.4           262.36                  1703.11   \n",
       "\n",
       "     curah hujan (mm)  \n",
       "0               343.7  \n",
       "1               201.1  \n",
       "2               262.8  \n",
       "3               197.2  \n",
       "4               206.7  \n",
       "..                ...  \n",
       "115             514.0  \n",
       "116             243.0  \n",
       "117             376.0  \n",
       "118             526.0  \n",
       "119             321.0  \n",
       "\n",
       "[120 rows x 5 columns]"
      ]
     },
     "execution_count": 15,
     "metadata": {},
     "output_type": "execute_result"
    }
   ],
   "source": [
    "data"
   ]
  },
  {
   "cell_type": "code",
   "execution_count": 16,
   "id": "d24f694a-cce2-4772-9615-b6bffad873f9",
   "metadata": {},
   "outputs": [],
   "source": [
    "# pembagian data\n",
    "n_split = int(len(X) * .8)\n",
    "X = data.iloc [:n_split, :-2].values\n",
    "y= data.iloc [:n_split, -2].values\n",
    "Xtest=data.iloc[n_split:, :-2].values\n",
    "ytest=data.iloc[n_split:, -2].values"
   ]
  },
  {
   "cell_type": "code",
   "execution_count": 17,
   "id": "8874d1a3-8464-487b-b243-ff8f4790d852",
   "metadata": {
    "scrolled": true
   },
   "outputs": [],
   "source": [
    "# data.iloc[:, 3:4]"
   ]
  },
  {
   "cell_type": "code",
   "execution_count": 18,
   "id": "2830f80c-d06c-4e27-a434-50d5e5c567bc",
   "metadata": {},
   "outputs": [
    {
     "data": {
      "text/plain": [
       "array([  2514.4 ,  38615.05,  90703.72,  23672.07,   5377.67,  95596.82,\n",
       "        37155.99,  12286.86,   3529.16,  20564.27,  10208.79,   2118.79,\n",
       "          618.63, 102194.51,  90703.72,  13965.33,  14177.11, 107551.27,\n",
       "        27669.02,  14655.14,   6836.77,  22863.35,   8304.24,   1703.11])"
      ]
     },
     "execution_count": 18,
     "metadata": {},
     "output_type": "execute_result"
    }
   ],
   "source": [
    "ytest"
   ]
  },
  {
   "cell_type": "code",
   "execution_count": 19,
   "id": "1dee65c1-1d2d-4c72-a328-b76bae0ccd96",
   "metadata": {},
   "outputs": [],
   "source": [
    "model = SVR(kernel='linear')\n",
    "model.fit(X,y)\n",
    "pred=model.predict(Xtest)"
   ]
  },
  {
   "cell_type": "code",
   "execution_count": 20,
   "id": "b87fcfa6-425e-4f7b-af1d-96d056bb9bab",
   "metadata": {},
   "outputs": [
    {
     "data": {
      "text/plain": [
       "array([1.61128668e+04, 4.11219728e+04, 9.20325854e+04, 2.50072670e+04,\n",
       "       5.27612263e+03, 1.02774408e+05, 3.96290797e+04, 1.27616970e+04,\n",
       "       3.02462850e+03, 2.00884739e+04, 9.72593848e+03, 1.63184806e+03,\n",
       "       7.04884139e+01, 1.03754676e+05, 9.20325854e+04, 1.37127875e+04,\n",
       "       1.39261608e+04, 1.09177884e+05, 2.77013746e+04, 1.44331898e+04,\n",
       "       6.47490897e+03, 2.28532076e+04, 7.98693877e+03, 1.25008244e+03])"
      ]
     },
     "execution_count": 20,
     "metadata": {},
     "output_type": "execute_result"
    }
   ],
   "source": [
    "pred"
   ]
  },
  {
   "cell_type": "code",
   "execution_count": 21,
   "id": "9c11629c-9fd0-4c5d-8e3f-2688b10cdc12",
   "metadata": {},
   "outputs": [
    {
     "data": {
      "text/plain": [
       "(24,)"
      ]
     },
     "execution_count": 21,
     "metadata": {},
     "output_type": "execute_result"
    }
   ],
   "source": [
    "pred.shape"
   ]
  },
  {
   "cell_type": "code",
   "execution_count": 22,
   "id": "a7f340d0-ab16-4e2a-ae15-1a99f9c708fa",
   "metadata": {},
   "outputs": [
    {
     "name": "stdout",
     "output_type": "stream",
     "text": [
      "Mean Squared Error (MSE): 10888869.250358175\n",
      "Mean Absolute Error (MAE): 1579.6062705707475\n",
      "Mean Absolute Error (MAPE): 0.31364069954409773\n",
      "r2 Score: 0.9913242818721273\n"
     ]
    }
   ],
   "source": [
    "from sklearn.metrics import mean_squared_error\n",
    "from sklearn.metrics import mean_absolute_error\n",
    "from sklearn.metrics import r2_score\n",
    "from sklearn.metrics import mean_absolute_percentage_error\n",
    "\n",
    "# Evaluasi model\n",
    "mse = mean_squared_error(ytest, pred)\n",
    "\n",
    "mae = mean_absolute_error(ytest, pred)\n",
    "\n",
    "mape = mean_absolute_percentage_error(ytest,pred)\n",
    "\n",
    "r2 = r2_score(ytest, pred)\n",
    "\n",
    "print(f\"Mean Squared Error (MSE): {mse}\")\n",
    "print(f\"Mean Absolute Error (MAE): {mae}\")\n",
    "print(f\"Mean Absolute Error (MAPE): {mape}\")\n",
    "print(f\"r2 Score: {r2}\")"
   ]
  },
  {
   "cell_type": "code",
   "execution_count": 23,
   "id": "0cf502bb-499d-4437-a836-a1fdcc50befc",
   "metadata": {},
   "outputs": [
    {
     "data": {
      "text/plain": [
       "array([  2514.4 ,  38615.05,  90703.72,  23672.07,   5377.67,  95596.82,\n",
       "        37155.99,  12286.86,   3529.16,  20564.27,  10208.79,   2118.79,\n",
       "          618.63, 102194.51,  90703.72,  13965.33,  14177.11, 107551.27,\n",
       "        27669.02,  14655.14,   6836.77,  22863.35,   8304.24,   1703.11])"
      ]
     },
     "execution_count": 23,
     "metadata": {},
     "output_type": "execute_result"
    }
   ],
   "source": [
    "ytest"
   ]
  },
  {
   "cell_type": "code",
   "execution_count": 24,
   "id": "fc88e7fd-7ad2-4179-b03a-146d8cf3d557",
   "metadata": {},
   "outputs": [
    {
     "data": {
      "text/plain": [
       "array([1.61128668e+04, 4.11219728e+04, 9.20325854e+04, 2.50072670e+04,\n",
       "       5.27612263e+03, 1.02774408e+05, 3.96290797e+04, 1.27616970e+04,\n",
       "       3.02462850e+03, 2.00884739e+04, 9.72593848e+03, 1.63184806e+03,\n",
       "       7.04884139e+01, 1.03754676e+05, 9.20325854e+04, 1.37127875e+04,\n",
       "       1.39261608e+04, 1.09177884e+05, 2.77013746e+04, 1.44331898e+04,\n",
       "       6.47490897e+03, 2.28532076e+04, 7.98693877e+03, 1.25008244e+03])"
      ]
     },
     "execution_count": 24,
     "metadata": {},
     "output_type": "execute_result"
    }
   ],
   "source": [
    "pred"
   ]
  },
  {
   "cell_type": "code",
   "execution_count": 25,
   "id": "7e39a0de-4b56-4a2a-8ff5-96c256720aa3",
   "metadata": {},
   "outputs": [
    {
     "data": {
      "text/plain": [
       "<Figure size 640x480 with 0 Axes>"
      ]
     },
     "execution_count": 25,
     "metadata": {},
     "output_type": "execute_result"
    },
    {
     "data": {
      "image/png": "[encoded data removed]",
      "text/plain": [
       "<Figure size 640x480 with 1 Axes>"
      ]
     },
     "metadata": {},
     "output_type": "display_data"
    },
    {
     "data": {
      "text/plain": [
       "<Figure size 640x480 with 0 Axes>"
      ]
     },
     "metadata": {},
     "output_type": "display_data"
    }
   ],
   "source": [
    "a1 = range(len(Xtest))\n",
    "plt.scatter(a1, pred, color='red')\n",
    "plt.scatter(a1, ytest, color='blue')\n",
    "plt.legend([\"Prediksi\", \"Aktual\"], loc =\"upper right\") \n",
    "plt.figure()"
   ]
  },
  {
   "cell_type": "code",
   "execution_count": 26,
   "id": "bd474238-a812-4943-9120-0ed7149d6279",
   "metadata": {
    "scrolled": true
   },
   "outputs": [
    {
     "name": "stderr",
     "output_type": "stream",
     "text": [
      "/home/kimp/.local/lib/python3.10/site-packages/sklearn/base.py:458: UserWarning: X has feature names, but SVR was fitted without feature names\n",
      "  warnings.warn(\n"
     ]
    },
    {
     "ename": "ValueError",
     "evalue": "X has 16 features, but SVR is expecting 3 features as input.",
     "output_type": "error",
     "traceback": [
      "\u001b[0;31m---------------------------------------------------------------------------\u001b[0m",
      "\u001b[0;31mValueError\u001b[0m                                Traceback (most recent call last)",
      "Cell \u001b[0;32mIn[26], line 23\u001b[0m\n\u001b[1;32m     20\u001b[0m new_data \u001b[38;5;241m=\u001b[39m pd\u001b[38;5;241m.\u001b[39mget_dummies(new_data, columns\u001b[38;5;241m=\u001b[39m[\u001b[38;5;124m'\u001b[39m\u001b[38;5;124mBulan\u001b[39m\u001b[38;5;124m'\u001b[39m])\n\u001b[1;32m     22\u001b[0m \u001b[38;5;66;03m# Gunakan model untuk memprediksi produksi padi\u001b[39;00m\n\u001b[0;32m---> 23\u001b[0m predicted_production \u001b[38;5;241m=\u001b[39m \u001b[43mmodel\u001b[49m\u001b[38;5;241;43m.\u001b[39;49m\u001b[43mpredict\u001b[49m\u001b[43m(\u001b[49m\u001b[43mnew_data\u001b[49m\u001b[43m)\u001b[49m\n\u001b[1;32m     25\u001b[0m \u001b[38;5;66;03m# Tampilkan hasil prediksi\u001b[39;00m\n\u001b[1;32m     26\u001b[0m \u001b[38;5;28mprint\u001b[39m(\u001b[38;5;124mf\u001b[39m\u001b[38;5;124m'\u001b[39m\u001b[38;5;124mPrediksi Produksi Padi: \u001b[39m\u001b[38;5;132;01m{\u001b[39;00mpredicted_production[\u001b[38;5;241m0\u001b[39m]\u001b[38;5;132;01m}\u001b[39;00m\u001b[38;5;124m'\u001b[39m)\n",
      "File \u001b[0;32m~/.local/lib/python3.10/site-packages/sklearn/svm/_base.py:431\u001b[0m, in \u001b[0;36mBaseLibSVM.predict\u001b[0;34m(self, X)\u001b[0m\n\u001b[1;32m    415\u001b[0m \u001b[38;5;28;01mdef\u001b[39;00m \u001b[38;5;21mpredict\u001b[39m(\u001b[38;5;28mself\u001b[39m, X):\n\u001b[1;32m    416\u001b[0m \u001b[38;5;250m    \u001b[39m\u001b[38;5;124;03m\"\"\"Perform regression on samples in X.\u001b[39;00m\n\u001b[1;32m    417\u001b[0m \n\u001b[1;32m    418\u001b[0m \u001b[38;5;124;03m    For an one-class model, +1 (inlier) or -1 (outlier) is returned.\u001b[39;00m\n\u001b[0;32m   (...)\u001b[0m\n\u001b[1;32m    429\u001b[0m \u001b[38;5;124;03m        The predicted values.\u001b[39;00m\n\u001b[1;32m    430\u001b[0m \u001b[38;5;124;03m    \"\"\"\u001b[39;00m\n\u001b[0;32m--> 431\u001b[0m     X \u001b[38;5;241m=\u001b[39m \u001b[38;5;28;43mself\u001b[39;49m\u001b[38;5;241;43m.\u001b[39;49m\u001b[43m_validate_for_predict\u001b[49m\u001b[43m(\u001b[49m\u001b[43mX\u001b[49m\u001b[43m)\u001b[49m\n\u001b[1;32m    432\u001b[0m     predict \u001b[38;5;241m=\u001b[39m \u001b[38;5;28mself\u001b[39m\u001b[38;5;241m.\u001b[39m_sparse_predict \u001b[38;5;28;01mif\u001b[39;00m \u001b[38;5;28mself\u001b[39m\u001b[38;5;241m.\u001b[39m_sparse \u001b[38;5;28;01melse\u001b[39;00m \u001b[38;5;28mself\u001b[39m\u001b[38;5;241m.\u001b[39m_dense_predict\n\u001b[1;32m    433\u001b[0m     \u001b[38;5;28;01mreturn\u001b[39;00m predict(X)\n",
      "File \u001b[0;32m~/.local/lib/python3.10/site-packages/sklearn/svm/_base.py:611\u001b[0m, in \u001b[0;36mBaseLibSVM._validate_for_predict\u001b[0;34m(self, X)\u001b[0m\n\u001b[1;32m    608\u001b[0m check_is_fitted(\u001b[38;5;28mself\u001b[39m)\n\u001b[1;32m    610\u001b[0m \u001b[38;5;28;01mif\u001b[39;00m \u001b[38;5;129;01mnot\u001b[39;00m \u001b[38;5;28mcallable\u001b[39m(\u001b[38;5;28mself\u001b[39m\u001b[38;5;241m.\u001b[39mkernel):\n\u001b[0;32m--> 611\u001b[0m     X \u001b[38;5;241m=\u001b[39m \u001b[38;5;28;43mself\u001b[39;49m\u001b[38;5;241;43m.\u001b[39;49m\u001b[43m_validate_data\u001b[49m\u001b[43m(\u001b[49m\n\u001b[1;32m    612\u001b[0m \u001b[43m        \u001b[49m\u001b[43mX\u001b[49m\u001b[43m,\u001b[49m\n\u001b[1;32m    613\u001b[0m \u001b[43m        \u001b[49m\u001b[43maccept_sparse\u001b[49m\u001b[38;5;241;43m=\u001b[39;49m\u001b[38;5;124;43m\"\u001b[39;49m\u001b[38;5;124;43mcsr\u001b[39;49m\u001b[38;5;124;43m\"\u001b[39;49m\u001b[43m,\u001b[49m\n\u001b[1;32m    614\u001b[0m \u001b[43m        \u001b[49m\u001b[43mdtype\u001b[49m\u001b[38;5;241;43m=\u001b[39;49m\u001b[43mnp\u001b[49m\u001b[38;5;241;43m.\u001b[39;49m\u001b[43mfloat64\u001b[49m\u001b[43m,\u001b[49m\n\u001b[1;32m    615\u001b[0m \u001b[43m        \u001b[49m\u001b[43morder\u001b[49m\u001b[38;5;241;43m=\u001b[39;49m\u001b[38;5;124;43m\"\u001b[39;49m\u001b[38;5;124;43mC\u001b[39;49m\u001b[38;5;124;43m\"\u001b[39;49m\u001b[43m,\u001b[49m\n\u001b[1;32m    616\u001b[0m \u001b[43m        \u001b[49m\u001b[43maccept_large_sparse\u001b[49m\u001b[38;5;241;43m=\u001b[39;49m\u001b[38;5;28;43;01mFalse\u001b[39;49;00m\u001b[43m,\u001b[49m\n\u001b[1;32m    617\u001b[0m \u001b[43m        \u001b[49m\u001b[43mreset\u001b[49m\u001b[38;5;241;43m=\u001b[39;49m\u001b[38;5;28;43;01mFalse\u001b[39;49;00m\u001b[43m,\u001b[49m\n\u001b[1;32m    618\u001b[0m \u001b[43m    \u001b[49m\u001b[43m)\u001b[49m\n\u001b[1;32m    620\u001b[0m \u001b[38;5;28;01mif\u001b[39;00m \u001b[38;5;28mself\u001b[39m\u001b[38;5;241m.\u001b[39m_sparse \u001b[38;5;129;01mand\u001b[39;00m \u001b[38;5;129;01mnot\u001b[39;00m sp\u001b[38;5;241m.\u001b[39missparse(X):\n\u001b[1;32m    621\u001b[0m     X \u001b[38;5;241m=\u001b[39m sp\u001b[38;5;241m.\u001b[39mcsr_matrix(X)\n",
      "File \u001b[0;32m~/.local/lib/python3.10/site-packages/sklearn/base.py:626\u001b[0m, in \u001b[0;36mBaseEstimator._validate_data\u001b[0;34m(self, X, y, reset, validate_separately, cast_to_ndarray, **check_params)\u001b[0m\n\u001b[1;32m    623\u001b[0m     out \u001b[38;5;241m=\u001b[39m X, y\n\u001b[1;32m    625\u001b[0m \u001b[38;5;28;01mif\u001b[39;00m \u001b[38;5;129;01mnot\u001b[39;00m no_val_X \u001b[38;5;129;01mand\u001b[39;00m check_params\u001b[38;5;241m.\u001b[39mget(\u001b[38;5;124m\"\u001b[39m\u001b[38;5;124mensure_2d\u001b[39m\u001b[38;5;124m\"\u001b[39m, \u001b[38;5;28;01mTrue\u001b[39;00m):\n\u001b[0;32m--> 626\u001b[0m     \u001b[38;5;28;43mself\u001b[39;49m\u001b[38;5;241;43m.\u001b[39;49m\u001b[43m_check_n_features\u001b[49m\u001b[43m(\u001b[49m\u001b[43mX\u001b[49m\u001b[43m,\u001b[49m\u001b[43m \u001b[49m\u001b[43mreset\u001b[49m\u001b[38;5;241;43m=\u001b[39;49m\u001b[43mreset\u001b[49m\u001b[43m)\u001b[49m\n\u001b[1;32m    628\u001b[0m \u001b[38;5;28;01mreturn\u001b[39;00m out\n",
      "File \u001b[0;32m~/.local/lib/python3.10/site-packages/sklearn/base.py:415\u001b[0m, in \u001b[0;36mBaseEstimator._check_n_features\u001b[0;34m(self, X, reset)\u001b[0m\n\u001b[1;32m    412\u001b[0m     \u001b[38;5;28;01mreturn\u001b[39;00m\n\u001b[1;32m    414\u001b[0m \u001b[38;5;28;01mif\u001b[39;00m n_features \u001b[38;5;241m!=\u001b[39m \u001b[38;5;28mself\u001b[39m\u001b[38;5;241m.\u001b[39mn_features_in_:\n\u001b[0;32m--> 415\u001b[0m     \u001b[38;5;28;01mraise\u001b[39;00m \u001b[38;5;167;01mValueError\u001b[39;00m(\n\u001b[1;32m    416\u001b[0m         \u001b[38;5;124mf\u001b[39m\u001b[38;5;124m\"\u001b[39m\u001b[38;5;124mX has \u001b[39m\u001b[38;5;132;01m{\u001b[39;00mn_features\u001b[38;5;132;01m}\u001b[39;00m\u001b[38;5;124m features, but \u001b[39m\u001b[38;5;132;01m{\u001b[39;00m\u001b[38;5;28mself\u001b[39m\u001b[38;5;241m.\u001b[39m\u001b[38;5;18m__class__\u001b[39m\u001b[38;5;241m.\u001b[39m\u001b[38;5;18m__name__\u001b[39m\u001b[38;5;132;01m}\u001b[39;00m\u001b[38;5;124m \u001b[39m\u001b[38;5;124m\"\u001b[39m\n\u001b[1;32m    417\u001b[0m         \u001b[38;5;124mf\u001b[39m\u001b[38;5;124m\"\u001b[39m\u001b[38;5;124mis expecting \u001b[39m\u001b[38;5;132;01m{\u001b[39;00m\u001b[38;5;28mself\u001b[39m\u001b[38;5;241m.\u001b[39mn_features_in_\u001b[38;5;132;01m}\u001b[39;00m\u001b[38;5;124m features as input.\u001b[39m\u001b[38;5;124m\"\u001b[39m\n\u001b[1;32m    418\u001b[0m     )\n",
      "\u001b[0;31mValueError\u001b[0m: X has 16 features, but SVR is expecting 3 features as input."
     ]
    }
   ],
   "source": [
    "# Define the data as a list of dictionaries\n",
    "new_data = [\n",
    "    {'Tahun': 2023, 'Bulan': 'Januari', 'Luas Lahan': 35637.4, 'Luas Panen (ha)': 800},\n",
    "    {'Tahun': 2023, 'Bulan': 'Februari', 'Luas Lahan': 36637.27, 'Luas Panen (ha)': 800},\n",
    "    {'Tahun': 2023, 'Bulan': 'Maret', 'Luas Lahan': 35637.23, 'Luas Panen (ha)': 800},\n",
    "    {'Tahun': 2023, 'Bulan': 'April', 'Luas Lahan': 35637.4, 'Luas Panen (ha)': 800},\n",
    "    {'Tahun': 2023, 'Bulan': 'Mei', 'Luas Lahan': 35637.4, 'Luas Panen (ha)': 800},\n",
    "    {'Tahun': 2023, 'Bulan': 'Juni', 'Luas Lahan': 35637.4, 'Luas Panen (ha)': 800},\n",
    "    {'Tahun': 2023, 'Bulan': 'Juli', 'Luas Lahan': 35637.4, 'Luas Panen (ha)': 800},\n",
    "    {'Tahun': 2023, 'Bulan': 'Agustus', 'Luas Lahan': 35637.4, 'Luas Panen (ha)': 800},\n",
    "    {'Tahun': 2023, 'Bulan': 'September', 'Luas Lahan': 35637.4, 'Luas Panen (ha)': 800},\n",
    "    {'Tahun': 2023, 'Bulan': 'Oktober', 'Luas Lahan': 35637.4, 'Luas Panen (ha)': 800},\n",
    "    {'Tahun': 2023, 'Bulan': 'November', 'Luas Lahan': 35637.4, 'Luas Panen (ha)': 800},\n",
    "    {'Tahun': 2023, 'Bulan': 'Desember', 'Luas Lahan': 1000, 'Luas Panen (ha)': 800}\n",
    "]\n",
    "# Create a DataFrame from the list of dictionaries\n",
    "new_data = pd.DataFrame(data)\n",
    "\n",
    "# Konversi data kategoris\n",
    "new_data = pd.get_dummies(new_data, columns=['Bulan'])\n",
    "\n",
    "# Gunakan model untuk memprediksi produksi padi\n",
    "predicted_production = model.predict(new_data)\n",
    "\n",
    "# Tampilkan hasil prediksi\n",
    "print(f'Prediksi Produksi Padi: {predicted_production[0]}')"
   ]
  },
  {
   "cell_type": "code",
   "execution_count": null,
   "id": "a7e2c4c0-984a-4e7d-8894-1b699d85e782",
   "metadata": {},
   "outputs": [],
   "source": []
  }
 ],
 "metadata": {
  "kernelspec": {
   "display_name": "Python 3 (ipykernel)",
   "language": "python",
   "name": "python3"
  },
  "language_info": {
   "codemirror_mode": {
    "name": "ipython",
    "version": 3
   },
   "file_extension": ".py",
   "mimetype": "text/x-python",
   "name": "python",
   "nbconvert_exporter": "python",
   "pygments_lexer": "ipython3",
   "version": "3.10.12"
  }
 },
 "nbformat": 4,
 "nbformat_minor": 5
}
